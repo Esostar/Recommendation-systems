{
  "cells": [
    {
      "cell_type": "markdown",
      "source": [
        "![yelp2.jpg](data:image/jpeg;base64,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)"
      ],
      "metadata": {
        "id": "RHuCe77yghcv"
      }
    },
    {
      "cell_type": "markdown",
      "source": [
        "<img style =\"float:right\" src = \"https://d1vwxdpzbgdqj.cloudfront.net/s3-public-images/learning-partners/greatlearning-brand.svg\" width=15%>"
      ],
      "metadata": {
        "id": "DS7v7o7SXpR1"
      }
    },
    {
      "cell_type": "code",
      "source": [
        "from google.colab import drive\n",
        "drive.mount('/content/drive')"
      ],
      "metadata": {
        "colab": {
          "base_uri": "https://localhost:8080/"
        },
        "id": "eBOpAF-8SqkT",
        "outputId": "8a70e506-1651-4993-8b40-ec4d4b2ef21d"
      },
      "execution_count": null,
      "outputs": [
        {
          "output_type": "stream",
          "name": "stdout",
          "text": [
            "Drive already mounted at /content/drive; to attempt to forcibly remount, call drive.mount(\"/content/drive\", force_remount=True).\n"
          ]
        }
      ]
    },
    {
      "cell_type": "markdown",
      "metadata": {
        "id": "sOHvo0wD2LQ_"
      },
      "source": [
        "# **Yelp Restaurant Recommendation System**\n",
        "### ***by Ajali Augustine Esosa***\n",
        "\n",
        "---------------\n",
        "## **Context**\n",
        "---------------\n",
        "\n",
        "**Yelp** was founded in **2004** to help people find **great local businesses**. Today, the website and their mobile application publish crowd-sourced reviews about local businesses as well as certain metadata about them that can help in customer's **decision-making process**. Yelp uses automated software to recommend the **most helpful** and **reliable reviews** for the Yelp community from such a large and diverse dataset.\n",
        "\n",
        "The Yelp dataset is a large collection of user reviews, business metadata, business check-ins, users' social network data, user tips for businesses across 10 cities spread across **4 countries**. The original dataset is very huge with ~ 11GB of data. In this case study, we will only use a subset of data due to the hardware limitations.\n",
        "\n",
        "-----------------\n",
        "## **Objective**\n",
        "-----------------\n",
        "\n",
        "In this case study, we will build four types of recommendation systems:\n",
        "- **Knowledge/Rank Based recommendation system**\n",
        "- **Similarity-Based Collaborative filtering**\n",
        "- **Matrix Factorization Based Collaborative Filtering**\n",
        "- **Clustering based recommendation system**\n",
        "\n",
        "-----------------\n",
        "## **Dataset**\n",
        "-----------------\n",
        "\n",
        "Out of many attributes available in the yelp_reviews data, we will only use the following four attributes:\n",
        "- business_id\n",
        "- business_name\n",
        "- stars\n",
        "- user_id"
      ]
    },
    {
      "cell_type": "markdown",
      "source": [
        "Sometimes, the installation of the surprise library, which is used to build recommendation systems, faces issues in Jupyter. To avoid any issues, it is advised to use **Google Colab** for this case study.\n",
        "\n",
        "Let's start by mounting the Google drive on Colab."
      ],
      "metadata": {
        "id": "qgzb5unAM8mp"
      }
    },
    {
      "cell_type": "markdown",
      "metadata": {
        "id": "B6VnNBJ-2LRB"
      },
      "source": [
        "## **Importing the necessary libraries and overview of the dataset**"
      ]
    },
    {
      "cell_type": "code",
      "execution_count": null,
      "metadata": {
        "id": "ohW5c8VM2LRC"
      },
      "outputs": [],
      "source": [
        "# Used to ignore the warning given as output of the code\n",
        "import warnings\n",
        "warnings.filterwarnings('ignore')\n",
        "\n",
        "# Basic libraries of python for numeric and dataframe computations\n",
        "import numpy as np, pandas as pd\n",
        "\n",
        "# Basic library for data visualization\n",
        "import matplotlib.pyplot as plt\n",
        "\n",
        "# Slightly advanced library for data visualization\n",
        "import seaborn as sns\n",
        "\n",
        "# A dictionary output that does not raise a key error\n",
        "from collections import defaultdict\n",
        "\n",
        "# A performance metrics in sklearn\n",
        "from sklearn.metrics import mean_squared_error"
      ]
    },
    {
      "cell_type": "markdown",
      "metadata": {
        "id": "P9cIYB1Z2LRE"
      },
      "source": [
        "### **Loading the data**"
      ]
    },
    {
      "cell_type": "code",
      "execution_count": null,
      "metadata": {
        "id": "iewRv9wA2LRF"
      },
      "outputs": [],
      "source": [
        "# Importing the dataset\n",
        "url = '/content/drive/MyDrive/yelp_reviews.csv'\n",
        "yelp_review = pd.read_csv(url, usecols = ['user_id', 'business_id', 'business_name', 'stars'])\n",
        "\n",
        "# Dropping the \"business_name\" column\n",
        "data = yelp_review.drop(\"business_name\", axis = 1)"
      ]
    },
    {
      "cell_type": "markdown",
      "metadata": {
        "id": "GyZn1gSjjjEs"
      },
      "source": [
        "Let's check the **info** of the data."
      ]
    },
    {
      "cell_type": "code",
      "execution_count": null,
      "metadata": {
        "colab": {
          "base_uri": "https://localhost:8080/"
        },
        "id": "62AzehV-jjEt",
        "outputId": "eadec4f4-d343-4189-8bd2-58a00c7e6714"
      },
      "outputs": [
        {
          "output_type": "stream",
          "name": "stdout",
          "text": [
            "<class 'pandas.core.frame.DataFrame'>\n",
            "RangeIndex: 229907 entries, 0 to 229906\n",
            "Data columns (total 3 columns):\n",
            " #   Column       Non-Null Count   Dtype \n",
            "---  ------       --------------   ----- \n",
            " 0   business_id  229907 non-null  object\n",
            " 1   stars        229907 non-null  int64 \n",
            " 2   user_id      229907 non-null  object\n",
            "dtypes: int64(1), object(2)\n",
            "memory usage: 5.3+ MB\n"
          ]
        }
      ],
      "source": [
        "# This method is used to get the info of the dataframe.\n",
        "data.info()"
      ]
    },
    {
      "cell_type": "markdown",
      "metadata": {
        "id": "vXpo1IoXjjEu"
      },
      "source": [
        "- There are **2,29,907 rows** and **3 columns** in the data."
      ]
    },
    {
      "cell_type": "markdown",
      "metadata": {
        "id": "FFbQ0m-b2LRH"
      },
      "source": [
        "## **Data Exploration**\n",
        "\n",
        "Let's start with the data exploration.\n",
        "\n",
        "**We will first see the first five records of the yelp_review data.**"
      ]
    },
    {
      "cell_type": "code",
      "execution_count": null,
      "metadata": {
        "colab": {
          "base_uri": "https://localhost:8080/",
          "height": 206
        },
        "id": "9ufxAfJA2LRI",
        "outputId": "06799c35-a505-445d-f7de-391b56f40d9e"
      },
      "outputs": [
        {
          "output_type": "execute_result",
          "data": {
            "text/plain": [
              "              business_id  stars                 user_id\n",
              "0  9yKzy9PApeiPPOUJEtnvkg      5  rLtl8ZkDX5vH5nAx9C3q5Q\n",
              "1  ZRJwVLyzEJq1VAihDhYiow      5  0a2KyEL0d3Yb1V6aivbIuQ\n",
              "2  6oRAC4uyJCsJl1X0WZpVSA      4  0hT2KtfLiobPvh6cDC8JQg\n",
              "3  _1QQZuf4zZOyFCvXc0o6Vg      5  uZetl9T0NcROGOyFfughhg\n",
              "4  6ozycU1RpktNG2-1BroVtw      5  vYmM4KTsC8ZfQBg-j5MWkw"
            ],
            "text/html": [
              "\n",
              "  <div id=\"df-d6998940-0228-4449-9a61-a475869d410d\" class=\"colab-df-container\">\n",
              "    <div>\n",
              "<style scoped>\n",
              "    .dataframe tbody tr th:only-of-type {\n",
              "        vertical-align: middle;\n",
              "    }\n",
              "\n",
              "    .dataframe tbody tr th {\n",
              "        vertical-align: top;\n",
              "    }\n",
              "\n",
              "    .dataframe thead th {\n",
              "        text-align: right;\n",
              "    }\n",
              "</style>\n",
              "<table border=\"1\" class=\"dataframe\">\n",
              "  <thead>\n",
              "    <tr style=\"text-align: right;\">\n",
              "      <th></th>\n",
              "      <th>business_id</th>\n",
              "      <th>stars</th>\n",
              "      <th>user_id</th>\n",
              "    </tr>\n",
              "  </thead>\n",
              "  <tbody>\n",
              "    <tr>\n",
              "      <th>0</th>\n",
              "      <td>9yKzy9PApeiPPOUJEtnvkg</td>\n",
              "      <td>5</td>\n",
              "      <td>rLtl8ZkDX5vH5nAx9C3q5Q</td>\n",
              "    </tr>\n",
              "    <tr>\n",
              "      <th>1</th>\n",
              "      <td>ZRJwVLyzEJq1VAihDhYiow</td>\n",
              "      <td>5</td>\n",
              "      <td>0a2KyEL0d3Yb1V6aivbIuQ</td>\n",
              "    </tr>\n",
              "    <tr>\n",
              "      <th>2</th>\n",
              "      <td>6oRAC4uyJCsJl1X0WZpVSA</td>\n",
              "      <td>4</td>\n",
              "      <td>0hT2KtfLiobPvh6cDC8JQg</td>\n",
              "    </tr>\n",
              "    <tr>\n",
              "      <th>3</th>\n",
              "      <td>_1QQZuf4zZOyFCvXc0o6Vg</td>\n",
              "      <td>5</td>\n",
              "      <td>uZetl9T0NcROGOyFfughhg</td>\n",
              "    </tr>\n",
              "    <tr>\n",
              "      <th>4</th>\n",
              "      <td>6ozycU1RpktNG2-1BroVtw</td>\n",
              "      <td>5</td>\n",
              "      <td>vYmM4KTsC8ZfQBg-j5MWkw</td>\n",
              "    </tr>\n",
              "  </tbody>\n",
              "</table>\n",
              "</div>\n",
              "    <div class=\"colab-df-buttons\">\n",
              "\n",
              "  <div class=\"colab-df-container\">\n",
              "    <button class=\"colab-df-convert\" onclick=\"convertToInteractive('df-d6998940-0228-4449-9a61-a475869d410d')\"\n",
              "            title=\"Convert this dataframe to an interactive table.\"\n",
              "            style=\"display:none;\">\n",
              "\n",
              "  <svg xmlns=\"http://www.w3.org/2000/svg\" height=\"24px\" viewBox=\"0 -960 960 960\">\n",
              "    <path d=\"M120-120v-720h720v720H120Zm60-500h600v-160H180v160Zm220 220h160v-160H400v160Zm0 220h160v-160H400v160ZM180-400h160v-160H180v160Zm440 0h160v-160H620v160ZM180-180h160v-160H180v160Zm440 0h160v-160H620v160Z\"/>\n",
              "  </svg>\n",
              "    </button>\n",
              "\n",
              "  <style>\n",
              "    .colab-df-container {\n",
              "      display:flex;\n",
              "      gap: 12px;\n",
              "    }\n",
              "\n",
              "    .colab-df-convert {\n",
              "      background-color: #E8F0FE;\n",
              "      border: none;\n",
              "      border-radius: 50%;\n",
              "      cursor: pointer;\n",
              "      display: none;\n",
              "      fill: #1967D2;\n",
              "      height: 32px;\n",
              "      padding: 0 0 0 0;\n",
              "      width: 32px;\n",
              "    }\n",
              "\n",
              "    .colab-df-convert:hover {\n",
              "      background-color: #E2EBFA;\n",
              "      box-shadow: 0px 1px 2px rgba(60, 64, 67, 0.3), 0px 1px 3px 1px rgba(60, 64, 67, 0.15);\n",
              "      fill: #174EA6;\n",
              "    }\n",
              "\n",
              "    .colab-df-buttons div {\n",
              "      margin-bottom: 4px;\n",
              "    }\n",
              "\n",
              "    [theme=dark] .colab-df-convert {\n",
              "      background-color: #3B4455;\n",
              "      fill: #D2E3FC;\n",
              "    }\n",
              "\n",
              "    [theme=dark] .colab-df-convert:hover {\n",
              "      background-color: #434B5C;\n",
              "      box-shadow: 0px 1px 3px 1px rgba(0, 0, 0, 0.15);\n",
              "      filter: drop-shadow(0px 1px 2px rgba(0, 0, 0, 0.3));\n",
              "      fill: #FFFFFF;\n",
              "    }\n",
              "  </style>\n",
              "\n",
              "    <script>\n",
              "      const buttonEl =\n",
              "        document.querySelector('#df-d6998940-0228-4449-9a61-a475869d410d button.colab-df-convert');\n",
              "      buttonEl.style.display =\n",
              "        google.colab.kernel.accessAllowed ? 'block' : 'none';\n",
              "\n",
              "      async function convertToInteractive(key) {\n",
              "        const element = document.querySelector('#df-d6998940-0228-4449-9a61-a475869d410d');\n",
              "        const dataTable =\n",
              "          await google.colab.kernel.invokeFunction('convertToInteractive',\n",
              "                                                    [key], {});\n",
              "        if (!dataTable) return;\n",
              "\n",
              "        const docLinkHtml = 'Like what you see? Visit the ' +\n",
              "          '<a target=\"_blank\" href=https://colab.research.google.com/notebooks/data_table.ipynb>data table notebook</a>'\n",
              "          + ' to learn more about interactive tables.';\n",
              "        element.innerHTML = '';\n",
              "        dataTable['output_type'] = 'display_data';\n",
              "        await google.colab.output.renderOutput(dataTable, element);\n",
              "        const docLink = document.createElement('div');\n",
              "        docLink.innerHTML = docLinkHtml;\n",
              "        element.appendChild(docLink);\n",
              "      }\n",
              "    </script>\n",
              "  </div>\n",
              "\n",
              "\n",
              "<div id=\"df-33cd62e3-00d1-44e3-b407-e9f7e79f5ca0\">\n",
              "  <button class=\"colab-df-quickchart\" onclick=\"quickchart('df-33cd62e3-00d1-44e3-b407-e9f7e79f5ca0')\"\n",
              "            title=\"Suggest charts\"\n",
              "            style=\"display:none;\">\n",
              "\n",
              "<svg xmlns=\"http://www.w3.org/2000/svg\" height=\"24px\"viewBox=\"0 0 24 24\"\n",
              "     width=\"24px\">\n",
              "    <g>\n",
              "        <path d=\"M19 3H5c-1.1 0-2 .9-2 2v14c0 1.1.9 2 2 2h14c1.1 0 2-.9 2-2V5c0-1.1-.9-2-2-2zM9 17H7v-7h2v7zm4 0h-2V7h2v10zm4 0h-2v-4h2v4z\"/>\n",
              "    </g>\n",
              "</svg>\n",
              "  </button>\n",
              "\n",
              "<style>\n",
              "  .colab-df-quickchart {\n",
              "      --bg-color: #E8F0FE;\n",
              "      --fill-color: #1967D2;\n",
              "      --hover-bg-color: #E2EBFA;\n",
              "      --hover-fill-color: #174EA6;\n",
              "      --disabled-fill-color: #AAA;\n",
              "      --disabled-bg-color: #DDD;\n",
              "  }\n",
              "\n",
              "  [theme=dark] .colab-df-quickchart {\n",
              "      --bg-color: #3B4455;\n",
              "      --fill-color: #D2E3FC;\n",
              "      --hover-bg-color: #434B5C;\n",
              "      --hover-fill-color: #FFFFFF;\n",
              "      --disabled-bg-color: #3B4455;\n",
              "      --disabled-fill-color: #666;\n",
              "  }\n",
              "\n",
              "  .colab-df-quickchart {\n",
              "    background-color: var(--bg-color);\n",
              "    border: none;\n",
              "    border-radius: 50%;\n",
              "    cursor: pointer;\n",
              "    display: none;\n",
              "    fill: var(--fill-color);\n",
              "    height: 32px;\n",
              "    padding: 0;\n",
              "    width: 32px;\n",
              "  }\n",
              "\n",
              "  .colab-df-quickchart:hover {\n",
              "    background-color: var(--hover-bg-color);\n",
              "    box-shadow: 0 1px 2px rgba(60, 64, 67, 0.3), 0 1px 3px 1px rgba(60, 64, 67, 0.15);\n",
              "    fill: var(--button-hover-fill-color);\n",
              "  }\n",
              "\n",
              "  .colab-df-quickchart-complete:disabled,\n",
              "  .colab-df-quickchart-complete:disabled:hover {\n",
              "    background-color: var(--disabled-bg-color);\n",
              "    fill: var(--disabled-fill-color);\n",
              "    box-shadow: none;\n",
              "  }\n",
              "\n",
              "  .colab-df-spinner {\n",
              "    border: 2px solid var(--fill-color);\n",
              "    border-color: transparent;\n",
              "    border-bottom-color: var(--fill-color);\n",
              "    animation:\n",
              "      spin 1s steps(1) infinite;\n",
              "  }\n",
              "\n",
              "  @keyframes spin {\n",
              "    0% {\n",
              "      border-color: transparent;\n",
              "      border-bottom-color: var(--fill-color);\n",
              "      border-left-color: var(--fill-color);\n",
              "    }\n",
              "    20% {\n",
              "      border-color: transparent;\n",
              "      border-left-color: var(--fill-color);\n",
              "      border-top-color: var(--fill-color);\n",
              "    }\n",
              "    30% {\n",
              "      border-color: transparent;\n",
              "      border-left-color: var(--fill-color);\n",
              "      border-top-color: var(--fill-color);\n",
              "      border-right-color: var(--fill-color);\n",
              "    }\n",
              "    40% {\n",
              "      border-color: transparent;\n",
              "      border-right-color: var(--fill-color);\n",
              "      border-top-color: var(--fill-color);\n",
              "    }\n",
              "    60% {\n",
              "      border-color: transparent;\n",
              "      border-right-color: var(--fill-color);\n",
              "    }\n",
              "    80% {\n",
              "      border-color: transparent;\n",
              "      border-right-color: var(--fill-color);\n",
              "      border-bottom-color: var(--fill-color);\n",
              "    }\n",
              "    90% {\n",
              "      border-color: transparent;\n",
              "      border-bottom-color: var(--fill-color);\n",
              "    }\n",
              "  }\n",
              "</style>\n",
              "\n",
              "  <script>\n",
              "    async function quickchart(key) {\n",
              "      const quickchartButtonEl =\n",
              "        document.querySelector('#' + key + ' button');\n",
              "      quickchartButtonEl.disabled = true;  // To prevent multiple clicks.\n",
              "      quickchartButtonEl.classList.add('colab-df-spinner');\n",
              "      try {\n",
              "        const charts = await google.colab.kernel.invokeFunction(\n",
              "            'suggestCharts', [key], {});\n",
              "      } catch (error) {\n",
              "        console.error('Error during call to suggestCharts:', error);\n",
              "      }\n",
              "      quickchartButtonEl.classList.remove('colab-df-spinner');\n",
              "      quickchartButtonEl.classList.add('colab-df-quickchart-complete');\n",
              "    }\n",
              "    (() => {\n",
              "      let quickchartButtonEl =\n",
              "        document.querySelector('#df-33cd62e3-00d1-44e3-b407-e9f7e79f5ca0 button');\n",
              "      quickchartButtonEl.style.display =\n",
              "        google.colab.kernel.accessAllowed ? 'block' : 'none';\n",
              "    })();\n",
              "  </script>\n",
              "</div>\n",
              "\n",
              "    </div>\n",
              "  </div>\n"
            ],
            "application/vnd.google.colaboratory.intrinsic+json": {
              "type": "dataframe",
              "variable_name": "data"
            }
          },
          "metadata": {},
          "execution_count": 5
        }
      ],
      "source": [
        "# The head method is used to display the first five records of the dataset\n",
        "data.head()"
      ]
    },
    {
      "cell_type": "markdown",
      "metadata": {
        "id": "JYtlN9YUjjEv"
      },
      "source": [
        "#### **Describe the distribution of ratings**"
      ]
    },
    {
      "cell_type": "code",
      "execution_count": null,
      "metadata": {
        "colab": {
          "base_uri": "https://localhost:8080/",
          "height": 484
        },
        "id": "CUrLRQ_ROcPF",
        "outputId": "cb4a12ad-4e23-444e-be75-07f5db0c63bf"
      },
      "outputs": [
        {
          "output_type": "display_data",
          "data": {
            "text/plain": [
              "<Figure size 1200x500 with 1 Axes>"
            ],
            "image/png": "[encoded data removed]"
          },
          "metadata": {}
        }
      ],
      "source": [
        "# Fix the figure size\n",
        "plt.figure(figsize = (12, 5))\n",
        "\n",
        "ax = sns.countplot(x = \"stars\", data = data)\n",
        "\n",
        "plt.tick_params(labelsize = 10)\n",
        "\n",
        "plt.title(\"Distribution of Ratings \", fontsize = 10)\n",
        "\n",
        "# Set the xlabel of the plot\n",
        "plt.xlabel(\"Ratings\", fontsize = 10)\n",
        "\n",
        "# Set the ylabel of the plot\n",
        "plt.ylabel(\"Number of Ratings\", fontsize = 10)\n",
        "\n",
        "# Display the plot\n",
        "plt.show()"
      ]
    },
    {
      "cell_type": "markdown",
      "metadata": {
        "id": "CSVbvZIKjjEw"
      },
      "source": [
        "**Observations:**\n",
        "\n",
        "* The data seems to be **highly skewed** towards Rating **'4' and '5'**. Rating **'5'** is the second-highest in the count and nearly the same as the number of 4 rating count.\n",
        "\n",
        "* We can see very few people are giving ratings **between 1 to 3**. It shows people tend to **not give a rating** for a restaurant that they **don't like**."
      ]
    },
    {
      "cell_type": "markdown",
      "metadata": {
        "id": "0RuNopldN13K"
      },
      "source": [
        "##### **What is the total number of unique users and unique restaurants**?"
      ]
    },
    {
      "cell_type": "code",
      "execution_count": null,
      "metadata": {
        "colab": {
          "base_uri": "https://localhost:8080/"
        },
        "id": "YOZ6XVLFO0Gp",
        "outputId": "d1fb9fed-a1d5-4594-a3b0-c711d9f4275d"
      },
      "outputs": [
        {
          "output_type": "execute_result",
          "data": {
            "text/plain": [
              "45981"
            ]
          },
          "metadata": {},
          "execution_count": 7
        }
      ],
      "source": [
        "# Number of unique users\n",
        "data['user_id'].nunique()"
      ]
    },
    {
      "cell_type": "code",
      "execution_count": null,
      "metadata": {
        "colab": {
          "base_uri": "https://localhost:8080/"
        },
        "id": "TIWPpCYQPO3r",
        "outputId": "15ddb80f-0154-41cd-aee2-2ab78487ca85"
      },
      "outputs": [
        {
          "output_type": "execute_result",
          "data": {
            "text/plain": [
              "11537"
            ]
          },
          "metadata": {},
          "execution_count": 8
        }
      ],
      "source": [
        "# Number of unique restaurants\n",
        "data['business_id'].nunique()"
      ]
    },
    {
      "cell_type": "markdown",
      "metadata": {
        "id": "rGEyKaQGPZ1G"
      },
      "source": [
        "**Observations:**\n",
        "- There are **45,981 unique users** in the dataset.\n",
        "- There are **11,537 unique restaurants** in the dataset.\n",
        "- As per the number of unique users and restaurants, there is a **possibility of 45,981 * 11,537 = ~53 x 10^7 ratings** in the dataset. But **we only have 2,29,907 ratings**, i.e., not every user has rated every restaurant in the dataset. And we can build a recommendation system to recommend a restaurant to users which they have not visited."
      ]
    },
    {
      "cell_type": "markdown",
      "metadata": {
        "id": "MwpzHxsOjjEx"
      },
      "source": [
        "#### **Is there any restaurant that has been visited more than once by the same user?**"
      ]
    },
    {
      "cell_type": "code",
      "execution_count": null,
      "metadata": {
        "colab": {
          "base_uri": "https://localhost:8080/"
        },
        "id": "JkARqCs5ThYp",
        "outputId": "34e71ba0-abc2-4fe9-d997-0ff233bae5ab"
      },
      "outputs": [
        {
          "output_type": "execute_result",
          "data": {
            "text/plain": [
              "229907"
            ]
          },
          "metadata": {},
          "execution_count": 9
        }
      ],
      "source": [
        "# Find the sum of total ratings count by each user restaurant pair\n",
        "data.groupby(['user_id', 'business_id']).count()['stars'].sum()"
      ]
    },
    {
      "cell_type": "markdown",
      "metadata": {
        "id": "rCphg_XYTdhw"
      },
      "source": [
        "- The **sum is equal to the total number of observations** which implies **there is only interaction between a pair of restaurants and a user**."
      ]
    },
    {
      "cell_type": "markdown",
      "metadata": {
        "id": "kRzTNcF4UOZe"
      },
      "source": [
        "#### **Which restaurant is the most reviewed restaurant in the dataset?**"
      ]
    },
    {
      "cell_type": "code",
      "execution_count": null,
      "metadata": {
        "colab": {
          "base_uri": "https://localhost:8080/",
          "height": 490
        },
        "id": "c9alX6NvUWM9",
        "outputId": "6538956b-4127-4b17-acc6-b8cf6d9e0d67"
      },
      "outputs": [
        {
          "output_type": "execute_result",
          "data": {
            "text/plain": [
              "business_id\n",
              "hW0Ne_HTHEAgGF1rAdmR-g    844\n",
              "VVeogjZya58oiTxK7qUjAQ    794\n",
              "JokKtdXU7zXHcr20Lrk29A    731\n",
              "ntN85eu27C04nwyPa8IHtw    679\n",
              "EWMwV5V9BxNs_U6nNVMeqw    645\n",
              "                         ... \n",
              "-NbEHP2GHFNb5PnmJnd4qQ      3\n",
              "QICgwHWhXIbihfcMKtws8g      3\n",
              "sAwxt4I4gTiL-08nyarJbg      3\n",
              "huzUWI5YqkJEEIudo0YiDg      3\n",
              "SeCVec3f91bEdosAILE4JA      3\n",
              "Name: count, Length: 11537, dtype: int64"
            ],
            "text/html": [
              "<div>\n",
              "<style scoped>\n",
              "    .dataframe tbody tr th:only-of-type {\n",
              "        vertical-align: middle;\n",
              "    }\n",
              "\n",
              "    .dataframe tbody tr th {\n",
              "        vertical-align: top;\n",
              "    }\n",
              "\n",
              "    .dataframe thead th {\n",
              "        text-align: right;\n",
              "    }\n",
              "</style>\n",
              "<table border=\"1\" class=\"dataframe\">\n",
              "  <thead>\n",
              "    <tr style=\"text-align: right;\">\n",
              "      <th></th>\n",
              "      <th>count</th>\n",
              "    </tr>\n",
              "    <tr>\n",
              "      <th>business_id</th>\n",
              "      <th></th>\n",
              "    </tr>\n",
              "  </thead>\n",
              "  <tbody>\n",
              "    <tr>\n",
              "      <th>hW0Ne_HTHEAgGF1rAdmR-g</th>\n",
              "      <td>844</td>\n",
              "    </tr>\n",
              "    <tr>\n",
              "      <th>VVeogjZya58oiTxK7qUjAQ</th>\n",
              "      <td>794</td>\n",
              "    </tr>\n",
              "    <tr>\n",
              "      <th>JokKtdXU7zXHcr20Lrk29A</th>\n",
              "      <td>731</td>\n",
              "    </tr>\n",
              "    <tr>\n",
              "      <th>ntN85eu27C04nwyPa8IHtw</th>\n",
              "      <td>679</td>\n",
              "    </tr>\n",
              "    <tr>\n",
              "      <th>EWMwV5V9BxNs_U6nNVMeqw</th>\n",
              "      <td>645</td>\n",
              "    </tr>\n",
              "    <tr>\n",
              "      <th>...</th>\n",
              "      <td>...</td>\n",
              "    </tr>\n",
              "    <tr>\n",
              "      <th>-NbEHP2GHFNb5PnmJnd4qQ</th>\n",
              "      <td>3</td>\n",
              "    </tr>\n",
              "    <tr>\n",
              "      <th>QICgwHWhXIbihfcMKtws8g</th>\n",
              "      <td>3</td>\n",
              "    </tr>\n",
              "    <tr>\n",
              "      <th>sAwxt4I4gTiL-08nyarJbg</th>\n",
              "      <td>3</td>\n",
              "    </tr>\n",
              "    <tr>\n",
              "      <th>huzUWI5YqkJEEIudo0YiDg</th>\n",
              "      <td>3</td>\n",
              "    </tr>\n",
              "    <tr>\n",
              "      <th>SeCVec3f91bEdosAILE4JA</th>\n",
              "      <td>3</td>\n",
              "    </tr>\n",
              "  </tbody>\n",
              "</table>\n",
              "<p>11537 rows × 1 columns</p>\n",
              "</div><br><label><b>dtype:</b> int64</label>"
            ]
          },
          "metadata": {},
          "execution_count": 10
        }
      ],
      "source": [
        "data['business_id'].value_counts()"
      ]
    },
    {
      "cell_type": "markdown",
      "metadata": {
        "id": "-prdXG21UcPa"
      },
      "source": [
        "**Observations:**\n",
        "- The **restaurant with business_id hW0Ne_HTHEAgGF1rAdmR-g  has been interacted by most users** which is **844** times.\n",
        "- But still, there is a possibility of **45,981-844 = 45,137** more interactions as we have **45,981** unique users in our dataset. For those  **remaining users**, we can build a **recommendation system** to predict who is most likely to visit this restaurant.\n",
        "\n",
        "Also, out of these **844 interactions**, we need to consider the distribution of ratings as well to check whether this restaurant is the **most liked or most disliked restaurant**."
      ]
    },
    {
      "cell_type": "code",
      "execution_count": null,
      "metadata": {
        "colab": {
          "base_uri": "https://localhost:8080/",
          "height": 614
        },
        "id": "GpDBZPQZVsj4",
        "outputId": "07f460dd-f194-40b5-98bc-6e0201150429"
      },
      "outputs": [
        {
          "output_type": "display_data",
          "data": {
            "text/plain": [
              "<Figure size 700x700 with 1 Axes>"
            ],
            "image/png": "[encoded data removed]"
          },
          "metadata": {}
        }
      ],
      "source": [
        "# Plotting distributions of ratings for 844 interactions with given business_id\n",
        "plt.figure(figsize = (7, 7))\n",
        "\n",
        "data[data['business_id'] == \"hW0Ne_HTHEAgGF1rAdmR-g\"]['stars'].value_counts().plot(kind = 'bar')\n",
        "\n",
        "# Name the xlabel of the plot\n",
        "plt.xlabel('Rating')\n",
        "\n",
        "# Name the ylabel of the plot\n",
        "plt.ylabel('Count')\n",
        "\n",
        "# Display the plot\n",
        "plt.show()"
      ]
    },
    {
      "cell_type": "markdown",
      "metadata": {
        "id": "VLWBcnx9V1JA"
      },
      "source": [
        "**Observations:**\n",
        "- We can see that **this restaurant is not liked by many of the users**, as the count of ratings 3 and 4 is higher than the count of other ratings.\n",
        "- There can be restaurants with very high interactions but the count of ratings **1 and 2** may be much higher than **4 or 5** which would imply that the restaurant is disliked by the majority of the users."
      ]
    },
    {
      "cell_type": "markdown",
      "metadata": {
        "id": "n5vLBbvMXr_u"
      },
      "source": [
        "#### **Which user visited the most to any restaurant in the dataset?**"
      ]
    },
    {
      "cell_type": "code",
      "execution_count": null,
      "metadata": {
        "colab": {
          "base_uri": "https://localhost:8080/",
          "height": 490
        },
        "id": "Jdu_uCtWXx3v",
        "outputId": "4101d2af-999c-430f-98ea-75832881de26"
      },
      "outputs": [
        {
          "output_type": "execute_result",
          "data": {
            "text/plain": [
              "user_id\n",
              "fczQCSmaWF78toLEmb0Zsw    588\n",
              "90a6z--_CUrl84aCzZyPsg    506\n",
              "0CMz8YaO3f8xu4KqQgKb9Q    473\n",
              "4ozupHULqGyO42s3zNUzOQ    442\n",
              "joIzw_aUiNvBTuGoytrH7g    392\n",
              "                         ... \n",
              "Oh9OOyDSGf4eNWGiNazh8g      1\n",
              "Np9IEqnLmhRB2T5jumPTGw      1\n",
              "g0-ejhzvo0ELNp04cUKWDg      1\n",
              "M0lyA1jF0zrXZr5TXlioTQ      1\n",
              "dDNfSFT0VApxPmURclX6_g      1\n",
              "Name: count, Length: 45981, dtype: int64"
            ],
            "text/html": [
              "<div>\n",
              "<style scoped>\n",
              "    .dataframe tbody tr th:only-of-type {\n",
              "        vertical-align: middle;\n",
              "    }\n",
              "\n",
              "    .dataframe tbody tr th {\n",
              "        vertical-align: top;\n",
              "    }\n",
              "\n",
              "    .dataframe thead th {\n",
              "        text-align: right;\n",
              "    }\n",
              "</style>\n",
              "<table border=\"1\" class=\"dataframe\">\n",
              "  <thead>\n",
              "    <tr style=\"text-align: right;\">\n",
              "      <th></th>\n",
              "      <th>count</th>\n",
              "    </tr>\n",
              "    <tr>\n",
              "      <th>user_id</th>\n",
              "      <th></th>\n",
              "    </tr>\n",
              "  </thead>\n",
              "  <tbody>\n",
              "    <tr>\n",
              "      <th>fczQCSmaWF78toLEmb0Zsw</th>\n",
              "      <td>588</td>\n",
              "    </tr>\n",
              "    <tr>\n",
              "      <th>90a6z--_CUrl84aCzZyPsg</th>\n",
              "      <td>506</td>\n",
              "    </tr>\n",
              "    <tr>\n",
              "      <th>0CMz8YaO3f8xu4KqQgKb9Q</th>\n",
              "      <td>473</td>\n",
              "    </tr>\n",
              "    <tr>\n",
              "      <th>4ozupHULqGyO42s3zNUzOQ</th>\n",
              "      <td>442</td>\n",
              "    </tr>\n",
              "    <tr>\n",
              "      <th>joIzw_aUiNvBTuGoytrH7g</th>\n",
              "      <td>392</td>\n",
              "    </tr>\n",
              "    <tr>\n",
              "      <th>...</th>\n",
              "      <td>...</td>\n",
              "    </tr>\n",
              "    <tr>\n",
              "      <th>Oh9OOyDSGf4eNWGiNazh8g</th>\n",
              "      <td>1</td>\n",
              "    </tr>\n",
              "    <tr>\n",
              "      <th>Np9IEqnLmhRB2T5jumPTGw</th>\n",
              "      <td>1</td>\n",
              "    </tr>\n",
              "    <tr>\n",
              "      <th>g0-ejhzvo0ELNp04cUKWDg</th>\n",
              "      <td>1</td>\n",
              "    </tr>\n",
              "    <tr>\n",
              "      <th>M0lyA1jF0zrXZr5TXlioTQ</th>\n",
              "      <td>1</td>\n",
              "    </tr>\n",
              "    <tr>\n",
              "      <th>dDNfSFT0VApxPmURclX6_g</th>\n",
              "      <td>1</td>\n",
              "    </tr>\n",
              "  </tbody>\n",
              "</table>\n",
              "<p>45981 rows × 1 columns</p>\n",
              "</div><br><label><b>dtype:</b> int64</label>"
            ]
          },
          "metadata": {},
          "execution_count": 12
        }
      ],
      "source": [
        "data['user_id'].value_counts()"
      ]
    },
    {
      "cell_type": "markdown",
      "metadata": {
        "id": "l1H6aArqX4-R"
      },
      "source": [
        "**Observations:**\n",
        "- The user with **user_id fczQCSmaWF78toLEmb0Zsw** has interacted with the most number of restaurants, i.e., **588** times.\n",
        "- But still, there is a possibility of **11,537-588 =  10,949** more interactions as we have **11,537 unique restaurants** in our dataset. For those **10,949** remaining restaurants, we can build a recommendation system to predict which restaurants are most likely to be reviewed by this user."
      ]
    },
    {
      "cell_type": "markdown",
      "metadata": {
        "id": "ASHgxEy7jjE0"
      },
      "source": [
        "**As this dataset is very large and has 2,29,907 observations, it is not computationally possible to build a model using this. Moreover, many users have only rated a few restaurants and also some restaurants are rated by very less users. Hence we can reduce the dataset by considering certain Logical assumptions.**\n",
        "\n",
        "Here, We will be taking users who have given at least 100 ratings, as we prefer to have some number of ratings of a restaurant."
      ]
    },
    {
      "cell_type": "code",
      "execution_count": null,
      "metadata": {
        "id": "bFPuhsFTjjE0"
      },
      "outputs": [],
      "source": [
        "# Get the column containing the users\n",
        "users = data.user_id\n",
        "\n",
        "# Create a dictionary from users to their number of ratings\n",
        "ratings_count = dict()\n",
        "\n",
        "for user in users:\n",
        "    # If we already have the user, just add 1 to their rating count\n",
        "    if user in ratings_count:\n",
        "        ratings_count[user] += 1\n",
        "    # Otherwise, set their rating count to 1\n",
        "    else:\n",
        "        ratings_count[user] = 1"
      ]
    },
    {
      "cell_type": "code",
      "execution_count": null,
      "metadata": {
        "id": "KXq1ERpmjjE0"
      },
      "outputs": [],
      "source": [
        "# We want our users to have at least 100 ratings to be considered\n",
        "RATINGS_CUTOFF = 100\n",
        "\n",
        "remove_users = []\n",
        "\n",
        "for user, num_ratings in ratings_count.items():\n",
        "    if num_ratings < RATINGS_CUTOFF:\n",
        "        remove_users.append(user)\n",
        "df_final = data.loc[ ~ data.user_id.isin(remove_users)]"
      ]
    },
    {
      "cell_type": "markdown",
      "metadata": {
        "id": "bY1YCD83jjE2"
      },
      "source": [
        "**As we have now explored the data, let's start building the Recommendation systems**\n",
        "\n",
        "## Model 1: **Building Rank-Based Recommendation System**"
      ]
    },
    {
      "cell_type": "markdown",
      "metadata": {
        "id": "39OHK_btdUZi"
      },
      "source": [
        "Rank-based recommendation system provides recommendations based on the most popular items. This kind of recommendation system is useful when we have **cold start** problems. Cold start refers to the issue when **we get a new user into the system** and the machine is not able to recommend a restaurant to the new user, as the user did not have any historical interactions in the dataset. In those cases, we can use a rank-based recommendation system to recommend a restaurant to the new user."
      ]
    },
    {
      "cell_type": "markdown",
      "metadata": {
        "id": "ni97omaOdfEs"
      },
      "source": [
        "To build the rank-based recommendation system, we take the **average** of all the ratings provided to each restaurant and then rank them based on their average rating."
      ]
    },
    {
      "cell_type": "code",
      "source": [
        "# Convert the 'stars' column to numeric, coercing errors to NaN\n",
        "data['stars'] = pd.to_numeric(data['stars'], errors='coerce')\n",
        "\n",
        "# Drop rows with NaN in 'stars' after conversion\n",
        "data = data.dropna(subset=['stars'])\n",
        "\n",
        "# Calculate average ratings\n",
        "average_rating = data.groupby('business_id')['stars'].mean()\n",
        "\n",
        "# Calculate the count of ratings\n",
        "count_rating = data.groupby('business_id')['stars'].count()\n",
        "\n",
        "# Create a dataframe with the count and average of ratings\n",
        "final_rating = pd.DataFrame({'avg_rating': average_rating, 'rating_count': count_rating})\n",
        "\n",
        "final_rating.head()\n"
      ],
      "metadata": {
        "colab": {
          "base_uri": "https://localhost:8080/",
          "height": 238
        },
        "id": "W6Z1mcc-c0qE",
        "outputId": "49905503-d6aa-41f4-dc82-ad3ae83790d5"
      },
      "execution_count": null,
      "outputs": [
        {
          "output_type": "execute_result",
          "data": {
            "text/plain": [
              "                        avg_rating  rating_count\n",
              "business_id                                     \n",
              "--5jkZ3-nUPZxUvtcbr8Uw    4.545455            11\n",
              "--BlvDO_RG2yElKu9XA1_g    4.162162            37\n",
              "-0D_CYhlD2ILkmLR0pBmnA    4.000000             5\n",
              "-0QBrNvhrPQCaeo7mTo0zQ    4.333333             3\n",
              "-0bUDim5OGuv8R0Qqq6J4A    2.333333             6"
            ],
            "text/html": [
              "\n",
              "  <div id=\"df-619ea17f-b86a-4eb7-9da0-e8a25c59dc14\" class=\"colab-df-container\">\n",
              "    <div>\n",
              "<style scoped>\n",
              "    .dataframe tbody tr th:only-of-type {\n",
              "        vertical-align: middle;\n",
              "    }\n",
              "\n",
              "    .dataframe tbody tr th {\n",
              "        vertical-align: top;\n",
              "    }\n",
              "\n",
              "    .dataframe thead th {\n",
              "        text-align: right;\n",
              "    }\n",
              "</style>\n",
              "<table border=\"1\" class=\"dataframe\">\n",
              "  <thead>\n",
              "    <tr style=\"text-align: right;\">\n",
              "      <th></th>\n",
              "      <th>avg_rating</th>\n",
              "      <th>rating_count</th>\n",
              "    </tr>\n",
              "    <tr>\n",
              "      <th>business_id</th>\n",
              "      <th></th>\n",
              "      <th></th>\n",
              "    </tr>\n",
              "  </thead>\n",
              "  <tbody>\n",
              "    <tr>\n",
              "      <th>--5jkZ3-nUPZxUvtcbr8Uw</th>\n",
              "      <td>4.545455</td>\n",
              "      <td>11</td>\n",
              "    </tr>\n",
              "    <tr>\n",
              "      <th>--BlvDO_RG2yElKu9XA1_g</th>\n",
              "      <td>4.162162</td>\n",
              "      <td>37</td>\n",
              "    </tr>\n",
              "    <tr>\n",
              "      <th>-0D_CYhlD2ILkmLR0pBmnA</th>\n",
              "      <td>4.000000</td>\n",
              "      <td>5</td>\n",
              "    </tr>\n",
              "    <tr>\n",
              "      <th>-0QBrNvhrPQCaeo7mTo0zQ</th>\n",
              "      <td>4.333333</td>\n",
              "      <td>3</td>\n",
              "    </tr>\n",
              "    <tr>\n",
              "      <th>-0bUDim5OGuv8R0Qqq6J4A</th>\n",
              "      <td>2.333333</td>\n",
              "      <td>6</td>\n",
              "    </tr>\n",
              "  </tbody>\n",
              "</table>\n",
              "</div>\n",
              "    <div class=\"colab-df-buttons\">\n",
              "\n",
              "  <div class=\"colab-df-container\">\n",
              "    <button class=\"colab-df-convert\" onclick=\"convertToInteractive('df-619ea17f-b86a-4eb7-9da0-e8a25c59dc14')\"\n",
              "            title=\"Convert this dataframe to an interactive table.\"\n",
              "            style=\"display:none;\">\n",
              "\n",
              "  <svg xmlns=\"http://www.w3.org/2000/svg\" height=\"24px\" viewBox=\"0 -960 960 960\">\n",
              "    <path d=\"M120-120v-720h720v720H120Zm60-500h600v-160H180v160Zm220 220h160v-160H400v160Zm0 220h160v-160H400v160ZM180-400h160v-160H180v160Zm440 0h160v-160H620v160ZM180-180h160v-160H180v160Zm440 0h160v-160H620v160Z\"/>\n",
              "  </svg>\n",
              "    </button>\n",
              "\n",
              "  <style>\n",
              "    .colab-df-container {\n",
              "      display:flex;\n",
              "      gap: 12px;\n",
              "    }\n",
              "\n",
              "    .colab-df-convert {\n",
              "      background-color: #E8F0FE;\n",
              "      border: none;\n",
              "      border-radius: 50%;\n",
              "      cursor: pointer;\n",
              "      display: none;\n",
              "      fill: #1967D2;\n",
              "      height: 32px;\n",
              "      padding: 0 0 0 0;\n",
              "      width: 32px;\n",
              "    }\n",
              "\n",
              "    .colab-df-convert:hover {\n",
              "      background-color: #E2EBFA;\n",
              "      box-shadow: 0px 1px 2px rgba(60, 64, 67, 0.3), 0px 1px 3px 1px rgba(60, 64, 67, 0.15);\n",
              "      fill: #174EA6;\n",
              "    }\n",
              "\n",
              "    .colab-df-buttons div {\n",
              "      margin-bottom: 4px;\n",
              "    }\n",
              "\n",
              "    [theme=dark] .colab-df-convert {\n",
              "      background-color: #3B4455;\n",
              "      fill: #D2E3FC;\n",
              "    }\n",
              "\n",
              "    [theme=dark] .colab-df-convert:hover {\n",
              "      background-color: #434B5C;\n",
              "      box-shadow: 0px 1px 3px 1px rgba(0, 0, 0, 0.15);\n",
              "      filter: drop-shadow(0px 1px 2px rgba(0, 0, 0, 0.3));\n",
              "      fill: #FFFFFF;\n",
              "    }\n",
              "  </style>\n",
              "\n",
              "    <script>\n",
              "      const buttonEl =\n",
              "        document.querySelector('#df-619ea17f-b86a-4eb7-9da0-e8a25c59dc14 button.colab-df-convert');\n",
              "      buttonEl.style.display =\n",
              "        google.colab.kernel.accessAllowed ? 'block' : 'none';\n",
              "\n",
              "      async function convertToInteractive(key) {\n",
              "        const element = document.querySelector('#df-619ea17f-b86a-4eb7-9da0-e8a25c59dc14');\n",
              "        const dataTable =\n",
              "          await google.colab.kernel.invokeFunction('convertToInteractive',\n",
              "                                                    [key], {});\n",
              "        if (!dataTable) return;\n",
              "\n",
              "        const docLinkHtml = 'Like what you see? Visit the ' +\n",
              "          '<a target=\"_blank\" href=https://colab.research.google.com/notebooks/data_table.ipynb>data table notebook</a>'\n",
              "          + ' to learn more about interactive tables.';\n",
              "        element.innerHTML = '';\n",
              "        dataTable['output_type'] = 'display_data';\n",
              "        await google.colab.output.renderOutput(dataTable, element);\n",
              "        const docLink = document.createElement('div');\n",
              "        docLink.innerHTML = docLinkHtml;\n",
              "        element.appendChild(docLink);\n",
              "      }\n",
              "    </script>\n",
              "  </div>\n",
              "\n",
              "\n",
              "<div id=\"df-ad963e94-3eba-4b53-ab61-77718be00e2e\">\n",
              "  <button class=\"colab-df-quickchart\" onclick=\"quickchart('df-ad963e94-3eba-4b53-ab61-77718be00e2e')\"\n",
              "            title=\"Suggest charts\"\n",
              "            style=\"display:none;\">\n",
              "\n",
              "<svg xmlns=\"http://www.w3.org/2000/svg\" height=\"24px\"viewBox=\"0 0 24 24\"\n",
              "     width=\"24px\">\n",
              "    <g>\n",
              "        <path d=\"M19 3H5c-1.1 0-2 .9-2 2v14c0 1.1.9 2 2 2h14c1.1 0 2-.9 2-2V5c0-1.1-.9-2-2-2zM9 17H7v-7h2v7zm4 0h-2V7h2v10zm4 0h-2v-4h2v4z\"/>\n",
              "    </g>\n",
              "</svg>\n",
              "  </button>\n",
              "\n",
              "<style>\n",
              "  .colab-df-quickchart {\n",
              "      --bg-color: #E8F0FE;\n",
              "      --fill-color: #1967D2;\n",
              "      --hover-bg-color: #E2EBFA;\n",
              "      --hover-fill-color: #174EA6;\n",
              "      --disabled-fill-color: #AAA;\n",
              "      --disabled-bg-color: #DDD;\n",
              "  }\n",
              "\n",
              "  [theme=dark] .colab-df-quickchart {\n",
              "      --bg-color: #3B4455;\n",
              "      --fill-color: #D2E3FC;\n",
              "      --hover-bg-color: #434B5C;\n",
              "      --hover-fill-color: #FFFFFF;\n",
              "      --disabled-bg-color: #3B4455;\n",
              "      --disabled-fill-color: #666;\n",
              "  }\n",
              "\n",
              "  .colab-df-quickchart {\n",
              "    background-color: var(--bg-color);\n",
              "    border: none;\n",
              "    border-radius: 50%;\n",
              "    cursor: pointer;\n",
              "    display: none;\n",
              "    fill: var(--fill-color);\n",
              "    height: 32px;\n",
              "    padding: 0;\n",
              "    width: 32px;\n",
              "  }\n",
              "\n",
              "  .colab-df-quickchart:hover {\n",
              "    background-color: var(--hover-bg-color);\n",
              "    box-shadow: 0 1px 2px rgba(60, 64, 67, 0.3), 0 1px 3px 1px rgba(60, 64, 67, 0.15);\n",
              "    fill: var(--button-hover-fill-color);\n",
              "  }\n",
              "\n",
              "  .colab-df-quickchart-complete:disabled,\n",
              "  .colab-df-quickchart-complete:disabled:hover {\n",
              "    background-color: var(--disabled-bg-color);\n",
              "    fill: var(--disabled-fill-color);\n",
              "    box-shadow: none;\n",
              "  }\n",
              "\n",
              "  .colab-df-spinner {\n",
              "    border: 2px solid var(--fill-color);\n",
              "    border-color: transparent;\n",
              "    border-bottom-color: var(--fill-color);\n",
              "    animation:\n",
              "      spin 1s steps(1) infinite;\n",
              "  }\n",
              "\n",
              "  @keyframes spin {\n",
              "    0% {\n",
              "      border-color: transparent;\n",
              "      border-bottom-color: var(--fill-color);\n",
              "      border-left-color: var(--fill-color);\n",
              "    }\n",
              "    20% {\n",
              "      border-color: transparent;\n",
              "      border-left-color: var(--fill-color);\n",
              "      border-top-color: var(--fill-color);\n",
              "    }\n",
              "    30% {\n",
              "      border-color: transparent;\n",
              "      border-left-color: var(--fill-color);\n",
              "      border-top-color: var(--fill-color);\n",
              "      border-right-color: var(--fill-color);\n",
              "    }\n",
              "    40% {\n",
              "      border-color: transparent;\n",
              "      border-right-color: var(--fill-color);\n",
              "      border-top-color: var(--fill-color);\n",
              "    }\n",
              "    60% {\n",
              "      border-color: transparent;\n",
              "      border-right-color: var(--fill-color);\n",
              "    }\n",
              "    80% {\n",
              "      border-color: transparent;\n",
              "      border-right-color: var(--fill-color);\n",
              "      border-bottom-color: var(--fill-color);\n",
              "    }\n",
              "    90% {\n",
              "      border-color: transparent;\n",
              "      border-bottom-color: var(--fill-color);\n",
              "    }\n",
              "  }\n",
              "</style>\n",
              "\n",
              "  <script>\n",
              "    async function quickchart(key) {\n",
              "      const quickchartButtonEl =\n",
              "        document.querySelector('#' + key + ' button');\n",
              "      quickchartButtonEl.disabled = true;  // To prevent multiple clicks.\n",
              "      quickchartButtonEl.classList.add('colab-df-spinner');\n",
              "      try {\n",
              "        const charts = await google.colab.kernel.invokeFunction(\n",
              "            'suggestCharts', [key], {});\n",
              "      } catch (error) {\n",
              "        console.error('Error during call to suggestCharts:', error);\n",
              "      }\n",
              "      quickchartButtonEl.classList.remove('colab-df-spinner');\n",
              "      quickchartButtonEl.classList.add('colab-df-quickchart-complete');\n",
              "    }\n",
              "    (() => {\n",
              "      let quickchartButtonEl =\n",
              "        document.querySelector('#df-ad963e94-3eba-4b53-ab61-77718be00e2e button');\n",
              "      quickchartButtonEl.style.display =\n",
              "        google.colab.kernel.accessAllowed ? 'block' : 'none';\n",
              "    })();\n",
              "  </script>\n",
              "</div>\n",
              "\n",
              "    </div>\n",
              "  </div>\n"
            ],
            "application/vnd.google.colaboratory.intrinsic+json": {
              "type": "dataframe",
              "variable_name": "final_rating",
              "summary": "{\n  \"name\": \"final_rating\",\n  \"rows\": 11537,\n  \"fields\": [\n    {\n      \"column\": \"business_id\",\n      \"properties\": {\n        \"dtype\": \"string\",\n        \"num_unique_values\": 11537,\n        \"samples\": [\n          \"RE8VQAjKtowpuE9GVB1YbA\",\n          \"XGK7mKZJQtJa77Izhx6xyQ\",\n          \"A8RbfOZf9QdxU4thO7kdcg\"\n        ],\n        \"semantic_type\": \"\",\n        \"description\": \"\"\n      }\n    },\n    {\n      \"column\": \"avg_rating\",\n      \"properties\": {\n        \"dtype\": \"number\",\n        \"std\": 0.8609696051650191,\n        \"min\": 1.0,\n        \"max\": 5.0,\n        \"num_unique_values\": 1752,\n        \"samples\": [\n          4.153846153846154,\n          3.8275862068965516,\n          3.314814814814815\n        ],\n        \"semantic_type\": \"\",\n        \"description\": \"\"\n      }\n    },\n    {\n      \"column\": \"rating_count\",\n      \"properties\": {\n        \"dtype\": \"number\",\n        \"std\": 42,\n        \"min\": 3,\n        \"max\": 844,\n        \"num_unique_values\": 284,\n        \"samples\": [\n          62,\n          278,\n          72\n        ],\n        \"semantic_type\": \"\",\n        \"description\": \"\"\n      }\n    }\n  ]\n}"
            }
          },
          "metadata": {},
          "execution_count": 15
        }
      ]
    },
    {
      "cell_type": "code",
      "execution_count": null,
      "metadata": {
        "colab": {
          "base_uri": "https://localhost:8080/",
          "height": 238
        },
        "id": "4GpnSzIod5Cy",
        "outputId": "00116cc8-71a4-402c-f4a1-cb3bd295c85a"
      },
      "outputs": [
        {
          "output_type": "execute_result",
          "data": {
            "text/plain": [
              "                        avg_rating  rating_count\n",
              "business_id                                     \n",
              "--5jkZ3-nUPZxUvtcbr8Uw    4.545455            11\n",
              "--BlvDO_RG2yElKu9XA1_g    4.162162            37\n",
              "-0D_CYhlD2ILkmLR0pBmnA    4.000000             5\n",
              "-0QBrNvhrPQCaeo7mTo0zQ    4.333333             3\n",
              "-0bUDim5OGuv8R0Qqq6J4A    2.333333             6"
            ],
            "text/html": [
              "\n",
              "  <div id=\"df-42f3ab6a-dfe6-4329-921f-7dbb63cca7da\" class=\"colab-df-container\">\n",
              "    <div>\n",
              "<style scoped>\n",
              "    .dataframe tbody tr th:only-of-type {\n",
              "        vertical-align: middle;\n",
              "    }\n",
              "\n",
              "    .dataframe tbody tr th {\n",
              "        vertical-align: top;\n",
              "    }\n",
              "\n",
              "    .dataframe thead th {\n",
              "        text-align: right;\n",
              "    }\n",
              "</style>\n",
              "<table border=\"1\" class=\"dataframe\">\n",
              "  <thead>\n",
              "    <tr style=\"text-align: right;\">\n",
              "      <th></th>\n",
              "      <th>avg_rating</th>\n",
              "      <th>rating_count</th>\n",
              "    </tr>\n",
              "    <tr>\n",
              "      <th>business_id</th>\n",
              "      <th></th>\n",
              "      <th></th>\n",
              "    </tr>\n",
              "  </thead>\n",
              "  <tbody>\n",
              "    <tr>\n",
              "      <th>--5jkZ3-nUPZxUvtcbr8Uw</th>\n",
              "      <td>4.545455</td>\n",
              "      <td>11</td>\n",
              "    </tr>\n",
              "    <tr>\n",
              "      <th>--BlvDO_RG2yElKu9XA1_g</th>\n",
              "      <td>4.162162</td>\n",
              "      <td>37</td>\n",
              "    </tr>\n",
              "    <tr>\n",
              "      <th>-0D_CYhlD2ILkmLR0pBmnA</th>\n",
              "      <td>4.000000</td>\n",
              "      <td>5</td>\n",
              "    </tr>\n",
              "    <tr>\n",
              "      <th>-0QBrNvhrPQCaeo7mTo0zQ</th>\n",
              "      <td>4.333333</td>\n",
              "      <td>3</td>\n",
              "    </tr>\n",
              "    <tr>\n",
              "      <th>-0bUDim5OGuv8R0Qqq6J4A</th>\n",
              "      <td>2.333333</td>\n",
              "      <td>6</td>\n",
              "    </tr>\n",
              "  </tbody>\n",
              "</table>\n",
              "</div>\n",
              "    <div class=\"colab-df-buttons\">\n",
              "\n",
              "  <div class=\"colab-df-container\">\n",
              "    <button class=\"colab-df-convert\" onclick=\"convertToInteractive('df-42f3ab6a-dfe6-4329-921f-7dbb63cca7da')\"\n",
              "            title=\"Convert this dataframe to an interactive table.\"\n",
              "            style=\"display:none;\">\n",
              "\n",
              "  <svg xmlns=\"http://www.w3.org/2000/svg\" height=\"24px\" viewBox=\"0 -960 960 960\">\n",
              "    <path d=\"M120-120v-720h720v720H120Zm60-500h600v-160H180v160Zm220 220h160v-160H400v160Zm0 220h160v-160H400v160ZM180-400h160v-160H180v160Zm440 0h160v-160H620v160ZM180-180h160v-160H180v160Zm440 0h160v-160H620v160Z\"/>\n",
              "  </svg>\n",
              "    </button>\n",
              "\n",
              "  <style>\n",
              "    .colab-df-container {\n",
              "      display:flex;\n",
              "      gap: 12px;\n",
              "    }\n",
              "\n",
              "    .colab-df-convert {\n",
              "      background-color: #E8F0FE;\n",
              "      border: none;\n",
              "      border-radius: 50%;\n",
              "      cursor: pointer;\n",
              "      display: none;\n",
              "      fill: #1967D2;\n",
              "      height: 32px;\n",
              "      padding: 0 0 0 0;\n",
              "      width: 32px;\n",
              "    }\n",
              "\n",
              "    .colab-df-convert:hover {\n",
              "      background-color: #E2EBFA;\n",
              "      box-shadow: 0px 1px 2px rgba(60, 64, 67, 0.3), 0px 1px 3px 1px rgba(60, 64, 67, 0.15);\n",
              "      fill: #174EA6;\n",
              "    }\n",
              "\n",
              "    .colab-df-buttons div {\n",
              "      margin-bottom: 4px;\n",
              "    }\n",
              "\n",
              "    [theme=dark] .colab-df-convert {\n",
              "      background-color: #3B4455;\n",
              "      fill: #D2E3FC;\n",
              "    }\n",
              "\n",
              "    [theme=dark] .colab-df-convert:hover {\n",
              "      background-color: #434B5C;\n",
              "      box-shadow: 0px 1px 3px 1px rgba(0, 0, 0, 0.15);\n",
              "      filter: drop-shadow(0px 1px 2px rgba(0, 0, 0, 0.3));\n",
              "      fill: #FFFFFF;\n",
              "    }\n",
              "  </style>\n",
              "\n",
              "    <script>\n",
              "      const buttonEl =\n",
              "        document.querySelector('#df-42f3ab6a-dfe6-4329-921f-7dbb63cca7da button.colab-df-convert');\n",
              "      buttonEl.style.display =\n",
              "        google.colab.kernel.accessAllowed ? 'block' : 'none';\n",
              "\n",
              "      async function convertToInteractive(key) {\n",
              "        const element = document.querySelector('#df-42f3ab6a-dfe6-4329-921f-7dbb63cca7da');\n",
              "        const dataTable =\n",
              "          await google.colab.kernel.invokeFunction('convertToInteractive',\n",
              "                                                    [key], {});\n",
              "        if (!dataTable) return;\n",
              "\n",
              "        const docLinkHtml = 'Like what you see? Visit the ' +\n",
              "          '<a target=\"_blank\" href=https://colab.research.google.com/notebooks/data_table.ipynb>data table notebook</a>'\n",
              "          + ' to learn more about interactive tables.';\n",
              "        element.innerHTML = '';\n",
              "        dataTable['output_type'] = 'display_data';\n",
              "        await google.colab.output.renderOutput(dataTable, element);\n",
              "        const docLink = document.createElement('div');\n",
              "        docLink.innerHTML = docLinkHtml;\n",
              "        element.appendChild(docLink);\n",
              "      }\n",
              "    </script>\n",
              "  </div>\n",
              "\n",
              "\n",
              "<div id=\"df-95245fd6-1f3a-43e8-990e-a3ec87621744\">\n",
              "  <button class=\"colab-df-quickchart\" onclick=\"quickchart('df-95245fd6-1f3a-43e8-990e-a3ec87621744')\"\n",
              "            title=\"Suggest charts\"\n",
              "            style=\"display:none;\">\n",
              "\n",
              "<svg xmlns=\"http://www.w3.org/2000/svg\" height=\"24px\"viewBox=\"0 0 24 24\"\n",
              "     width=\"24px\">\n",
              "    <g>\n",
              "        <path d=\"M19 3H5c-1.1 0-2 .9-2 2v14c0 1.1.9 2 2 2h14c1.1 0 2-.9 2-2V5c0-1.1-.9-2-2-2zM9 17H7v-7h2v7zm4 0h-2V7h2v10zm4 0h-2v-4h2v4z\"/>\n",
              "    </g>\n",
              "</svg>\n",
              "  </button>\n",
              "\n",
              "<style>\n",
              "  .colab-df-quickchart {\n",
              "      --bg-color: #E8F0FE;\n",
              "      --fill-color: #1967D2;\n",
              "      --hover-bg-color: #E2EBFA;\n",
              "      --hover-fill-color: #174EA6;\n",
              "      --disabled-fill-color: #AAA;\n",
              "      --disabled-bg-color: #DDD;\n",
              "  }\n",
              "\n",
              "  [theme=dark] .colab-df-quickchart {\n",
              "      --bg-color: #3B4455;\n",
              "      --fill-color: #D2E3FC;\n",
              "      --hover-bg-color: #434B5C;\n",
              "      --hover-fill-color: #FFFFFF;\n",
              "      --disabled-bg-color: #3B4455;\n",
              "      --disabled-fill-color: #666;\n",
              "  }\n",
              "\n",
              "  .colab-df-quickchart {\n",
              "    background-color: var(--bg-color);\n",
              "    border: none;\n",
              "    border-radius: 50%;\n",
              "    cursor: pointer;\n",
              "    display: none;\n",
              "    fill: var(--fill-color);\n",
              "    height: 32px;\n",
              "    padding: 0;\n",
              "    width: 32px;\n",
              "  }\n",
              "\n",
              "  .colab-df-quickchart:hover {\n",
              "    background-color: var(--hover-bg-color);\n",
              "    box-shadow: 0 1px 2px rgba(60, 64, 67, 0.3), 0 1px 3px 1px rgba(60, 64, 67, 0.15);\n",
              "    fill: var(--button-hover-fill-color);\n",
              "  }\n",
              "\n",
              "  .colab-df-quickchart-complete:disabled,\n",
              "  .colab-df-quickchart-complete:disabled:hover {\n",
              "    background-color: var(--disabled-bg-color);\n",
              "    fill: var(--disabled-fill-color);\n",
              "    box-shadow: none;\n",
              "  }\n",
              "\n",
              "  .colab-df-spinner {\n",
              "    border: 2px solid var(--fill-color);\n",
              "    border-color: transparent;\n",
              "    border-bottom-color: var(--fill-color);\n",
              "    animation:\n",
              "      spin 1s steps(1) infinite;\n",
              "  }\n",
              "\n",
              "  @keyframes spin {\n",
              "    0% {\n",
              "      border-color: transparent;\n",
              "      border-bottom-color: var(--fill-color);\n",
              "      border-left-color: var(--fill-color);\n",
              "    }\n",
              "    20% {\n",
              "      border-color: transparent;\n",
              "      border-left-color: var(--fill-color);\n",
              "      border-top-color: var(--fill-color);\n",
              "    }\n",
              "    30% {\n",
              "      border-color: transparent;\n",
              "      border-left-color: var(--fill-color);\n",
              "      border-top-color: var(--fill-color);\n",
              "      border-right-color: var(--fill-color);\n",
              "    }\n",
              "    40% {\n",
              "      border-color: transparent;\n",
              "      border-right-color: var(--fill-color);\n",
              "      border-top-color: var(--fill-color);\n",
              "    }\n",
              "    60% {\n",
              "      border-color: transparent;\n",
              "      border-right-color: var(--fill-color);\n",
              "    }\n",
              "    80% {\n",
              "      border-color: transparent;\n",
              "      border-right-color: var(--fill-color);\n",
              "      border-bottom-color: var(--fill-color);\n",
              "    }\n",
              "    90% {\n",
              "      border-color: transparent;\n",
              "      border-bottom-color: var(--fill-color);\n",
              "    }\n",
              "  }\n",
              "</style>\n",
              "\n",
              "  <script>\n",
              "    async function quickchart(key) {\n",
              "      const quickchartButtonEl =\n",
              "        document.querySelector('#' + key + ' button');\n",
              "      quickchartButtonEl.disabled = true;  // To prevent multiple clicks.\n",
              "      quickchartButtonEl.classList.add('colab-df-spinner');\n",
              "      try {\n",
              "        const charts = await google.colab.kernel.invokeFunction(\n",
              "            'suggestCharts', [key], {});\n",
              "      } catch (error) {\n",
              "        console.error('Error during call to suggestCharts:', error);\n",
              "      }\n",
              "      quickchartButtonEl.classList.remove('colab-df-spinner');\n",
              "      quickchartButtonEl.classList.add('colab-df-quickchart-complete');\n",
              "    }\n",
              "    (() => {\n",
              "      let quickchartButtonEl =\n",
              "        document.querySelector('#df-95245fd6-1f3a-43e8-990e-a3ec87621744 button');\n",
              "      quickchartButtonEl.style.display =\n",
              "        google.colab.kernel.accessAllowed ? 'block' : 'none';\n",
              "    })();\n",
              "  </script>\n",
              "</div>\n",
              "\n",
              "    </div>\n",
              "  </div>\n"
            ],
            "application/vnd.google.colaboratory.intrinsic+json": {
              "type": "dataframe",
              "variable_name": "final_rating",
              "summary": "{\n  \"name\": \"final_rating\",\n  \"rows\": 11537,\n  \"fields\": [\n    {\n      \"column\": \"business_id\",\n      \"properties\": {\n        \"dtype\": \"string\",\n        \"num_unique_values\": 11537,\n        \"samples\": [\n          \"RE8VQAjKtowpuE9GVB1YbA\",\n          \"XGK7mKZJQtJa77Izhx6xyQ\",\n          \"A8RbfOZf9QdxU4thO7kdcg\"\n        ],\n        \"semantic_type\": \"\",\n        \"description\": \"\"\n      }\n    },\n    {\n      \"column\": \"avg_rating\",\n      \"properties\": {\n        \"dtype\": \"number\",\n        \"std\": 0.8609696051650191,\n        \"min\": 1.0,\n        \"max\": 5.0,\n        \"num_unique_values\": 1752,\n        \"samples\": [\n          4.153846153846154,\n          3.8275862068965516,\n          3.314814814814815\n        ],\n        \"semantic_type\": \"\",\n        \"description\": \"\"\n      }\n    },\n    {\n      \"column\": \"rating_count\",\n      \"properties\": {\n        \"dtype\": \"number\",\n        \"std\": 42,\n        \"min\": 3,\n        \"max\": 844,\n        \"num_unique_values\": 284,\n        \"samples\": [\n          62,\n          278,\n          72\n        ],\n        \"semantic_type\": \"\",\n        \"description\": \"\"\n      }\n    }\n  ]\n}"
            }
          },
          "metadata": {},
          "execution_count": 16
        }
      ],
      "source": [
        "# Let us see the first 5 records of the final_rating\n",
        "final_rating.head()"
      ]
    },
    {
      "cell_type": "markdown",
      "metadata": {
        "id": "U0SjqtdKd9uw"
      },
      "source": [
        "Now, let's create a function to find the **top n restaurant** for a recommendation based on the average ratings of the restaurant. We can also add a **threshold for a minimum number of visits** for a restaurant to be considered for recommendation."
      ]
    },
    {
      "cell_type": "code",
      "execution_count": null,
      "metadata": {
        "id": "TYBO0-l6eF7m"
      },
      "outputs": [],
      "source": [
        "def top_n_restaurant(data, n, min_interaction = 100):\n",
        "\n",
        "    # Finding restautants with minimum number of interactions\n",
        "    recommendations = data[data['rating_count'] > min_interaction]\n",
        "\n",
        "    # Sorting values with respect to average rating\n",
        "    recommendations = recommendations.sort_values(by = 'avg_rating', ascending = False)\n",
        "\n",
        "    return recommendations.index[:n]"
      ]
    },
    {
      "cell_type": "markdown",
      "metadata": {
        "id": "APPrKZVCeNA3"
      },
      "source": [
        "We can **use this function with different n's and minimum interactions** to get restaurants to recommend."
      ]
    },
    {
      "cell_type": "markdown",
      "metadata": {
        "id": "3Tt5ympFegrJ"
      },
      "source": [
        "#### **Recommending top 5 restaurant with 50 minimum interactions based on popularity.**"
      ]
    },
    {
      "cell_type": "code",
      "execution_count": null,
      "metadata": {
        "colab": {
          "base_uri": "https://localhost:8080/"
        },
        "id": "XkitWq_eekn8",
        "outputId": "60d892dc-635c-4d60-9f5d-f90b488b3391"
      },
      "outputs": [
        {
          "output_type": "execute_result",
          "data": {
            "text/plain": [
              "['8HQ8clouLGgee99KkR4vXA',\n",
              " 'CKjcewWeWvdJ7TzOQbZOIw',\n",
              " '97Z7j4vH0kfzL10AONi4uA',\n",
              " '_TekkyyFeX_8MBepPIxuTg',\n",
              " 'L-uPZxooP_ziXCtRrWi8Pw']"
            ]
          },
          "metadata": {},
          "execution_count": 18
        }
      ],
      "source": [
        "list(top_n_restaurant(final_rating, 5, 50))"
      ]
    },
    {
      "cell_type": "markdown",
      "metadata": {
        "id": "8INGb5fsjjE3"
      },
      "source": [
        "Now, that we have seen **how to apply the Rank-Based Recommendation System**, let's apply the **Collaborative Filtering Based Recommendation System**."
      ]
    },
    {
      "cell_type": "markdown",
      "metadata": {
        "id": "sJI5kiiGvOOK"
      },
      "source": [
        "## **Collaborative Filtering Based Recommendation System**."
      ]
    },
    {
      "cell_type": "markdown",
      "metadata": {
        "id": "QoSujZuuvOOK"
      },
      "source": [
        "In this type of recommendation system, `we do not need any information` about the users or items. We only need user item interaction data to build a collaborative recommendation system. For example -\n",
        "<ol>\n",
        "    <li><b>Ratings</b> provided by users. For example - ratings of books on goodread, movie ratings on imdb etc.</li>\n",
        "    <li><b>Likes</b> of users on different facebook posts, likes on youtube videos.</li>\n",
        "    <li><b>Use/buying</b> of a product by users. For example - buying different items on e-commerce sites.</li>\n",
        "    <li><b>Reading</b> of articles by readers on various blogs.</li>\n",
        "</ol>"
      ]
    },
    {
      "cell_type": "markdown",
      "metadata": {
        "id": "A_3GtPzuvOOK"
      },
      "source": [
        "#### Types of Collaborative Filtering"
      ]
    },
    {
      "cell_type": "markdown",
      "metadata": {
        "id": "igZX3WbqvOOK"
      },
      "source": [
        "- Similarity/Neighborhood-based\n",
        " * User-User Similarity-Based  \n",
        " * Item-Item Similarity-based\n",
        "- Model based"
      ]
    },
    {
      "cell_type": "markdown",
      "metadata": {
        "id": "skzc0N1_nVNB"
      },
      "source": [
        "### **Building a baseline user-user similarity based recommendation system.**"
      ]
    },
    {
      "cell_type": "markdown",
      "metadata": {
        "id": "d4Uo_MYMnVNB"
      },
      "source": [
        "\n",
        "\n",
        "```\n",
        "# This is formatted as code\n",
        "```\n",
        "\n",
        "- Below we are building **similarity-based recommendation systems** using `cosine` similarity and using **KNN to find similar users** which are the nearest neighbor to the given user.  \n",
        "- We will be using a new library - `surprise` to build the remaining models, let's first import the necessary classes and functions from this library.\n",
        "- Please use the following code to `install the surprise` library. You only do it **once** while running the code for the first time.\n",
        "\n",
        "**!pip install surprise**"
      ]
    },
    {
      "cell_type": "code",
      "source": [
        "!pip install surprise"
      ],
      "metadata": {
        "colab": {
          "base_uri": "https://localhost:8080/"
        },
        "id": "VcV1HcSiA13H",
        "outputId": "3620f3b4-16f1-4b0a-b993-895948532ab2"
      },
      "execution_count": null,
      "outputs": [
        {
          "output_type": "stream",
          "name": "stdout",
          "text": [
            "Requirement already satisfied: surprise in /usr/local/lib/python3.10/dist-packages (0.1)\n",
            "Requirement already satisfied: scikit-surprise in /usr/local/lib/python3.10/dist-packages (from surprise) (1.1.4)\n",
            "Requirement already satisfied: joblib>=1.2.0 in /usr/local/lib/python3.10/dist-packages (from scikit-surprise->surprise) (1.4.2)\n",
            "Requirement already satisfied: numpy>=1.19.5 in /usr/local/lib/python3.10/dist-packages (from scikit-surprise->surprise) (1.26.4)\n",
            "Requirement already satisfied: scipy>=1.6.0 in /usr/local/lib/python3.10/dist-packages (from scikit-surprise->surprise) (1.13.1)\n"
          ]
        }
      ]
    },
    {
      "cell_type": "code",
      "execution_count": null,
      "metadata": {
        "id": "UJ1wEylUpexj"
      },
      "outputs": [],
      "source": [
        "# To compute the accuracy of models\n",
        "from surprise import accuracy\n",
        "\n",
        "# This class is used to parse a file containing ratings, data should be in structure - user; item; rating\n",
        "from surprise.reader import Reader\n",
        "\n",
        "# Class for loading datasets\n",
        "from surprise.dataset import Dataset\n",
        "\n",
        "# For tuning model hyperparameters\n",
        "from surprise.model_selection import GridSearchCV\n",
        "\n",
        "# For splitting the rating data in train and test datasets\n",
        "from surprise.model_selection import train_test_split\n",
        "\n",
        "# For implementing similarity-based recommendation system\n",
        "from surprise.prediction_algorithms.knns import KNNBasic\n",
        "\n",
        "# For implementing matrix factorization based recommendation system\n",
        "from surprise.prediction_algorithms.matrix_factorization import SVD\n",
        "\n",
        "# For implementing K-Fold cross-validation\n",
        "from surprise.model_selection import KFold\n",
        "\n",
        "# For implementing clustering-based recommendation system\n",
        "from surprise import CoClustering"
      ]
    },
    {
      "cell_type": "markdown",
      "metadata": {
        "id": "54MqVAtDTsnl"
      },
      "source": [
        "**Before building the recommendation systems, let's understand some basic terminologies we will be using here.**"
      ]
    },
    {
      "cell_type": "markdown",
      "metadata": {
        "id": "Qsxb3xhnTsnl"
      },
      "source": [
        "**Relevant item:** An item (product in this case) that is actually **rated higher than the threshold rating (here 3.5)** is relevant, if the **actual rating is below the threshold then it is a non-relevant item**.  \n",
        "\n",
        "**Recommended item:** An item that's **predicted rating is higher than the threshold (here 3.5) is a recommended item**, if the **predicted rating is below the threshold then that product will not be recommended to the user**."
      ]
    },
    {
      "cell_type": "markdown",
      "metadata": {
        "id": "imMJNF0HTsnm"
      },
      "source": [
        "**False Negative (FN):** It is the **frequency of relevant items that are not recommended to the user**. If the relevant items are not recommended to the user, then the user might not buy the product/item. This would result in the **loss of opportunity for the service provider**, which the company would like to minimize.\n",
        "\n",
        "**False Positive (FP):** It is the **frequency of recommended items that are actually not relevant**. In this case, the recommendation system is not doing a good job of finding and recommending the relevant items to the user. This would result in **loss of resources for the service provider**, which they would also like to minimize."
      ]
    },
    {
      "cell_type": "markdown",
      "source": [
        "**Recall:** It is the **fraction of actually relevant items that are recommended to the user**, i.e., if out of 10 relevant products, 6 are recommended to the user then recall is 0.60. Higher the value of recall better is the model. It is one of the metrics to do the performance assessment of classification models.\n",
        "\n",
        "**Precision:** It is the **fraction of recommended items that are relevant actually**, i.e., if out of 10 recommended items, 6 are found relevant by the user then precision is 0.60. The higher the value of precision better is the model. It is one of the metrics to do the performance assessment of classification models."
      ],
      "metadata": {
        "id": "_sxNAAcIP7uG"
      }
    },
    {
      "cell_type": "markdown",
      "source": [
        "**While making a recommendation system, it becomes customary to look at the performance of the model. In terms of how many recommendations are relevant and vice-versa, below are some most used performance metrics used in the assessment of recommendation systems.**"
      ],
      "metadata": {
        "id": "s_3YSym0P9x0"
      }
    },
    {
      "cell_type": "markdown",
      "source": [
        "### **Precision@k, Recall@ k, and F1-score@k**"
      ],
      "metadata": {
        "id": "XJT2GfniQA6p"
      }
    },
    {
      "cell_type": "markdown",
      "source": [
        "**Precision@k** - It is the **fraction of recommended items that are relevant in `top k` predictions**. The value of k is the number of recommendations to be provided to the user. One can choose a variable number of recommendations to be given to a unique user.  \n",
        "\n",
        "\n",
        "**Recall@k** - It is the **fraction of relevant items that are recommended to the user in `top k` predictions**.\n",
        "\n",
        "**F1-score@k** - It is the **harmonic mean of Precision@k and Recall@k**. When **precision@k and recall@k both seem to be important** then it is useful to use this metric because it is representative of both of them."
      ],
      "metadata": {
        "id": "XnSY425jQDLl"
      }
    },
    {
      "cell_type": "markdown",
      "metadata": {
        "id": "jBW4BUhWTsnm"
      },
      "source": [
        "### **Some useful functions**"
      ]
    },
    {
      "cell_type": "markdown",
      "metadata": {
        "id": "QOBHKh0eTsnm"
      },
      "source": [
        "- Below function takes the **recommendation model** as input and gives the **precision@k and recall@k** for that model.  \n",
        "- To compute **precision and recall**, **top k** predictions are taken under consideration for each user."
      ]
    },
    {
      "cell_type": "code",
      "execution_count": null,
      "metadata": {
        "id": "Rxn-GahOTsnm"
      },
      "outputs": [],
      "source": [
        "def precision_recall_at_k(model, k = 10, threshold = 3.5):\n",
        "    \"\"\"Returns precision and recall at k metrics for each user.\"\"\"\n",
        "\n",
        "    # First map the predictions to each user\n",
        "    user_est_true = defaultdict(list)\n",
        "\n",
        "    # Making predictions on the test data\n",
        "    predictions = model.test(testset)\n",
        "\n",
        "    for uid, _, true_r, est, _ in predictions:\n",
        "        user_est_true[uid].append((est, true_r))\n",
        "\n",
        "    precisions = dict()\n",
        "    recalls = dict()\n",
        "    for uid, user_ratings in user_est_true.items():\n",
        "\n",
        "        # Sort user ratings by estimated value\n",
        "        user_ratings.sort(key = lambda x: x[0], reverse = True)\n",
        "\n",
        "        # Number of relevant items\n",
        "        n_rel = sum((true_r >= threshold) for (_, true_r) in user_ratings)\n",
        "\n",
        "        # Number of recommended items in top k\n",
        "        n_rec_k = sum((est >= threshold) for (est, _) in user_ratings[:k])\n",
        "\n",
        "        # Number of relevant and recommended items in top k\n",
        "        n_rel_and_rec_k = sum(((true_r >= threshold) and (est >= threshold))\n",
        "                              for (est, true_r) in user_ratings[:k])\n",
        "\n",
        "        # Precision@K: Proportion of recommended items that are relevant. When n_rec_k is 0,\n",
        "        # Precision is undefined. We here set Precision to 0 when n_rec_k is 0\n",
        "\n",
        "        precisions[uid] = n_rel_and_rec_k / n_rec_k if n_rec_k != 0 else 0\n",
        "\n",
        "        # Recall@K: Proportion of relevant items that are recommended. When n_rel is 0,\n",
        "        # Recall is undefined. We here set Recall to 0 when n_rel is 0\n",
        "\n",
        "        recalls[uid] = n_rel_and_rec_k / n_rel if n_rel != 0 else 0\n",
        "\n",
        "    # Mean of all the predicted precisions are calculated\n",
        "    precision = round((sum(prec for prec in precisions.values()) / len(precisions)), 3)\n",
        "\n",
        "    # Mean of all the predicted recalls are calculated\n",
        "    recall = round((sum(rec for rec in recalls.values()) / len(recalls)), 3)\n",
        "\n",
        "    accuracy.rmse(predictions)\n",
        "\n",
        "    # Command to print the overall precision\n",
        "    print('Precision: ', precision)\n",
        "\n",
        "    # Command to print the overall recall\n",
        "    print('Recall: ', recall)\n",
        "\n",
        "    # Formula to compute the F-1 score\n",
        "    print('F_1 score: ', round((2*precision * recall) / (precision + recall), 3))"
      ]
    },
    {
      "cell_type": "markdown",
      "metadata": {
        "id": "8hxjJMTwnVNB"
      },
      "source": [
        "Below we are loading the **dataset**, which is a **pandas dataframe**, into a **different format called `surprise.dataset.DatasetAutoFolds`** which is required by this library. To do this we will be **using the classes `Reader` and `Dataset`**."
      ]
    },
    {
      "cell_type": "code",
      "execution_count": null,
      "metadata": {
        "id": "rGfYDiOCpe4X"
      },
      "outputs": [],
      "source": [
        "# Instantiating Reader scale with expected rating scale\n",
        "reader = Reader(rating_scale = (0, 5))\n",
        "\n",
        "# Loading the dataset\n",
        "data = Dataset.load_from_df(df_final[['user_id', 'business_id', 'stars']], reader)\n",
        "\n",
        "# Splitting the data into train and test datasets\n",
        "trainset, testset = train_test_split(data, test_size = 0.2, random_state = 42)"
      ]
    },
    {
      "cell_type": "markdown",
      "metadata": {
        "id": "DmHTEt7TnVNC"
      },
      "source": [
        "- Now we are **ready to build the first baseline similarity-based recommendation system** using the cosine similarity.\n",
        "- **KNNBasic** is an algorithm that is also **associated with the surprise package**, it is used to find the **desired similar items among a given set of items**."
      ]
    },
    {
      "cell_type": "markdown",
      "metadata": {
        "id": "037otG9GTsnn"
      },
      "source": [
        "- To compute **precision and recall**, a **threshold of 3.5 and k value of 10 is taken for the recommended and relevant ratings**.\n",
        "- In the **present case precision and recall both need to be optimized as the service provider would like to minimize both the losses discussed** above. Hence, the correct performance measure is the **F_1 score**."
      ]
    },
    {
      "cell_type": "markdown",
      "metadata": {
        "id": "C0tUWhJEmUQB"
      },
      "source": [
        "## Model 2: **Building User-User Collaborative Filtering Model**"
      ]
    },
    {
      "cell_type": "code",
      "execution_count": null,
      "metadata": {
        "colab": {
          "base_uri": "https://localhost:8080/"
        },
        "id": "vO3FL7iape8A",
        "outputId": "a83cd888-0d7b-4d67-90f8-37755837a93a",
        "scrolled": false
      },
      "outputs": [
        {
          "output_type": "stream",
          "name": "stdout",
          "text": [
            "RMSE: 1.0409\n",
            "Precision:  0.773\n",
            "Recall:  0.417\n",
            "F_1 score:  0.542\n"
          ]
        }
      ],
      "source": [
        "# Declaring the similarity options\n",
        "sim_options = {'name': 'cosine',\n",
        "               'user_based': True}\n",
        "\n",
        "# KNN algorithm is used to find desired similar items\n",
        "sim_user_user = KNNBasic(sim_options = sim_options, verbose = False, random_state = 1)\n",
        "\n",
        "# Train the algorithm on the trainset, and predict ratings for the testset\n",
        "sim_user_user.fit(trainset)\n",
        "\n",
        "# Let us compute precision@k, recall@k, and f_1 score with k = 10\n",
        "precision_recall_at_k(sim_user_user)"
      ]
    },
    {
      "cell_type": "markdown",
      "metadata": {
        "id": "nEuJK_A9Tsnn"
      },
      "source": [
        "- We have calculated **RMSE** to check **how far the overall predicted ratings** are from the **actual ratings**.\n",
        "- Intuition of Recall - We are getting a **recall of almost 0.42**, which means out of **all the relevant restaurants, 42% are recommended**.\n",
        "- Intuition of Precision - We are getting a **precision of almost 0.773**, which means **out of all the recommended restaurants 77.3% are relevant**.\n",
        "- Here **F_1 score** of the **baseline model is almost 0.542**. It indicates that **mostly recommended restaurants were relevant and relevant restaurants were recommended** to the user. We will try to improve this later by using **GridSearchCV by tuning different hyperparameters** of this algorithm."
      ]
    },
    {
      "cell_type": "markdown",
      "metadata": {
        "id": "reFD0-nsnVNC"
      },
      "source": [
        "Let's now **predict rating for a user with `userId = rLtl8ZkDX5vH5nAx9C3q5Q` and `businessId = 9yKzy9PApeiPPOUJEtnvkg`** as shown below."
      ]
    },
    {
      "cell_type": "code",
      "execution_count": null,
      "metadata": {
        "colab": {
          "base_uri": "https://localhost:8080/"
        },
        "id": "Sxd23bZ9pe_x",
        "outputId": "a175c953-0364-4f77-81c3-ee41835c02cd"
      },
      "outputs": [
        {
          "output_type": "stream",
          "name": "stdout",
          "text": [
            "user: rLtl8ZkDX5vH5nAx9C3q5Q item: 9yKzy9PApeiPPOUJEtnvkg r_ui = 5.00   est = 3.77   {'actual_k': 16, 'was_impossible': False}\n"
          ]
        },
        {
          "output_type": "execute_result",
          "data": {
            "text/plain": [
              "Prediction(uid='rLtl8ZkDX5vH5nAx9C3q5Q', iid='9yKzy9PApeiPPOUJEtnvkg', r_ui=5, est=3.7675091038953616, details={'actual_k': 16, 'was_impossible': False})"
            ]
          },
          "metadata": {},
          "execution_count": 24
        }
      ],
      "source": [
        "# Predicting rating for a sample user with a visited restaurant\n",
        "sim_user_user.predict(\"rLtl8ZkDX5vH5nAx9C3q5Q\", \"9yKzy9PApeiPPOUJEtnvkg\", r_ui = 5, verbose = True)"
      ]
    },
    {
      "cell_type": "markdown",
      "metadata": {
        "id": "QuVbIR3SnVNE"
      },
      "source": [
        "- The above output shows that **the actual rating for this user-item pair is 5 and the predicted rating is 3.77** by the **user-user-similarity-based baseline model**. This implies that the model is under-estimating the ratings."
      ]
    },
    {
      "cell_type": "markdown",
      "metadata": {
        "id": "EXSgq8OEnVNE"
      },
      "source": [
        "Below we are **predicting rating for the same `userId = rLtl8ZkDX5vH5nAx9C3q5Q` but for a restaurant which this user has not seen yet, i.e., `business_id = zp713qNhx8d9KCJJnrw1xA`**"
      ]
    },
    {
      "cell_type": "code",
      "execution_count": null,
      "metadata": {
        "colab": {
          "base_uri": "https://localhost:8080/"
        },
        "id": "PbFcBj1PpfEV",
        "outputId": "c265b81b-1d73-4d8d-89d9-3ce1a1599369"
      },
      "outputs": [
        {
          "output_type": "stream",
          "name": "stdout",
          "text": [
            "user: rLtl8ZkDX5vH5nAx9C3q5Q item: zp713qNhx8d9KCJJnrw1xA r_ui = None   est = 3.87   {'actual_k': 28, 'was_impossible': False}\n"
          ]
        },
        {
          "output_type": "execute_result",
          "data": {
            "text/plain": [
              "Prediction(uid='rLtl8ZkDX5vH5nAx9C3q5Q', iid='zp713qNhx8d9KCJJnrw1xA', r_ui=None, est=3.873369257511826, details={'actual_k': 28, 'was_impossible': False})"
            ]
          },
          "metadata": {},
          "execution_count": 25
        }
      ],
      "source": [
        "# Predicting rating for a sample user with a restaurant that is not-visited by the user\n",
        "sim_user_user.predict(\"rLtl8ZkDX5vH5nAx9C3q5Q\", \"zp713qNhx8d9KCJJnrw1xA\", verbose = True)"
      ]
    },
    {
      "cell_type": "markdown",
      "source": [
        "- As we can see the estimated rating for this user-item pair is 3.87 based on this similarity based baseline model."
      ],
      "metadata": {
        "id": "-UK0jCQGYuPl"
      }
    },
    {
      "cell_type": "markdown",
      "metadata": {
        "id": "ejjof6csnVNF"
      },
      "source": [
        "### **Improving similarity-based recommendation system by tuning its hyper-parameters**"
      ]
    },
    {
      "cell_type": "markdown",
      "metadata": {
        "id": "x_kxe-_JnVNF"
      },
      "source": [
        "Below we will be tuning hyperparameters for the `KNNBasic` algorithm. Let's try to understand some of the hyperparameters of the KNNBasic algorithm:"
      ]
    },
    {
      "cell_type": "markdown",
      "metadata": {
        "id": "p2j4VvfQnVNF"
      },
      "source": [
        "- **k** (int) – The (max) number of neighbors to take into account for aggregation. The default value for k is 40.\n",
        "- **min_k** (int) – The minimum number of neighbors to take into account for aggregation. If there are not enough neighbors, the prediction is set to the global mean of all ratings. The default value for min_k is 1.\n",
        "- **sim_options** (dict) – A dictionary of options for the similarity measure. And there are four similarity measures available in surprise -\n",
        "    - cosine\n",
        "    - msd (default)\n",
        "    - Pearson\n",
        "    - Pearson baseline"
      ]
    },
    {
      "cell_type": "code",
      "execution_count": null,
      "metadata": {
        "colab": {
          "base_uri": "https://localhost:8080/"
        },
        "id": "9LmPbSUSTsnp",
        "outputId": "9ed88c8b-c900-46d1-ddc2-88aa7d97f116"
      },
      "outputs": [
        {
          "output_type": "stream",
          "name": "stdout",
          "text": [
            "1.0161171038858072\n",
            "{'k': 40, 'min_k': 6, 'sim_options': {'name': 'msd', 'user_based': True}}\n"
          ]
        }
      ],
      "source": [
        "# Setting up the parameters grid to tune the hyperparameters\n",
        "param_grid = {'k': [20, 30, 40], 'min_k': [3, 6, 9],\n",
        "              'sim_options': {'name': ['msd', 'cosine'],\n",
        "                              'user_based': [True]}\n",
        "              }\n",
        "\n",
        "# Performing 3-fold cross validation to tune the hyperparameters\n",
        "gs = GridSearchCV(KNNBasic, param_grid, measures = ['rmse'], cv = 3, n_jobs = -1)\n",
        "\n",
        "# Fitting the model on the data\n",
        "gs.fit(data)\n",
        "\n",
        "# Print the best RMSE score\n",
        "print(gs.best_score['rmse'])\n",
        "\n",
        "# Print the combination of parameters that gave the best RMSE score\n",
        "print(gs.best_params['rmse'])"
      ]
    },
    {
      "cell_type": "markdown",
      "metadata": {
        "id": "L2fHNvu7nVNF"
      },
      "source": [
        "Once the grid search is **complete**, we can get the **optimal values for each of those hyperparameters** as shown above."
      ]
    },
    {
      "cell_type": "markdown",
      "metadata": {
        "id": "NHWgxu_YnVNG"
      },
      "source": [
        "Now let's build the **final model by using tuned values of the hyperparameters** which we received by using **grid search cross-validation**."
      ]
    },
    {
      "cell_type": "code",
      "execution_count": null,
      "metadata": {
        "colab": {
          "base_uri": "https://localhost:8080/"
        },
        "id": "PujRJA8X_JEJ",
        "outputId": "7db399bc-995e-427f-c977-76d90af317a1"
      },
      "outputs": [
        {
          "output_type": "stream",
          "name": "stdout",
          "text": [
            "RMSE: 1.0060\n",
            "Precision:  0.762\n",
            "Recall:  0.413\n",
            "F_1 score:  0.536\n"
          ]
        }
      ],
      "source": [
        "# Using the optimal similarity measure for user-user-based collaborative filtering\n",
        "sim_options = {'name': 'cosine',\n",
        "               'user_based': True}\n",
        "\n",
        "# Creating an instance of KNNBasic with optimal hyperparameter values\n",
        "sim_user_user_optimized = KNNBasic(sim_options = sim_options, k = 40, min_k = 6, random_state = 1, verbose = False)\n",
        "\n",
        "# Training the algorithm on the trainset\n",
        "sim_user_user_optimized.fit(trainset)\n",
        "\n",
        "# Let us compute precision@k and recall@k also with k = 10\n",
        "precision_recall_at_k(sim_user_user_optimized)"
      ]
    },
    {
      "cell_type": "markdown",
      "metadata": {
        "id": "yHsWvFjKTsnp"
      },
      "source": [
        "- We can see from above that after tuning hyperparameters, **F_1 score of the tuned model has reduced a bit as compared to the baseline model.**"
      ]
    },
    {
      "cell_type": "markdown",
      "metadata": {
        "id": "YhcAXK0CnVNG"
      },
      "source": [
        "Let's us now **predict rating for a user with `userId` = \"rLtl8ZkDX5vH5nAx9C3q5Q\", and business_id = \"9yKzy9PApeiPPOUJEtnvkg\" with the optimized model as shown below**."
      ]
    },
    {
      "cell_type": "code",
      "execution_count": null,
      "metadata": {
        "colab": {
          "base_uri": "https://localhost:8080/"
        },
        "id": "FgV63lHiq1TV",
        "outputId": "10f22c15-6e3b-4e83-a6cc-46b1f85a9aca"
      },
      "outputs": [
        {
          "output_type": "stream",
          "name": "stdout",
          "text": [
            "user: rLtl8ZkDX5vH5nAx9C3q5Q item: 9yKzy9PApeiPPOUJEtnvkg r_ui = 5.00   est = 3.77   {'actual_k': 16, 'was_impossible': False}\n"
          ]
        },
        {
          "output_type": "execute_result",
          "data": {
            "text/plain": [
              "Prediction(uid='rLtl8ZkDX5vH5nAx9C3q5Q', iid='9yKzy9PApeiPPOUJEtnvkg', r_ui=5, est=3.7675091038953616, details={'actual_k': 16, 'was_impossible': False})"
            ]
          },
          "metadata": {},
          "execution_count": 28
        }
      ],
      "source": [
        "sim_user_user_optimized.predict(\"rLtl8ZkDX5vH5nAx9C3q5Q\", \"9yKzy9PApeiPPOUJEtnvkg\", r_ui = 5, verbose = True)"
      ]
    },
    {
      "cell_type": "markdown",
      "metadata": {
        "id": "P1JLqz6mnVNH"
      },
      "source": [
        "Below we are predicting rating for the same **`userId = \"rLtl8ZkDX5vH5nAx9C3q5Q\"`** but for a restaurant which this user has **not visited before**, i.e., `business_id = zp713qNhx8d9KCJJnrw1xA`, by using the **optimized model** as shown below -"
      ]
    },
    {
      "cell_type": "code",
      "execution_count": null,
      "metadata": {
        "colab": {
          "base_uri": "https://localhost:8080/"
        },
        "id": "HXO2Ztjhq1bN",
        "outputId": "5450c3c8-f1a9-40b0-9b72-d2720ea86943"
      },
      "outputs": [
        {
          "output_type": "stream",
          "name": "stdout",
          "text": [
            "user: rLtl8ZkDX5vH5nAx9C3q5Q item: zp713qNhx8d9KCJJnrw1xA r_ui = None   est = 3.87   {'actual_k': 28, 'was_impossible': False}\n"
          ]
        },
        {
          "output_type": "execute_result",
          "data": {
            "text/plain": [
              "Prediction(uid='rLtl8ZkDX5vH5nAx9C3q5Q', iid='zp713qNhx8d9KCJJnrw1xA', r_ui=None, est=3.873369257511826, details={'actual_k': 28, 'was_impossible': False})"
            ]
          },
          "metadata": {},
          "execution_count": 29
        }
      ],
      "source": [
        "sim_user_user_optimized.predict(\"rLtl8ZkDX5vH5nAx9C3q5Q\", \"zp713qNhx8d9KCJJnrw1xA\", verbose = True)"
      ]
    },
    {
      "cell_type": "markdown",
      "metadata": {
        "id": "op_zwO_FnVNH"
      },
      "source": [
        "### **Identifying similar users to a given user (nearest neighbors)**"
      ]
    },
    {
      "cell_type": "markdown",
      "metadata": {
        "id": "o2QsfqhanVNH"
      },
      "source": [
        "We can also find out **similar users to a given user** or its **nearest neighbors** based on this KNNBasic algorithm. Below we are finding the 5 most similar users to the first user in the list with internal id 0."
      ]
    },
    {
      "cell_type": "code",
      "execution_count": null,
      "metadata": {
        "colab": {
          "base_uri": "https://localhost:8080/"
        },
        "id": "TbFle7cKmBJG",
        "outputId": "b21efa9d-472b-4bd8-d650-b48abb60bee7"
      },
      "outputs": [
        {
          "output_type": "execute_result",
          "data": {
            "text/plain": [
              "[18, 52, 79, 97, 103]"
            ]
          },
          "metadata": {},
          "execution_count": 30
        }
      ],
      "source": [
        "# Here 0 is the internal id of the above user\n",
        "sim_user_user_optimized.get_neighbors(0, 5)"
      ]
    },
    {
      "cell_type": "markdown",
      "metadata": {
        "id": "Z0NsrX_anVNH"
      },
      "source": [
        "### **Implementing the recommendation algorithm based on optimized KNNBasic model**"
      ]
    },
    {
      "cell_type": "markdown",
      "metadata": {
        "id": "U3ESobDynVNI"
      },
      "source": [
        "Below we will be implementing a function where the input parameters are -\n",
        "\n",
        "- data: A **rating** dataset.\n",
        "- user_id: A user id **for which we want the recommendations**.\n",
        "- top_n: The **number of items we want to recommend**.\n",
        "- algo: The algorithm we want to use **for predicting the ratings**.\n",
        "- The output of the function is a **set of top_n items** recommended for the given user_id based on the given algorithm."
      ]
    },
    {
      "cell_type": "code",
      "execution_count": null,
      "metadata": {
        "id": "vW9V1Tk65HlY"
      },
      "outputs": [],
      "source": [
        "def get_recommendations(data, user_id, top_n, algo):\n",
        "\n",
        "    # Creating an empty list to store the recommended restaurant ids\n",
        "    recommendations = []\n",
        "\n",
        "    # Creating an user item interactions matrix\n",
        "    user_item_interactions_matrix = data.pivot_table(index = 'user_id', columns = 'business_id', values = 'stars')\n",
        "\n",
        "    # Extracting those restaurant ids which the user_id has not visited yet\n",
        "    non_interacted_products = user_item_interactions_matrix.loc[user_id][user_item_interactions_matrix.loc[user_id].isnull()].index.tolist()\n",
        "\n",
        "    # Looping through each of the restaurant ids which user_id has not interacted yet\n",
        "    for item_id in non_interacted_products:\n",
        "\n",
        "        # Predicting the ratings for those non visited restaurant ids by this user\n",
        "        est = algo.predict(user_id, item_id).est\n",
        "\n",
        "        # Appending the predicted ratings\n",
        "        recommendations.append((item_id, est))\n",
        "\n",
        "    # Sorting the predicted ratings in descending order\n",
        "    recommendations.sort(key = lambda x: x[1], reverse = True)\n",
        "\n",
        "    # Returing top n highest predicted rating restaurants for this user\n",
        "    return recommendations[:top_n]"
      ]
    },
    {
      "cell_type": "markdown",
      "metadata": {
        "id": "Oj_S7kh4nVNI"
      },
      "source": [
        "#### **Predicted top 5 business/product for userId = \"rLtl8ZkDX5vH5nAx9C3q5Q\" with similarity based recommendation system**"
      ]
    },
    {
      "cell_type": "code",
      "execution_count": null,
      "metadata": {
        "id": "qWbR85mI5Hrk"
      },
      "outputs": [],
      "source": [
        "# Making top 5 recommendations for user_id \"rLtl8ZkDX5vH5nAx9C3q5Q\" with a similarity-based recommendation engine\n",
        "recommendations = get_recommendations(df_final, \"rLtl8ZkDX5vH5nAx9C3q5Q\", 5, sim_user_user)"
      ]
    },
    {
      "cell_type": "code",
      "execution_count": null,
      "metadata": {
        "colab": {
          "base_uri": "https://localhost:8080/",
          "height": 206
        },
        "id": "b5WfIX0Z6_q2",
        "outputId": "2978432f-c681-4faa-cf69-3daee17303d7"
      },
      "outputs": [
        {
          "output_type": "execute_result",
          "data": {
            "text/plain": [
              "              business_id  predicted_ratings\n",
              "0  --5jkZ3-nUPZxUvtcbr8Uw                  5\n",
              "1  -7XuLxfYwZ9x72mEKXdv0A                  5\n",
              "2  -A82xEVAjOYZtDdRQw1FQw                  5\n",
              "3  -CZ78c-H3tTxpP-uQ09CWw                  5\n",
              "4  -J0jhpG0rv4saq9OMh8gXw                  5"
            ],
            "text/html": [
              "\n",
              "  <div id=\"df-cad53f0d-134d-4ce4-a386-3a560c0962f5\" class=\"colab-df-container\">\n",
              "    <div>\n",
              "<style scoped>\n",
              "    .dataframe tbody tr th:only-of-type {\n",
              "        vertical-align: middle;\n",
              "    }\n",
              "\n",
              "    .dataframe tbody tr th {\n",
              "        vertical-align: top;\n",
              "    }\n",
              "\n",
              "    .dataframe thead th {\n",
              "        text-align: right;\n",
              "    }\n",
              "</style>\n",
              "<table border=\"1\" class=\"dataframe\">\n",
              "  <thead>\n",
              "    <tr style=\"text-align: right;\">\n",
              "      <th></th>\n",
              "      <th>business_id</th>\n",
              "      <th>predicted_ratings</th>\n",
              "    </tr>\n",
              "  </thead>\n",
              "  <tbody>\n",
              "    <tr>\n",
              "      <th>0</th>\n",
              "      <td>--5jkZ3-nUPZxUvtcbr8Uw</td>\n",
              "      <td>5</td>\n",
              "    </tr>\n",
              "    <tr>\n",
              "      <th>1</th>\n",
              "      <td>-7XuLxfYwZ9x72mEKXdv0A</td>\n",
              "      <td>5</td>\n",
              "    </tr>\n",
              "    <tr>\n",
              "      <th>2</th>\n",
              "      <td>-A82xEVAjOYZtDdRQw1FQw</td>\n",
              "      <td>5</td>\n",
              "    </tr>\n",
              "    <tr>\n",
              "      <th>3</th>\n",
              "      <td>-CZ78c-H3tTxpP-uQ09CWw</td>\n",
              "      <td>5</td>\n",
              "    </tr>\n",
              "    <tr>\n",
              "      <th>4</th>\n",
              "      <td>-J0jhpG0rv4saq9OMh8gXw</td>\n",
              "      <td>5</td>\n",
              "    </tr>\n",
              "  </tbody>\n",
              "</table>\n",
              "</div>\n",
              "    <div class=\"colab-df-buttons\">\n",
              "\n",
              "  <div class=\"colab-df-container\">\n",
              "    <button class=\"colab-df-convert\" onclick=\"convertToInteractive('df-cad53f0d-134d-4ce4-a386-3a560c0962f5')\"\n",
              "            title=\"Convert this dataframe to an interactive table.\"\n",
              "            style=\"display:none;\">\n",
              "\n",
              "  <svg xmlns=\"http://www.w3.org/2000/svg\" height=\"24px\" viewBox=\"0 -960 960 960\">\n",
              "    <path d=\"M120-120v-720h720v720H120Zm60-500h600v-160H180v160Zm220 220h160v-160H400v160Zm0 220h160v-160H400v160ZM180-400h160v-160H180v160Zm440 0h160v-160H620v160ZM180-180h160v-160H180v160Zm440 0h160v-160H620v160Z\"/>\n",
              "  </svg>\n",
              "    </button>\n",
              "\n",
              "  <style>\n",
              "    .colab-df-container {\n",
              "      display:flex;\n",
              "      gap: 12px;\n",
              "    }\n",
              "\n",
              "    .colab-df-convert {\n",
              "      background-color: #E8F0FE;\n",
              "      border: none;\n",
              "      border-radius: 50%;\n",
              "      cursor: pointer;\n",
              "      display: none;\n",
              "      fill: #1967D2;\n",
              "      height: 32px;\n",
              "      padding: 0 0 0 0;\n",
              "      width: 32px;\n",
              "    }\n",
              "\n",
              "    .colab-df-convert:hover {\n",
              "      background-color: #E2EBFA;\n",
              "      box-shadow: 0px 1px 2px rgba(60, 64, 67, 0.3), 0px 1px 3px 1px rgba(60, 64, 67, 0.15);\n",
              "      fill: #174EA6;\n",
              "    }\n",
              "\n",
              "    .colab-df-buttons div {\n",
              "      margin-bottom: 4px;\n",
              "    }\n",
              "\n",
              "    [theme=dark] .colab-df-convert {\n",
              "      background-color: #3B4455;\n",
              "      fill: #D2E3FC;\n",
              "    }\n",
              "\n",
              "    [theme=dark] .colab-df-convert:hover {\n",
              "      background-color: #434B5C;\n",
              "      box-shadow: 0px 1px 3px 1px rgba(0, 0, 0, 0.15);\n",
              "      filter: drop-shadow(0px 1px 2px rgba(0, 0, 0, 0.3));\n",
              "      fill: #FFFFFF;\n",
              "    }\n",
              "  </style>\n",
              "\n",
              "    <script>\n",
              "      const buttonEl =\n",
              "        document.querySelector('#df-cad53f0d-134d-4ce4-a386-3a560c0962f5 button.colab-df-convert');\n",
              "      buttonEl.style.display =\n",
              "        google.colab.kernel.accessAllowed ? 'block' : 'none';\n",
              "\n",
              "      async function convertToInteractive(key) {\n",
              "        const element = document.querySelector('#df-cad53f0d-134d-4ce4-a386-3a560c0962f5');\n",
              "        const dataTable =\n",
              "          await google.colab.kernel.invokeFunction('convertToInteractive',\n",
              "                                                    [key], {});\n",
              "        if (!dataTable) return;\n",
              "\n",
              "        const docLinkHtml = 'Like what you see? Visit the ' +\n",
              "          '<a target=\"_blank\" href=https://colab.research.google.com/notebooks/data_table.ipynb>data table notebook</a>'\n",
              "          + ' to learn more about interactive tables.';\n",
              "        element.innerHTML = '';\n",
              "        dataTable['output_type'] = 'display_data';\n",
              "        await google.colab.output.renderOutput(dataTable, element);\n",
              "        const docLink = document.createElement('div');\n",
              "        docLink.innerHTML = docLinkHtml;\n",
              "        element.appendChild(docLink);\n",
              "      }\n",
              "    </script>\n",
              "  </div>\n",
              "\n",
              "\n",
              "<div id=\"df-ba0abda5-b2ef-4181-b838-6b64b1b1b1e5\">\n",
              "  <button class=\"colab-df-quickchart\" onclick=\"quickchart('df-ba0abda5-b2ef-4181-b838-6b64b1b1b1e5')\"\n",
              "            title=\"Suggest charts\"\n",
              "            style=\"display:none;\">\n",
              "\n",
              "<svg xmlns=\"http://www.w3.org/2000/svg\" height=\"24px\"viewBox=\"0 0 24 24\"\n",
              "     width=\"24px\">\n",
              "    <g>\n",
              "        <path d=\"M19 3H5c-1.1 0-2 .9-2 2v14c0 1.1.9 2 2 2h14c1.1 0 2-.9 2-2V5c0-1.1-.9-2-2-2zM9 17H7v-7h2v7zm4 0h-2V7h2v10zm4 0h-2v-4h2v4z\"/>\n",
              "    </g>\n",
              "</svg>\n",
              "  </button>\n",
              "\n",
              "<style>\n",
              "  .colab-df-quickchart {\n",
              "      --bg-color: #E8F0FE;\n",
              "      --fill-color: #1967D2;\n",
              "      --hover-bg-color: #E2EBFA;\n",
              "      --hover-fill-color: #174EA6;\n",
              "      --disabled-fill-color: #AAA;\n",
              "      --disabled-bg-color: #DDD;\n",
              "  }\n",
              "\n",
              "  [theme=dark] .colab-df-quickchart {\n",
              "      --bg-color: #3B4455;\n",
              "      --fill-color: #D2E3FC;\n",
              "      --hover-bg-color: #434B5C;\n",
              "      --hover-fill-color: #FFFFFF;\n",
              "      --disabled-bg-color: #3B4455;\n",
              "      --disabled-fill-color: #666;\n",
              "  }\n",
              "\n",
              "  .colab-df-quickchart {\n",
              "    background-color: var(--bg-color);\n",
              "    border: none;\n",
              "    border-radius: 50%;\n",
              "    cursor: pointer;\n",
              "    display: none;\n",
              "    fill: var(--fill-color);\n",
              "    height: 32px;\n",
              "    padding: 0;\n",
              "    width: 32px;\n",
              "  }\n",
              "\n",
              "  .colab-df-quickchart:hover {\n",
              "    background-color: var(--hover-bg-color);\n",
              "    box-shadow: 0 1px 2px rgba(60, 64, 67, 0.3), 0 1px 3px 1px rgba(60, 64, 67, 0.15);\n",
              "    fill: var(--button-hover-fill-color);\n",
              "  }\n",
              "\n",
              "  .colab-df-quickchart-complete:disabled,\n",
              "  .colab-df-quickchart-complete:disabled:hover {\n",
              "    background-color: var(--disabled-bg-color);\n",
              "    fill: var(--disabled-fill-color);\n",
              "    box-shadow: none;\n",
              "  }\n",
              "\n",
              "  .colab-df-spinner {\n",
              "    border: 2px solid var(--fill-color);\n",
              "    border-color: transparent;\n",
              "    border-bottom-color: var(--fill-color);\n",
              "    animation:\n",
              "      spin 1s steps(1) infinite;\n",
              "  }\n",
              "\n",
              "  @keyframes spin {\n",
              "    0% {\n",
              "      border-color: transparent;\n",
              "      border-bottom-color: var(--fill-color);\n",
              "      border-left-color: var(--fill-color);\n",
              "    }\n",
              "    20% {\n",
              "      border-color: transparent;\n",
              "      border-left-color: var(--fill-color);\n",
              "      border-top-color: var(--fill-color);\n",
              "    }\n",
              "    30% {\n",
              "      border-color: transparent;\n",
              "      border-left-color: var(--fill-color);\n",
              "      border-top-color: var(--fill-color);\n",
              "      border-right-color: var(--fill-color);\n",
              "    }\n",
              "    40% {\n",
              "      border-color: transparent;\n",
              "      border-right-color: var(--fill-color);\n",
              "      border-top-color: var(--fill-color);\n",
              "    }\n",
              "    60% {\n",
              "      border-color: transparent;\n",
              "      border-right-color: var(--fill-color);\n",
              "    }\n",
              "    80% {\n",
              "      border-color: transparent;\n",
              "      border-right-color: var(--fill-color);\n",
              "      border-bottom-color: var(--fill-color);\n",
              "    }\n",
              "    90% {\n",
              "      border-color: transparent;\n",
              "      border-bottom-color: var(--fill-color);\n",
              "    }\n",
              "  }\n",
              "</style>\n",
              "\n",
              "  <script>\n",
              "    async function quickchart(key) {\n",
              "      const quickchartButtonEl =\n",
              "        document.querySelector('#' + key + ' button');\n",
              "      quickchartButtonEl.disabled = true;  // To prevent multiple clicks.\n",
              "      quickchartButtonEl.classList.add('colab-df-spinner');\n",
              "      try {\n",
              "        const charts = await google.colab.kernel.invokeFunction(\n",
              "            'suggestCharts', [key], {});\n",
              "      } catch (error) {\n",
              "        console.error('Error during call to suggestCharts:', error);\n",
              "      }\n",
              "      quickchartButtonEl.classList.remove('colab-df-spinner');\n",
              "      quickchartButtonEl.classList.add('colab-df-quickchart-complete');\n",
              "    }\n",
              "    (() => {\n",
              "      let quickchartButtonEl =\n",
              "        document.querySelector('#df-ba0abda5-b2ef-4181-b838-6b64b1b1b1e5 button');\n",
              "      quickchartButtonEl.style.display =\n",
              "        google.colab.kernel.accessAllowed ? 'block' : 'none';\n",
              "    })();\n",
              "  </script>\n",
              "</div>\n",
              "\n",
              "    </div>\n",
              "  </div>\n"
            ],
            "application/vnd.google.colaboratory.intrinsic+json": {
              "type": "dataframe",
              "summary": "{\n  \"name\": \"pd\",\n  \"rows\": 5,\n  \"fields\": [\n    {\n      \"column\": \"business_id\",\n      \"properties\": {\n        \"dtype\": \"string\",\n        \"num_unique_values\": 5,\n        \"samples\": [\n          \"-7XuLxfYwZ9x72mEKXdv0A\",\n          \"-J0jhpG0rv4saq9OMh8gXw\",\n          \"-A82xEVAjOYZtDdRQw1FQw\"\n        ],\n        \"semantic_type\": \"\",\n        \"description\": \"\"\n      }\n    },\n    {\n      \"column\": \"predicted_ratings\",\n      \"properties\": {\n        \"dtype\": \"number\",\n        \"std\": 0,\n        \"min\": 5,\n        \"max\": 5,\n        \"num_unique_values\": 1,\n        \"samples\": [\n          5\n        ],\n        \"semantic_type\": \"\",\n        \"description\": \"\"\n      }\n    }\n  ]\n}"
            }
          },
          "metadata": {},
          "execution_count": 33
        }
      ],
      "source": [
        "# Building the dataframe for above recommendations with columns \"business_id\" and \"predicted_ratings\"\n",
        "pd.DataFrame(recommendations, columns = ['business_id', 'predicted_ratings'])"
      ]
    },
    {
      "cell_type": "markdown",
      "metadata": {
        "id": "ghwEJY2e7INB"
      },
      "source": [
        "### **Correcting the Ratings and Ranking the above products/ businesses**"
      ]
    },
    {
      "cell_type": "markdown",
      "metadata": {
        "id": "tHi5pfJgTsnr"
      },
      "source": [
        "While comparing the ratings of two products, it is not only the **ratings** that describe the **likelihood of the user to that product**. Along with the rating the **number of users who have seen that product** also becomes important to consider. Due to this, we have calculated the **\"corrected_ratings\"** for each product. Commonly higher the **\"rating_count\" of a product more it is liked by users**. To interpret the above concept, a **product rated 4 by 3 people is less liked in comparison to a product rated 3 by 50 people**. It has been **empirically found that the likelihood of the product is directly proportional to the inverse of the square root of the rating_count of the product**."
      ]
    },
    {
      "cell_type": "code",
      "execution_count": null,
      "metadata": {
        "id": "39Hs7ZbO9v3O"
      },
      "outputs": [],
      "source": [
        "def ranking_products(recommendations, final_rating):\n",
        "    # Sort the products based on ratings count\n",
        "    ranked_products = final_rating.loc[[items[0] for items in recommendations]].sort_values('rating_count', ascending = False)[['rating_count']].reset_index()\n",
        "\n",
        "    # Merge with the recommended businesses to get predicted ratings\n",
        "    ranked_products = ranked_products.merge(pd.DataFrame(recommendations, columns = ['business_id', 'predicted_ratings']), on = 'business_id', how = 'inner')\n",
        "\n",
        "    # Rank the businesses based on corrected ratings\n",
        "    ranked_products['corrected_ratings'] = ranked_products['predicted_ratings'] - 1 / np.sqrt(ranked_products['rating_count'])\n",
        "\n",
        "    # Sort the businesses based on corrected ratings\n",
        "    ranked_products = ranked_products.sort_values('corrected_ratings', ascending = False)\n",
        "\n",
        "    return ranked_products"
      ]
    },
    {
      "cell_type": "markdown",
      "metadata": {
        "id": "rvPNIt6i89DY"
      },
      "source": [
        "**Note:** In the **above-corrected rating formula**, we can add the **quantity `1 / np.sqrt(n)` instead of subtracting it to get more optimistic predictions**. But here we are **subtracting this quantity**, as there are some products with ratings 5 and **we can't have a rating more than 5 for a product**."
      ]
    },
    {
      "cell_type": "code",
      "execution_count": null,
      "metadata": {
        "colab": {
          "base_uri": "https://localhost:8080/",
          "height": 206
        },
        "id": "xoiAL_vH8miC",
        "outputId": "1e9b3f5b-82ee-4f94-d382-045039ddc447"
      },
      "outputs": [
        {
          "output_type": "execute_result",
          "data": {
            "text/plain": [
              "              business_id  rating_count  predicted_ratings  corrected_ratings\n",
              "0  --5jkZ3-nUPZxUvtcbr8Uw            11                  5           4.698489\n",
              "1  -J0jhpG0rv4saq9OMh8gXw             6                  5           4.591752\n",
              "2  -7XuLxfYwZ9x72mEKXdv0A             5                  5           4.552786\n",
              "3  -A82xEVAjOYZtDdRQw1FQw             5                  5           4.552786\n",
              "4  -CZ78c-H3tTxpP-uQ09CWw             3                  5           4.422650"
            ],
            "text/html": [
              "\n",
              "  <div id=\"df-39b8626b-fa30-4c3c-97b4-938eade82274\" class=\"colab-df-container\">\n",
              "    <div>\n",
              "<style scoped>\n",
              "    .dataframe tbody tr th:only-of-type {\n",
              "        vertical-align: middle;\n",
              "    }\n",
              "\n",
              "    .dataframe tbody tr th {\n",
              "        vertical-align: top;\n",
              "    }\n",
              "\n",
              "    .dataframe thead th {\n",
              "        text-align: right;\n",
              "    }\n",
              "</style>\n",
              "<table border=\"1\" class=\"dataframe\">\n",
              "  <thead>\n",
              "    <tr style=\"text-align: right;\">\n",
              "      <th></th>\n",
              "      <th>business_id</th>\n",
              "      <th>rating_count</th>\n",
              "      <th>predicted_ratings</th>\n",
              "      <th>corrected_ratings</th>\n",
              "    </tr>\n",
              "  </thead>\n",
              "  <tbody>\n",
              "    <tr>\n",
              "      <th>0</th>\n",
              "      <td>--5jkZ3-nUPZxUvtcbr8Uw</td>\n",
              "      <td>11</td>\n",
              "      <td>5</td>\n",
              "      <td>4.698489</td>\n",
              "    </tr>\n",
              "    <tr>\n",
              "      <th>1</th>\n",
              "      <td>-J0jhpG0rv4saq9OMh8gXw</td>\n",
              "      <td>6</td>\n",
              "      <td>5</td>\n",
              "      <td>4.591752</td>\n",
              "    </tr>\n",
              "    <tr>\n",
              "      <th>2</th>\n",
              "      <td>-7XuLxfYwZ9x72mEKXdv0A</td>\n",
              "      <td>5</td>\n",
              "      <td>5</td>\n",
              "      <td>4.552786</td>\n",
              "    </tr>\n",
              "    <tr>\n",
              "      <th>3</th>\n",
              "      <td>-A82xEVAjOYZtDdRQw1FQw</td>\n",
              "      <td>5</td>\n",
              "      <td>5</td>\n",
              "      <td>4.552786</td>\n",
              "    </tr>\n",
              "    <tr>\n",
              "      <th>4</th>\n",
              "      <td>-CZ78c-H3tTxpP-uQ09CWw</td>\n",
              "      <td>3</td>\n",
              "      <td>5</td>\n",
              "      <td>4.422650</td>\n",
              "    </tr>\n",
              "  </tbody>\n",
              "</table>\n",
              "</div>\n",
              "    <div class=\"colab-df-buttons\">\n",
              "\n",
              "  <div class=\"colab-df-container\">\n",
              "    <button class=\"colab-df-convert\" onclick=\"convertToInteractive('df-39b8626b-fa30-4c3c-97b4-938eade82274')\"\n",
              "            title=\"Convert this dataframe to an interactive table.\"\n",
              "            style=\"display:none;\">\n",
              "\n",
              "  <svg xmlns=\"http://www.w3.org/2000/svg\" height=\"24px\" viewBox=\"0 -960 960 960\">\n",
              "    <path d=\"M120-120v-720h720v720H120Zm60-500h600v-160H180v160Zm220 220h160v-160H400v160Zm0 220h160v-160H400v160ZM180-400h160v-160H180v160Zm440 0h160v-160H620v160ZM180-180h160v-160H180v160Zm440 0h160v-160H620v160Z\"/>\n",
              "  </svg>\n",
              "    </button>\n",
              "\n",
              "  <style>\n",
              "    .colab-df-container {\n",
              "      display:flex;\n",
              "      gap: 12px;\n",
              "    }\n",
              "\n",
              "    .colab-df-convert {\n",
              "      background-color: #E8F0FE;\n",
              "      border: none;\n",
              "      border-radius: 50%;\n",
              "      cursor: pointer;\n",
              "      display: none;\n",
              "      fill: #1967D2;\n",
              "      height: 32px;\n",
              "      padding: 0 0 0 0;\n",
              "      width: 32px;\n",
              "    }\n",
              "\n",
              "    .colab-df-convert:hover {\n",
              "      background-color: #E2EBFA;\n",
              "      box-shadow: 0px 1px 2px rgba(60, 64, 67, 0.3), 0px 1px 3px 1px rgba(60, 64, 67, 0.15);\n",
              "      fill: #174EA6;\n",
              "    }\n",
              "\n",
              "    .colab-df-buttons div {\n",
              "      margin-bottom: 4px;\n",
              "    }\n",
              "\n",
              "    [theme=dark] .colab-df-convert {\n",
              "      background-color: #3B4455;\n",
              "      fill: #D2E3FC;\n",
              "    }\n",
              "\n",
              "    [theme=dark] .colab-df-convert:hover {\n",
              "      background-color: #434B5C;\n",
              "      box-shadow: 0px 1px 3px 1px rgba(0, 0, 0, 0.15);\n",
              "      filter: drop-shadow(0px 1px 2px rgba(0, 0, 0, 0.3));\n",
              "      fill: #FFFFFF;\n",
              "    }\n",
              "  </style>\n",
              "\n",
              "    <script>\n",
              "      const buttonEl =\n",
              "        document.querySelector('#df-39b8626b-fa30-4c3c-97b4-938eade82274 button.colab-df-convert');\n",
              "      buttonEl.style.display =\n",
              "        google.colab.kernel.accessAllowed ? 'block' : 'none';\n",
              "\n",
              "      async function convertToInteractive(key) {\n",
              "        const element = document.querySelector('#df-39b8626b-fa30-4c3c-97b4-938eade82274');\n",
              "        const dataTable =\n",
              "          await google.colab.kernel.invokeFunction('convertToInteractive',\n",
              "                                                    [key], {});\n",
              "        if (!dataTable) return;\n",
              "\n",
              "        const docLinkHtml = 'Like what you see? Visit the ' +\n",
              "          '<a target=\"_blank\" href=https://colab.research.google.com/notebooks/data_table.ipynb>data table notebook</a>'\n",
              "          + ' to learn more about interactive tables.';\n",
              "        element.innerHTML = '';\n",
              "        dataTable['output_type'] = 'display_data';\n",
              "        await google.colab.output.renderOutput(dataTable, element);\n",
              "        const docLink = document.createElement('div');\n",
              "        docLink.innerHTML = docLinkHtml;\n",
              "        element.appendChild(docLink);\n",
              "      }\n",
              "    </script>\n",
              "  </div>\n",
              "\n",
              "\n",
              "<div id=\"df-58b5cf92-c6ca-4ba9-9afe-b7dd409c85be\">\n",
              "  <button class=\"colab-df-quickchart\" onclick=\"quickchart('df-58b5cf92-c6ca-4ba9-9afe-b7dd409c85be')\"\n",
              "            title=\"Suggest charts\"\n",
              "            style=\"display:none;\">\n",
              "\n",
              "<svg xmlns=\"http://www.w3.org/2000/svg\" height=\"24px\"viewBox=\"0 0 24 24\"\n",
              "     width=\"24px\">\n",
              "    <g>\n",
              "        <path d=\"M19 3H5c-1.1 0-2 .9-2 2v14c0 1.1.9 2 2 2h14c1.1 0 2-.9 2-2V5c0-1.1-.9-2-2-2zM9 17H7v-7h2v7zm4 0h-2V7h2v10zm4 0h-2v-4h2v4z\"/>\n",
              "    </g>\n",
              "</svg>\n",
              "  </button>\n",
              "\n",
              "<style>\n",
              "  .colab-df-quickchart {\n",
              "      --bg-color: #E8F0FE;\n",
              "      --fill-color: #1967D2;\n",
              "      --hover-bg-color: #E2EBFA;\n",
              "      --hover-fill-color: #174EA6;\n",
              "      --disabled-fill-color: #AAA;\n",
              "      --disabled-bg-color: #DDD;\n",
              "  }\n",
              "\n",
              "  [theme=dark] .colab-df-quickchart {\n",
              "      --bg-color: #3B4455;\n",
              "      --fill-color: #D2E3FC;\n",
              "      --hover-bg-color: #434B5C;\n",
              "      --hover-fill-color: #FFFFFF;\n",
              "      --disabled-bg-color: #3B4455;\n",
              "      --disabled-fill-color: #666;\n",
              "  }\n",
              "\n",
              "  .colab-df-quickchart {\n",
              "    background-color: var(--bg-color);\n",
              "    border: none;\n",
              "    border-radius: 50%;\n",
              "    cursor: pointer;\n",
              "    display: none;\n",
              "    fill: var(--fill-color);\n",
              "    height: 32px;\n",
              "    padding: 0;\n",
              "    width: 32px;\n",
              "  }\n",
              "\n",
              "  .colab-df-quickchart:hover {\n",
              "    background-color: var(--hover-bg-color);\n",
              "    box-shadow: 0 1px 2px rgba(60, 64, 67, 0.3), 0 1px 3px 1px rgba(60, 64, 67, 0.15);\n",
              "    fill: var(--button-hover-fill-color);\n",
              "  }\n",
              "\n",
              "  .colab-df-quickchart-complete:disabled,\n",
              "  .colab-df-quickchart-complete:disabled:hover {\n",
              "    background-color: var(--disabled-bg-color);\n",
              "    fill: var(--disabled-fill-color);\n",
              "    box-shadow: none;\n",
              "  }\n",
              "\n",
              "  .colab-df-spinner {\n",
              "    border: 2px solid var(--fill-color);\n",
              "    border-color: transparent;\n",
              "    border-bottom-color: var(--fill-color);\n",
              "    animation:\n",
              "      spin 1s steps(1) infinite;\n",
              "  }\n",
              "\n",
              "  @keyframes spin {\n",
              "    0% {\n",
              "      border-color: transparent;\n",
              "      border-bottom-color: var(--fill-color);\n",
              "      border-left-color: var(--fill-color);\n",
              "    }\n",
              "    20% {\n",
              "      border-color: transparent;\n",
              "      border-left-color: var(--fill-color);\n",
              "      border-top-color: var(--fill-color);\n",
              "    }\n",
              "    30% {\n",
              "      border-color: transparent;\n",
              "      border-left-color: var(--fill-color);\n",
              "      border-top-color: var(--fill-color);\n",
              "      border-right-color: var(--fill-color);\n",
              "    }\n",
              "    40% {\n",
              "      border-color: transparent;\n",
              "      border-right-color: var(--fill-color);\n",
              "      border-top-color: var(--fill-color);\n",
              "    }\n",
              "    60% {\n",
              "      border-color: transparent;\n",
              "      border-right-color: var(--fill-color);\n",
              "    }\n",
              "    80% {\n",
              "      border-color: transparent;\n",
              "      border-right-color: var(--fill-color);\n",
              "      border-bottom-color: var(--fill-color);\n",
              "    }\n",
              "    90% {\n",
              "      border-color: transparent;\n",
              "      border-bottom-color: var(--fill-color);\n",
              "    }\n",
              "  }\n",
              "</style>\n",
              "\n",
              "  <script>\n",
              "    async function quickchart(key) {\n",
              "      const quickchartButtonEl =\n",
              "        document.querySelector('#' + key + ' button');\n",
              "      quickchartButtonEl.disabled = true;  // To prevent multiple clicks.\n",
              "      quickchartButtonEl.classList.add('colab-df-spinner');\n",
              "      try {\n",
              "        const charts = await google.colab.kernel.invokeFunction(\n",
              "            'suggestCharts', [key], {});\n",
              "      } catch (error) {\n",
              "        console.error('Error during call to suggestCharts:', error);\n",
              "      }\n",
              "      quickchartButtonEl.classList.remove('colab-df-spinner');\n",
              "      quickchartButtonEl.classList.add('colab-df-quickchart-complete');\n",
              "    }\n",
              "    (() => {\n",
              "      let quickchartButtonEl =\n",
              "        document.querySelector('#df-58b5cf92-c6ca-4ba9-9afe-b7dd409c85be button');\n",
              "      quickchartButtonEl.style.display =\n",
              "        google.colab.kernel.accessAllowed ? 'block' : 'none';\n",
              "    })();\n",
              "  </script>\n",
              "</div>\n",
              "\n",
              "    </div>\n",
              "  </div>\n"
            ],
            "application/vnd.google.colaboratory.intrinsic+json": {
              "type": "dataframe",
              "summary": "{\n  \"name\": \"ranking_products(recommendations, final_rating)\",\n  \"rows\": 5,\n  \"fields\": [\n    {\n      \"column\": \"business_id\",\n      \"properties\": {\n        \"dtype\": \"string\",\n        \"num_unique_values\": 5,\n        \"samples\": [\n          \"-J0jhpG0rv4saq9OMh8gXw\",\n          \"-CZ78c-H3tTxpP-uQ09CWw\",\n          \"-7XuLxfYwZ9x72mEKXdv0A\"\n        ],\n        \"semantic_type\": \"\",\n        \"description\": \"\"\n      }\n    },\n    {\n      \"column\": \"rating_count\",\n      \"properties\": {\n        \"dtype\": \"number\",\n        \"std\": 3,\n        \"min\": 3,\n        \"max\": 11,\n        \"num_unique_values\": 4,\n        \"samples\": [\n          6,\n          3,\n          11\n        ],\n        \"semantic_type\": \"\",\n        \"description\": \"\"\n      }\n    },\n    {\n      \"column\": \"predicted_ratings\",\n      \"properties\": {\n        \"dtype\": \"number\",\n        \"std\": 0,\n        \"min\": 5,\n        \"max\": 5,\n        \"num_unique_values\": 1,\n        \"samples\": [\n          5\n        ],\n        \"semantic_type\": \"\",\n        \"description\": \"\"\n      }\n    },\n    {\n      \"column\": \"corrected_ratings\",\n      \"properties\": {\n        \"dtype\": \"number\",\n        \"std\": 0.09885376995234228,\n        \"min\": 4.422649730810374,\n        \"max\": 4.698488655422237,\n        \"num_unique_values\": 4,\n        \"samples\": [\n          4.591751709536137\n        ],\n        \"semantic_type\": \"\",\n        \"description\": \"\"\n      }\n    }\n  ]\n}"
            }
          },
          "metadata": {},
          "execution_count": 35
        }
      ],
      "source": [
        "# Applying the ranking products function and sorting it based on corrected ratings\n",
        "ranking_products(recommendations, final_rating)"
      ]
    },
    {
      "cell_type": "markdown",
      "metadata": {
        "id": "QgbzJKk7Tsnr"
      },
      "source": [
        "### Model 3: **Building Item Item Collaborative Filtering Model**"
      ]
    },
    {
      "cell_type": "markdown",
      "metadata": {
        "id": "qTJu_2hcTsnr"
      },
      "source": [
        "* Above we have seen **similarity-based collaborative filtering** where similarity has seen **between the users**. Now let us look into similarity-based collaborative filtering where similarity is seen **between the items**."
      ]
    },
    {
      "cell_type": "code",
      "execution_count": null,
      "metadata": {
        "colab": {
          "base_uri": "https://localhost:8080/"
        },
        "id": "W5RMcdzjTsns",
        "outputId": "06a9fe12-d344-4223-fdfb-1b91aecfe87a",
        "scrolled": false
      },
      "outputs": [
        {
          "output_type": "stream",
          "name": "stdout",
          "text": [
            "RMSE: 1.0218\n",
            "Precision:  0.663\n",
            "Recall:  0.344\n",
            "F_1 score:  0.453\n"
          ]
        }
      ],
      "source": [
        "# Declaring the similarity options\n",
        "sim_options = {'name': 'cosine',\n",
        "               'user_based': False}\n",
        "\n",
        "# KNN algorithm is used to find desired similar items\n",
        "sim_item_item = KNNBasic(sim_options = sim_options, random_state = 1, verbose = False)\n",
        "\n",
        "# Train the algorithm on the trainset, and predict ratings for the testset\n",
        "sim_item_item.fit(trainset)\n",
        "\n",
        "# Let us compute precision@k, recall@k, and f_1 score with k = 10\n",
        "precision_recall_at_k(sim_item_item)"
      ]
    },
    {
      "cell_type": "markdown",
      "metadata": {
        "id": "ni9LoeUVTsns"
      },
      "source": [
        "- The baseline model is giving an F_1 score of **about 45%**. We will try to **improve this later by using GridSearchCV** by tuning different hyperparameters of this algorithm."
      ]
    },
    {
      "cell_type": "markdown",
      "metadata": {
        "id": "jFbcDQmxTsns"
      },
      "source": [
        "Let's now **predict a rating for a user with `userId = rLtl8ZkDX5vH5nAx9C3q5Q` and `business_Id = 9yKzy9PApeiPPOUJEtnvkg`** as shown below. Here the user has already interacted or visited the restaurant with businessId \"9yKzy9PApeiPPOUJEtnvkg\"."
      ]
    },
    {
      "cell_type": "code",
      "execution_count": null,
      "metadata": {
        "colab": {
          "base_uri": "https://localhost:8080/"
        },
        "id": "JsF-aaWYTsns",
        "outputId": "0d314c27-6a7e-4d58-a7d2-5c46054de054"
      },
      "outputs": [
        {
          "output_type": "stream",
          "name": "stdout",
          "text": [
            "user: rLtl8ZkDX5vH5nAx9C3q5Q item: 9yKzy9PApeiPPOUJEtnvkg r_ui = 5.00   est = 3.48   {'actual_k': 40, 'was_impossible': False}\n"
          ]
        },
        {
          "output_type": "execute_result",
          "data": {
            "text/plain": [
              "Prediction(uid='rLtl8ZkDX5vH5nAx9C3q5Q', iid='9yKzy9PApeiPPOUJEtnvkg', r_ui=5, est=3.475, details={'actual_k': 40, 'was_impossible': False})"
            ]
          },
          "metadata": {},
          "execution_count": 37
        }
      ],
      "source": [
        "# Predicting rating for a sample user with a visited restaurant\n",
        "sim_item_item.predict(\"rLtl8ZkDX5vH5nAx9C3q5Q\", \"9yKzy9PApeiPPOUJEtnvkg\", r_ui = 5, verbose = True)"
      ]
    },
    {
      "cell_type": "markdown",
      "metadata": {
        "id": "BqKGZoAtTsns"
      },
      "source": [
        "Below we are **predicting rating for the same `userId = rLtl8ZkDX5vH5nAx9C3q5Q` but for a restaurant which this user has not visited yet, i.e., `business_id = zp713qNhx8d9KCJJnrw1xA`**"
      ]
    },
    {
      "cell_type": "code",
      "execution_count": null,
      "metadata": {
        "colab": {
          "base_uri": "https://localhost:8080/"
        },
        "id": "5yILOxXRTsns",
        "outputId": "6bdd03b1-3448-4ae7-d1b2-f862ddb3363e"
      },
      "outputs": [
        {
          "output_type": "stream",
          "name": "stdout",
          "text": [
            "user: rLtl8ZkDX5vH5nAx9C3q5Q item: zp713qNhx8d9KCJJnrw1xA r_ui = None   est = 3.77   {'actual_k': 40, 'was_impossible': False}\n"
          ]
        },
        {
          "output_type": "execute_result",
          "data": {
            "text/plain": [
              "Prediction(uid='rLtl8ZkDX5vH5nAx9C3q5Q', iid='zp713qNhx8d9KCJJnrw1xA', r_ui=None, est=3.775, details={'actual_k': 40, 'was_impossible': False})"
            ]
          },
          "metadata": {},
          "execution_count": 38
        }
      ],
      "source": [
        "# Predicting rating for a sample user with restaurant not visited by the user\n",
        "sim_item_item.predict(\"rLtl8ZkDX5vH5nAx9C3q5Q\", \"zp713qNhx8d9KCJJnrw1xA\", verbose = True)"
      ]
    },
    {
      "cell_type": "markdown",
      "metadata": {
        "id": "1te2X2MHTsns"
      },
      "source": [
        "### **Improving similarity-based recommendation system by tuning its hyper-parameters**"
      ]
    },
    {
      "cell_type": "markdown",
      "metadata": {
        "id": "J3WpEMvgTsns"
      },
      "source": [
        "Below we will be **tuning hyperparameters for the `KNNBasic` algorithms**."
      ]
    },
    {
      "cell_type": "code",
      "execution_count": null,
      "metadata": {
        "colab": {
          "base_uri": "https://localhost:8080/"
        },
        "id": "f5bcZ3HgTsnt",
        "outputId": "300fbf55-ecd5-4bb5-853b-97a701cc454d"
      },
      "outputs": [
        {
          "output_type": "stream",
          "name": "stdout",
          "text": [
            "1.0095384398239668\n",
            "{'k': 30, 'min_k': 9, 'sim_options': {'name': 'msd', 'user_based': False}}\n"
          ]
        }
      ],
      "source": [
        "# Setting up parameter grid to tune the hyperparameters\n",
        "param_grid = {'k': [10, 20, 30], 'min_k': [3, 6, 9],\n",
        "              'sim_options': {'name': ['msd', 'cosine'],\n",
        "                              'user_based': [False]}\n",
        "              }\n",
        "\n",
        "# Performing 3-fold cross validation to tune the hyperparameters\n",
        "gs = GridSearchCV(KNNBasic, param_grid, measures = ['rmse'], cv = 3, n_jobs = -1)\n",
        "\n",
        "# Fitting the model on the data\n",
        "gs.fit(data)\n",
        "\n",
        "# Print the best RMSE score\n",
        "print(gs.best_score['rmse'])\n",
        "\n",
        "# Print the combination of parameters that gave the best RMSE score\n",
        "print(gs.best_params['rmse'])"
      ]
    },
    {
      "cell_type": "markdown",
      "metadata": {
        "id": "1psOlx6zTsnt"
      },
      "source": [
        "Once the **grid search** is complete, we can get the **optimal values for each of those hyperparameters as shown above**"
      ]
    },
    {
      "cell_type": "markdown",
      "metadata": {
        "id": "JrSTaQemTsnt"
      },
      "source": [
        "Now let's build the **final model** by using **tuned values of the hyperparameters** which we received by using grid search cross-validation."
      ]
    },
    {
      "cell_type": "code",
      "execution_count": null,
      "metadata": {
        "colab": {
          "base_uri": "https://localhost:8080/"
        },
        "id": "dSeiM1qeTsnt",
        "outputId": "90232556-ae43-4399-d3d3-15325312a6f7"
      },
      "outputs": [
        {
          "output_type": "stream",
          "name": "stdout",
          "text": [
            "RMSE: 0.9986\n",
            "Precision:  0.708\n",
            "Recall:  0.375\n",
            "F_1 score:  0.49\n"
          ]
        }
      ],
      "source": [
        "# Using the optimal similarity measure for item-item based collaborative filtering\n",
        "sim_options = {'name': 'msd',\n",
        "               'user_based': False}\n",
        "\n",
        "# Creating an instance of KNNBasic with optimal hyperparameter values\n",
        "sim_item_item_optimized = KNNBasic(sim_options = sim_options, k = 30, min_k = 9, random_state = 1, verbose = False)\n",
        "\n",
        "# Training the algorithm on the trainset\n",
        "sim_item_item_optimized.fit(trainset)\n",
        "\n",
        "# Let us compute precision@k and recall@k also with k = 10\n",
        "precision_recall_at_k(sim_item_item_optimized)"
      ]
    },
    {
      "cell_type": "markdown",
      "metadata": {
        "id": "ZCXKnMI8Tsnt"
      },
      "source": [
        "- We can see from above that after tuning hyperparameters, **F_1 score of the tuned model is much better than the baseline model**. Also, there is a considerable fall in the RMSE value after tuning the hyperparameters. Hence the tuned model is doing better than the earlier one."
      ]
    },
    {
      "cell_type": "markdown",
      "metadata": {
        "id": "Sbcj_H94Tsnt"
      },
      "source": [
        "Let's us now predict **rating for an user with `userId = rLtl8ZkDX5vH5nAx9C3q5Q` and for `business_id = 9yKzy9PApeiPPOUJEtnvkg`** with the **optimized model** as shown below."
      ]
    },
    {
      "cell_type": "code",
      "execution_count": null,
      "metadata": {
        "colab": {
          "base_uri": "https://localhost:8080/"
        },
        "id": "gIBRRvdoTsnt",
        "outputId": "2d569491-a1f7-4d16-8f44-78e046f9c357"
      },
      "outputs": [
        {
          "output_type": "stream",
          "name": "stdout",
          "text": [
            "user: rLtl8ZkDX5vH5nAx9C3q5Q item: 9yKzy9PApeiPPOUJEtnvkg r_ui = 5.00   est = 4.90   {'actual_k': 30, 'was_impossible': False}\n"
          ]
        },
        {
          "output_type": "execute_result",
          "data": {
            "text/plain": [
              "Prediction(uid='rLtl8ZkDX5vH5nAx9C3q5Q', iid='9yKzy9PApeiPPOUJEtnvkg', r_ui=5, est=4.896024464831805, details={'actual_k': 30, 'was_impossible': False})"
            ]
          },
          "metadata": {},
          "execution_count": 41
        }
      ],
      "source": [
        "sim_item_item_optimized.predict(\"rLtl8ZkDX5vH5nAx9C3q5Q\", \"9yKzy9PApeiPPOUJEtnvkg\", r_ui = 5, verbose = True)"
      ]
    },
    {
      "cell_type": "markdown",
      "metadata": {
        "id": "TLnjb2gcTsnu"
      },
      "source": [
        "- Here the optimized model is predicting a good rating (almost **4.90**) for the business whose actual rating is 5."
      ]
    },
    {
      "cell_type": "markdown",
      "metadata": {
        "id": "QDxekjDKTsnu"
      },
      "source": [
        "Below we are **predicting rating** for the same **`userId = rLtl8ZkDX5vH5nAx9C3q5Q`** but for a restaurant which this user **has not visited before**, i.e., `business_id == zp713qNhx8d9KCJJnrw1xA`, by using the optimized model as shown below -"
      ]
    },
    {
      "cell_type": "code",
      "execution_count": null,
      "metadata": {
        "colab": {
          "base_uri": "https://localhost:8080/"
        },
        "id": "LNEgcI9PTsnu",
        "outputId": "a68817ac-d12b-4fa4-b7c3-a238162bec6c"
      },
      "outputs": [
        {
          "output_type": "stream",
          "name": "stdout",
          "text": [
            "user: rLtl8ZkDX5vH5nAx9C3q5Q item: zp713qNhx8d9KCJJnrw1xA r_ui = None   est = 3.71   {'actual_k': 30, 'was_impossible': False}\n"
          ]
        },
        {
          "output_type": "execute_result",
          "data": {
            "text/plain": [
              "Prediction(uid='rLtl8ZkDX5vH5nAx9C3q5Q', iid='zp713qNhx8d9KCJJnrw1xA', r_ui=None, est=3.705302758867788, details={'actual_k': 30, 'was_impossible': False})"
            ]
          },
          "metadata": {},
          "execution_count": 42
        }
      ],
      "source": [
        "sim_item_item_optimized.predict(\"rLtl8ZkDX5vH5nAx9C3q5Q\", \"zp713qNhx8d9KCJJnrw1xA\", verbose = True)"
      ]
    },
    {
      "cell_type": "markdown",
      "metadata": {
        "id": "J79LG4R0Tsnu"
      },
      "source": [
        "- For an unknown business the model is predicting a rating of **3.71**."
      ]
    },
    {
      "cell_type": "markdown",
      "metadata": {
        "id": "MDlNB7tnTsnu"
      },
      "source": [
        "### **Identifying similar items to a given item (nearest neighbors)**"
      ]
    },
    {
      "cell_type": "markdown",
      "metadata": {
        "id": "RLdDiFA6Tsnu"
      },
      "source": [
        "We can also find out **similar items** to a given item or its nearest neighbors based on this **KNNBasic algorithm**. Below we are finding 5 most similar items to the items with internal id 0 based on the `msd` distance metric"
      ]
    },
    {
      "cell_type": "code",
      "execution_count": null,
      "metadata": {
        "colab": {
          "base_uri": "https://localhost:8080/"
        },
        "id": "ZRJS4oDFTsnu",
        "outputId": "1a156c0b-ddf4-4aba-bdb4-9a2d4ea32569"
      },
      "outputs": [
        {
          "output_type": "execute_result",
          "data": {
            "text/plain": [
              "[21, 27, 35, 51, 57]"
            ]
          },
          "metadata": {},
          "execution_count": 43
        }
      ],
      "source": [
        "sim_item_item_optimized.get_neighbors(0, k = 5)"
      ]
    },
    {
      "cell_type": "markdown",
      "metadata": {
        "id": "cgREPkBbTsnu"
      },
      "source": [
        "#### **Predicted top 5 business/product for userId = \"rLtl8ZkDX5vH5nAx9C3q5Q\" with similarity based recommendation system.**"
      ]
    },
    {
      "cell_type": "code",
      "execution_count": null,
      "metadata": {
        "id": "rzoEbuZFTsnu"
      },
      "outputs": [],
      "source": [
        "# Making top 5 recommendations for user_id rLtl8ZkDX5vH5nAx9C3q5Q with similarity-based recommendation engine\n",
        "recommendations = get_recommendations(df_final, \"rLtl8ZkDX5vH5nAx9C3q5Q\", 5, sim_item_item_optimized)"
      ]
    },
    {
      "cell_type": "code",
      "execution_count": null,
      "metadata": {
        "colab": {
          "base_uri": "https://localhost:8080/",
          "height": 206
        },
        "id": "_kXVTiysTsnv",
        "outputId": "9334c49a-abc5-4a39-c70c-09728b4d269b"
      },
      "outputs": [
        {
          "output_type": "execute_result",
          "data": {
            "text/plain": [
              "              business_id  predicted_ratings\n",
              "0  5Q49MxuWJgXS649i7i2Iow           4.416667\n",
              "1  SmY_Xw31b2xyzsKbimQiHQ           4.346154\n",
              "2  N6ff0yyo9Cv_7XPz-YDoow           4.308696\n",
              "3  UmFnmIoLCRe1ywY0bzpRrQ           4.307692\n",
              "4  p204PQg45gECcYwxCAK1wA           4.307692"
            ],
            "text/html": [
              "\n",
              "  <div id=\"df-40f2fd9e-39cc-43b3-aa0f-05a833be145d\" class=\"colab-df-container\">\n",
              "    <div>\n",
              "<style scoped>\n",
              "    .dataframe tbody tr th:only-of-type {\n",
              "        vertical-align: middle;\n",
              "    }\n",
              "\n",
              "    .dataframe tbody tr th {\n",
              "        vertical-align: top;\n",
              "    }\n",
              "\n",
              "    .dataframe thead th {\n",
              "        text-align: right;\n",
              "    }\n",
              "</style>\n",
              "<table border=\"1\" class=\"dataframe\">\n",
              "  <thead>\n",
              "    <tr style=\"text-align: right;\">\n",
              "      <th></th>\n",
              "      <th>business_id</th>\n",
              "      <th>predicted_ratings</th>\n",
              "    </tr>\n",
              "  </thead>\n",
              "  <tbody>\n",
              "    <tr>\n",
              "      <th>0</th>\n",
              "      <td>5Q49MxuWJgXS649i7i2Iow</td>\n",
              "      <td>4.416667</td>\n",
              "    </tr>\n",
              "    <tr>\n",
              "      <th>1</th>\n",
              "      <td>SmY_Xw31b2xyzsKbimQiHQ</td>\n",
              "      <td>4.346154</td>\n",
              "    </tr>\n",
              "    <tr>\n",
              "      <th>2</th>\n",
              "      <td>N6ff0yyo9Cv_7XPz-YDoow</td>\n",
              "      <td>4.308696</td>\n",
              "    </tr>\n",
              "    <tr>\n",
              "      <th>3</th>\n",
              "      <td>UmFnmIoLCRe1ywY0bzpRrQ</td>\n",
              "      <td>4.307692</td>\n",
              "    </tr>\n",
              "    <tr>\n",
              "      <th>4</th>\n",
              "      <td>p204PQg45gECcYwxCAK1wA</td>\n",
              "      <td>4.307692</td>\n",
              "    </tr>\n",
              "  </tbody>\n",
              "</table>\n",
              "</div>\n",
              "    <div class=\"colab-df-buttons\">\n",
              "\n",
              "  <div class=\"colab-df-container\">\n",
              "    <button class=\"colab-df-convert\" onclick=\"convertToInteractive('df-40f2fd9e-39cc-43b3-aa0f-05a833be145d')\"\n",
              "            title=\"Convert this dataframe to an interactive table.\"\n",
              "            style=\"display:none;\">\n",
              "\n",
              "  <svg xmlns=\"http://www.w3.org/2000/svg\" height=\"24px\" viewBox=\"0 -960 960 960\">\n",
              "    <path d=\"M120-120v-720h720v720H120Zm60-500h600v-160H180v160Zm220 220h160v-160H400v160Zm0 220h160v-160H400v160ZM180-400h160v-160H180v160Zm440 0h160v-160H620v160ZM180-180h160v-160H180v160Zm440 0h160v-160H620v160Z\"/>\n",
              "  </svg>\n",
              "    </button>\n",
              "\n",
              "  <style>\n",
              "    .colab-df-container {\n",
              "      display:flex;\n",
              "      gap: 12px;\n",
              "    }\n",
              "\n",
              "    .colab-df-convert {\n",
              "      background-color: #E8F0FE;\n",
              "      border: none;\n",
              "      border-radius: 50%;\n",
              "      cursor: pointer;\n",
              "      display: none;\n",
              "      fill: #1967D2;\n",
              "      height: 32px;\n",
              "      padding: 0 0 0 0;\n",
              "      width: 32px;\n",
              "    }\n",
              "\n",
              "    .colab-df-convert:hover {\n",
              "      background-color: #E2EBFA;\n",
              "      box-shadow: 0px 1px 2px rgba(60, 64, 67, 0.3), 0px 1px 3px 1px rgba(60, 64, 67, 0.15);\n",
              "      fill: #174EA6;\n",
              "    }\n",
              "\n",
              "    .colab-df-buttons div {\n",
              "      margin-bottom: 4px;\n",
              "    }\n",
              "\n",
              "    [theme=dark] .colab-df-convert {\n",
              "      background-color: #3B4455;\n",
              "      fill: #D2E3FC;\n",
              "    }\n",
              "\n",
              "    [theme=dark] .colab-df-convert:hover {\n",
              "      background-color: #434B5C;\n",
              "      box-shadow: 0px 1px 3px 1px rgba(0, 0, 0, 0.15);\n",
              "      filter: drop-shadow(0px 1px 2px rgba(0, 0, 0, 0.3));\n",
              "      fill: #FFFFFF;\n",
              "    }\n",
              "  </style>\n",
              "\n",
              "    <script>\n",
              "      const buttonEl =\n",
              "        document.querySelector('#df-40f2fd9e-39cc-43b3-aa0f-05a833be145d button.colab-df-convert');\n",
              "      buttonEl.style.display =\n",
              "        google.colab.kernel.accessAllowed ? 'block' : 'none';\n",
              "\n",
              "      async function convertToInteractive(key) {\n",
              "        const element = document.querySelector('#df-40f2fd9e-39cc-43b3-aa0f-05a833be145d');\n",
              "        const dataTable =\n",
              "          await google.colab.kernel.invokeFunction('convertToInteractive',\n",
              "                                                    [key], {});\n",
              "        if (!dataTable) return;\n",
              "\n",
              "        const docLinkHtml = 'Like what you see? Visit the ' +\n",
              "          '<a target=\"_blank\" href=https://colab.research.google.com/notebooks/data_table.ipynb>data table notebook</a>'\n",
              "          + ' to learn more about interactive tables.';\n",
              "        element.innerHTML = '';\n",
              "        dataTable['output_type'] = 'display_data';\n",
              "        await google.colab.output.renderOutput(dataTable, element);\n",
              "        const docLink = document.createElement('div');\n",
              "        docLink.innerHTML = docLinkHtml;\n",
              "        element.appendChild(docLink);\n",
              "      }\n",
              "    </script>\n",
              "  </div>\n",
              "\n",
              "\n",
              "<div id=\"df-f681ef0c-b821-411b-9f72-c81f23e027da\">\n",
              "  <button class=\"colab-df-quickchart\" onclick=\"quickchart('df-f681ef0c-b821-411b-9f72-c81f23e027da')\"\n",
              "            title=\"Suggest charts\"\n",
              "            style=\"display:none;\">\n",
              "\n",
              "<svg xmlns=\"http://www.w3.org/2000/svg\" height=\"24px\"viewBox=\"0 0 24 24\"\n",
              "     width=\"24px\">\n",
              "    <g>\n",
              "        <path d=\"M19 3H5c-1.1 0-2 .9-2 2v14c0 1.1.9 2 2 2h14c1.1 0 2-.9 2-2V5c0-1.1-.9-2-2-2zM9 17H7v-7h2v7zm4 0h-2V7h2v10zm4 0h-2v-4h2v4z\"/>\n",
              "    </g>\n",
              "</svg>\n",
              "  </button>\n",
              "\n",
              "<style>\n",
              "  .colab-df-quickchart {\n",
              "      --bg-color: #E8F0FE;\n",
              "      --fill-color: #1967D2;\n",
              "      --hover-bg-color: #E2EBFA;\n",
              "      --hover-fill-color: #174EA6;\n",
              "      --disabled-fill-color: #AAA;\n",
              "      --disabled-bg-color: #DDD;\n",
              "  }\n",
              "\n",
              "  [theme=dark] .colab-df-quickchart {\n",
              "      --bg-color: #3B4455;\n",
              "      --fill-color: #D2E3FC;\n",
              "      --hover-bg-color: #434B5C;\n",
              "      --hover-fill-color: #FFFFFF;\n",
              "      --disabled-bg-color: #3B4455;\n",
              "      --disabled-fill-color: #666;\n",
              "  }\n",
              "\n",
              "  .colab-df-quickchart {\n",
              "    background-color: var(--bg-color);\n",
              "    border: none;\n",
              "    border-radius: 50%;\n",
              "    cursor: pointer;\n",
              "    display: none;\n",
              "    fill: var(--fill-color);\n",
              "    height: 32px;\n",
              "    padding: 0;\n",
              "    width: 32px;\n",
              "  }\n",
              "\n",
              "  .colab-df-quickchart:hover {\n",
              "    background-color: var(--hover-bg-color);\n",
              "    box-shadow: 0 1px 2px rgba(60, 64, 67, 0.3), 0 1px 3px 1px rgba(60, 64, 67, 0.15);\n",
              "    fill: var(--button-hover-fill-color);\n",
              "  }\n",
              "\n",
              "  .colab-df-quickchart-complete:disabled,\n",
              "  .colab-df-quickchart-complete:disabled:hover {\n",
              "    background-color: var(--disabled-bg-color);\n",
              "    fill: var(--disabled-fill-color);\n",
              "    box-shadow: none;\n",
              "  }\n",
              "\n",
              "  .colab-df-spinner {\n",
              "    border: 2px solid var(--fill-color);\n",
              "    border-color: transparent;\n",
              "    border-bottom-color: var(--fill-color);\n",
              "    animation:\n",
              "      spin 1s steps(1) infinite;\n",
              "  }\n",
              "\n",
              "  @keyframes spin {\n",
              "    0% {\n",
              "      border-color: transparent;\n",
              "      border-bottom-color: var(--fill-color);\n",
              "      border-left-color: var(--fill-color);\n",
              "    }\n",
              "    20% {\n",
              "      border-color: transparent;\n",
              "      border-left-color: var(--fill-color);\n",
              "      border-top-color: var(--fill-color);\n",
              "    }\n",
              "    30% {\n",
              "      border-color: transparent;\n",
              "      border-left-color: var(--fill-color);\n",
              "      border-top-color: var(--fill-color);\n",
              "      border-right-color: var(--fill-color);\n",
              "    }\n",
              "    40% {\n",
              "      border-color: transparent;\n",
              "      border-right-color: var(--fill-color);\n",
              "      border-top-color: var(--fill-color);\n",
              "    }\n",
              "    60% {\n",
              "      border-color: transparent;\n",
              "      border-right-color: var(--fill-color);\n",
              "    }\n",
              "    80% {\n",
              "      border-color: transparent;\n",
              "      border-right-color: var(--fill-color);\n",
              "      border-bottom-color: var(--fill-color);\n",
              "    }\n",
              "    90% {\n",
              "      border-color: transparent;\n",
              "      border-bottom-color: var(--fill-color);\n",
              "    }\n",
              "  }\n",
              "</style>\n",
              "\n",
              "  <script>\n",
              "    async function quickchart(key) {\n",
              "      const quickchartButtonEl =\n",
              "        document.querySelector('#' + key + ' button');\n",
              "      quickchartButtonEl.disabled = true;  // To prevent multiple clicks.\n",
              "      quickchartButtonEl.classList.add('colab-df-spinner');\n",
              "      try {\n",
              "        const charts = await google.colab.kernel.invokeFunction(\n",
              "            'suggestCharts', [key], {});\n",
              "      } catch (error) {\n",
              "        console.error('Error during call to suggestCharts:', error);\n",
              "      }\n",
              "      quickchartButtonEl.classList.remove('colab-df-spinner');\n",
              "      quickchartButtonEl.classList.add('colab-df-quickchart-complete');\n",
              "    }\n",
              "    (() => {\n",
              "      let quickchartButtonEl =\n",
              "        document.querySelector('#df-f681ef0c-b821-411b-9f72-c81f23e027da button');\n",
              "      quickchartButtonEl.style.display =\n",
              "        google.colab.kernel.accessAllowed ? 'block' : 'none';\n",
              "    })();\n",
              "  </script>\n",
              "</div>\n",
              "\n",
              "    </div>\n",
              "  </div>\n"
            ],
            "application/vnd.google.colaboratory.intrinsic+json": {
              "type": "dataframe",
              "summary": "{\n  \"name\": \"pd\",\n  \"rows\": 5,\n  \"fields\": [\n    {\n      \"column\": \"business_id\",\n      \"properties\": {\n        \"dtype\": \"string\",\n        \"num_unique_values\": 5,\n        \"samples\": [\n          \"SmY_Xw31b2xyzsKbimQiHQ\",\n          \"p204PQg45gECcYwxCAK1wA\",\n          \"N6ff0yyo9Cv_7XPz-YDoow\"\n        ],\n        \"semantic_type\": \"\",\n        \"description\": \"\"\n      }\n    },\n    {\n      \"column\": \"predicted_ratings\",\n      \"properties\": {\n        \"dtype\": \"number\",\n        \"std\": 0.04729922263272671,\n        \"min\": 4.307692307692308,\n        \"max\": 4.416666666666667,\n        \"num_unique_values\": 4,\n        \"samples\": [\n          4.346153846153846,\n          4.307692307692308,\n          4.416666666666667\n        ],\n        \"semantic_type\": \"\",\n        \"description\": \"\"\n      }\n    }\n  ]\n}"
            }
          },
          "metadata": {},
          "execution_count": 45
        }
      ],
      "source": [
        "# Building the dataframe for above recommendations with columns \"business_id\" and \"predicted_ratings\"\n",
        "pd.DataFrame(recommendations, columns = ['business_id', 'predicted_ratings'])"
      ]
    },
    {
      "cell_type": "code",
      "execution_count": null,
      "metadata": {
        "colab": {
          "base_uri": "https://localhost:8080/",
          "height": 206
        },
        "id": "7gewfmTATsnv",
        "outputId": "6cc72f4e-de9f-476b-ecd1-4e16bcbbf02b"
      },
      "outputs": [
        {
          "output_type": "execute_result",
          "data": {
            "text/plain": [
              "              business_id  rating_count  predicted_ratings  corrected_ratings\n",
              "1  5Q49MxuWJgXS649i7i2Iow            10           4.416667           4.100439\n",
              "0  SmY_Xw31b2xyzsKbimQiHQ            15           4.346154           4.087955\n",
              "2  N6ff0yyo9Cv_7XPz-YDoow             7           4.308696           3.930731\n",
              "3  UmFnmIoLCRe1ywY0bzpRrQ             4           4.307692           3.807692\n",
              "4  p204PQg45gECcYwxCAK1wA             3           4.307692           3.730342"
            ],
            "text/html": [
              "\n",
              "  <div id=\"df-6da5676f-9111-44cf-b4cf-fb234434074f\" class=\"colab-df-container\">\n",
              "    <div>\n",
              "<style scoped>\n",
              "    .dataframe tbody tr th:only-of-type {\n",
              "        vertical-align: middle;\n",
              "    }\n",
              "\n",
              "    .dataframe tbody tr th {\n",
              "        vertical-align: top;\n",
              "    }\n",
              "\n",
              "    .dataframe thead th {\n",
              "        text-align: right;\n",
              "    }\n",
              "</style>\n",
              "<table border=\"1\" class=\"dataframe\">\n",
              "  <thead>\n",
              "    <tr style=\"text-align: right;\">\n",
              "      <th></th>\n",
              "      <th>business_id</th>\n",
              "      <th>rating_count</th>\n",
              "      <th>predicted_ratings</th>\n",
              "      <th>corrected_ratings</th>\n",
              "    </tr>\n",
              "  </thead>\n",
              "  <tbody>\n",
              "    <tr>\n",
              "      <th>1</th>\n",
              "      <td>5Q49MxuWJgXS649i7i2Iow</td>\n",
              "      <td>10</td>\n",
              "      <td>4.416667</td>\n",
              "      <td>4.100439</td>\n",
              "    </tr>\n",
              "    <tr>\n",
              "      <th>0</th>\n",
              "      <td>SmY_Xw31b2xyzsKbimQiHQ</td>\n",
              "      <td>15</td>\n",
              "      <td>4.346154</td>\n",
              "      <td>4.087955</td>\n",
              "    </tr>\n",
              "    <tr>\n",
              "      <th>2</th>\n",
              "      <td>N6ff0yyo9Cv_7XPz-YDoow</td>\n",
              "      <td>7</td>\n",
              "      <td>4.308696</td>\n",
              "      <td>3.930731</td>\n",
              "    </tr>\n",
              "    <tr>\n",
              "      <th>3</th>\n",
              "      <td>UmFnmIoLCRe1ywY0bzpRrQ</td>\n",
              "      <td>4</td>\n",
              "      <td>4.307692</td>\n",
              "      <td>3.807692</td>\n",
              "    </tr>\n",
              "    <tr>\n",
              "      <th>4</th>\n",
              "      <td>p204PQg45gECcYwxCAK1wA</td>\n",
              "      <td>3</td>\n",
              "      <td>4.307692</td>\n",
              "      <td>3.730342</td>\n",
              "    </tr>\n",
              "  </tbody>\n",
              "</table>\n",
              "</div>\n",
              "    <div class=\"colab-df-buttons\">\n",
              "\n",
              "  <div class=\"colab-df-container\">\n",
              "    <button class=\"colab-df-convert\" onclick=\"convertToInteractive('df-6da5676f-9111-44cf-b4cf-fb234434074f')\"\n",
              "            title=\"Convert this dataframe to an interactive table.\"\n",
              "            style=\"display:none;\">\n",
              "\n",
              "  <svg xmlns=\"http://www.w3.org/2000/svg\" height=\"24px\" viewBox=\"0 -960 960 960\">\n",
              "    <path d=\"M120-120v-720h720v720H120Zm60-500h600v-160H180v160Zm220 220h160v-160H400v160Zm0 220h160v-160H400v160ZM180-400h160v-160H180v160Zm440 0h160v-160H620v160ZM180-180h160v-160H180v160Zm440 0h160v-160H620v160Z\"/>\n",
              "  </svg>\n",
              "    </button>\n",
              "\n",
              "  <style>\n",
              "    .colab-df-container {\n",
              "      display:flex;\n",
              "      gap: 12px;\n",
              "    }\n",
              "\n",
              "    .colab-df-convert {\n",
              "      background-color: #E8F0FE;\n",
              "      border: none;\n",
              "      border-radius: 50%;\n",
              "      cursor: pointer;\n",
              "      display: none;\n",
              "      fill: #1967D2;\n",
              "      height: 32px;\n",
              "      padding: 0 0 0 0;\n",
              "      width: 32px;\n",
              "    }\n",
              "\n",
              "    .colab-df-convert:hover {\n",
              "      background-color: #E2EBFA;\n",
              "      box-shadow: 0px 1px 2px rgba(60, 64, 67, 0.3), 0px 1px 3px 1px rgba(60, 64, 67, 0.15);\n",
              "      fill: #174EA6;\n",
              "    }\n",
              "\n",
              "    .colab-df-buttons div {\n",
              "      margin-bottom: 4px;\n",
              "    }\n",
              "\n",
              "    [theme=dark] .colab-df-convert {\n",
              "      background-color: #3B4455;\n",
              "      fill: #D2E3FC;\n",
              "    }\n",
              "\n",
              "    [theme=dark] .colab-df-convert:hover {\n",
              "      background-color: #434B5C;\n",
              "      box-shadow: 0px 1px 3px 1px rgba(0, 0, 0, 0.15);\n",
              "      filter: drop-shadow(0px 1px 2px rgba(0, 0, 0, 0.3));\n",
              "      fill: #FFFFFF;\n",
              "    }\n",
              "  </style>\n",
              "\n",
              "    <script>\n",
              "      const buttonEl =\n",
              "        document.querySelector('#df-6da5676f-9111-44cf-b4cf-fb234434074f button.colab-df-convert');\n",
              "      buttonEl.style.display =\n",
              "        google.colab.kernel.accessAllowed ? 'block' : 'none';\n",
              "\n",
              "      async function convertToInteractive(key) {\n",
              "        const element = document.querySelector('#df-6da5676f-9111-44cf-b4cf-fb234434074f');\n",
              "        const dataTable =\n",
              "          await google.colab.kernel.invokeFunction('convertToInteractive',\n",
              "                                                    [key], {});\n",
              "        if (!dataTable) return;\n",
              "\n",
              "        const docLinkHtml = 'Like what you see? Visit the ' +\n",
              "          '<a target=\"_blank\" href=https://colab.research.google.com/notebooks/data_table.ipynb>data table notebook</a>'\n",
              "          + ' to learn more about interactive tables.';\n",
              "        element.innerHTML = '';\n",
              "        dataTable['output_type'] = 'display_data';\n",
              "        await google.colab.output.renderOutput(dataTable, element);\n",
              "        const docLink = document.createElement('div');\n",
              "        docLink.innerHTML = docLinkHtml;\n",
              "        element.appendChild(docLink);\n",
              "      }\n",
              "    </script>\n",
              "  </div>\n",
              "\n",
              "\n",
              "<div id=\"df-86378ec9-9972-483b-9033-66fdd35a0299\">\n",
              "  <button class=\"colab-df-quickchart\" onclick=\"quickchart('df-86378ec9-9972-483b-9033-66fdd35a0299')\"\n",
              "            title=\"Suggest charts\"\n",
              "            style=\"display:none;\">\n",
              "\n",
              "<svg xmlns=\"http://www.w3.org/2000/svg\" height=\"24px\"viewBox=\"0 0 24 24\"\n",
              "     width=\"24px\">\n",
              "    <g>\n",
              "        <path d=\"M19 3H5c-1.1 0-2 .9-2 2v14c0 1.1.9 2 2 2h14c1.1 0 2-.9 2-2V5c0-1.1-.9-2-2-2zM9 17H7v-7h2v7zm4 0h-2V7h2v10zm4 0h-2v-4h2v4z\"/>\n",
              "    </g>\n",
              "</svg>\n",
              "  </button>\n",
              "\n",
              "<style>\n",
              "  .colab-df-quickchart {\n",
              "      --bg-color: #E8F0FE;\n",
              "      --fill-color: #1967D2;\n",
              "      --hover-bg-color: #E2EBFA;\n",
              "      --hover-fill-color: #174EA6;\n",
              "      --disabled-fill-color: #AAA;\n",
              "      --disabled-bg-color: #DDD;\n",
              "  }\n",
              "\n",
              "  [theme=dark] .colab-df-quickchart {\n",
              "      --bg-color: #3B4455;\n",
              "      --fill-color: #D2E3FC;\n",
              "      --hover-bg-color: #434B5C;\n",
              "      --hover-fill-color: #FFFFFF;\n",
              "      --disabled-bg-color: #3B4455;\n",
              "      --disabled-fill-color: #666;\n",
              "  }\n",
              "\n",
              "  .colab-df-quickchart {\n",
              "    background-color: var(--bg-color);\n",
              "    border: none;\n",
              "    border-radius: 50%;\n",
              "    cursor: pointer;\n",
              "    display: none;\n",
              "    fill: var(--fill-color);\n",
              "    height: 32px;\n",
              "    padding: 0;\n",
              "    width: 32px;\n",
              "  }\n",
              "\n",
              "  .colab-df-quickchart:hover {\n",
              "    background-color: var(--hover-bg-color);\n",
              "    box-shadow: 0 1px 2px rgba(60, 64, 67, 0.3), 0 1px 3px 1px rgba(60, 64, 67, 0.15);\n",
              "    fill: var(--button-hover-fill-color);\n",
              "  }\n",
              "\n",
              "  .colab-df-quickchart-complete:disabled,\n",
              "  .colab-df-quickchart-complete:disabled:hover {\n",
              "    background-color: var(--disabled-bg-color);\n",
              "    fill: var(--disabled-fill-color);\n",
              "    box-shadow: none;\n",
              "  }\n",
              "\n",
              "  .colab-df-spinner {\n",
              "    border: 2px solid var(--fill-color);\n",
              "    border-color: transparent;\n",
              "    border-bottom-color: var(--fill-color);\n",
              "    animation:\n",
              "      spin 1s steps(1) infinite;\n",
              "  }\n",
              "\n",
              "  @keyframes spin {\n",
              "    0% {\n",
              "      border-color: transparent;\n",
              "      border-bottom-color: var(--fill-color);\n",
              "      border-left-color: var(--fill-color);\n",
              "    }\n",
              "    20% {\n",
              "      border-color: transparent;\n",
              "      border-left-color: var(--fill-color);\n",
              "      border-top-color: var(--fill-color);\n",
              "    }\n",
              "    30% {\n",
              "      border-color: transparent;\n",
              "      border-left-color: var(--fill-color);\n",
              "      border-top-color: var(--fill-color);\n",
              "      border-right-color: var(--fill-color);\n",
              "    }\n",
              "    40% {\n",
              "      border-color: transparent;\n",
              "      border-right-color: var(--fill-color);\n",
              "      border-top-color: var(--fill-color);\n",
              "    }\n",
              "    60% {\n",
              "      border-color: transparent;\n",
              "      border-right-color: var(--fill-color);\n",
              "    }\n",
              "    80% {\n",
              "      border-color: transparent;\n",
              "      border-right-color: var(--fill-color);\n",
              "      border-bottom-color: var(--fill-color);\n",
              "    }\n",
              "    90% {\n",
              "      border-color: transparent;\n",
              "      border-bottom-color: var(--fill-color);\n",
              "    }\n",
              "  }\n",
              "</style>\n",
              "\n",
              "  <script>\n",
              "    async function quickchart(key) {\n",
              "      const quickchartButtonEl =\n",
              "        document.querySelector('#' + key + ' button');\n",
              "      quickchartButtonEl.disabled = true;  // To prevent multiple clicks.\n",
              "      quickchartButtonEl.classList.add('colab-df-spinner');\n",
              "      try {\n",
              "        const charts = await google.colab.kernel.invokeFunction(\n",
              "            'suggestCharts', [key], {});\n",
              "      } catch (error) {\n",
              "        console.error('Error during call to suggestCharts:', error);\n",
              "      }\n",
              "      quickchartButtonEl.classList.remove('colab-df-spinner');\n",
              "      quickchartButtonEl.classList.add('colab-df-quickchart-complete');\n",
              "    }\n",
              "    (() => {\n",
              "      let quickchartButtonEl =\n",
              "        document.querySelector('#df-86378ec9-9972-483b-9033-66fdd35a0299 button');\n",
              "      quickchartButtonEl.style.display =\n",
              "        google.colab.kernel.accessAllowed ? 'block' : 'none';\n",
              "    })();\n",
              "  </script>\n",
              "</div>\n",
              "\n",
              "    </div>\n",
              "  </div>\n"
            ],
            "application/vnd.google.colaboratory.intrinsic+json": {
              "type": "dataframe",
              "summary": "{\n  \"name\": \"ranking_products(recommendations, final_rating)\",\n  \"rows\": 5,\n  \"fields\": [\n    {\n      \"column\": \"business_id\",\n      \"properties\": {\n        \"dtype\": \"string\",\n        \"num_unique_values\": 5,\n        \"samples\": [\n          \"SmY_Xw31b2xyzsKbimQiHQ\",\n          \"p204PQg45gECcYwxCAK1wA\",\n          \"N6ff0yyo9Cv_7XPz-YDoow\"\n        ],\n        \"semantic_type\": \"\",\n        \"description\": \"\"\n      }\n    },\n    {\n      \"column\": \"rating_count\",\n      \"properties\": {\n        \"dtype\": \"number\",\n        \"std\": 4,\n        \"min\": 3,\n        \"max\": 15,\n        \"num_unique_values\": 5,\n        \"samples\": [\n          15,\n          3,\n          7\n        ],\n        \"semantic_type\": \"\",\n        \"description\": \"\"\n      }\n    },\n    {\n      \"column\": \"predicted_ratings\",\n      \"properties\": {\n        \"dtype\": \"number\",\n        \"std\": 0.04729922263272671,\n        \"min\": 4.307692307692308,\n        \"max\": 4.416666666666667,\n        \"num_unique_values\": 4,\n        \"samples\": [\n          4.346153846153846,\n          4.307692307692308,\n          4.416666666666667\n        ],\n        \"semantic_type\": \"\",\n        \"description\": \"\"\n      }\n    },\n    {\n      \"column\": \"corrected_ratings\",\n      \"properties\": {\n        \"dtype\": \"number\",\n        \"std\": 0.1649332770900946,\n        \"min\": 3.7303420385026826,\n        \"max\": 4.100438900649829,\n        \"num_unique_values\": 5,\n        \"samples\": [\n          4.087954956406684,\n          3.7303420385026826,\n          3.930731179164686\n        ],\n        \"semantic_type\": \"\",\n        \"description\": \"\"\n      }\n    }\n  ]\n}"
            }
          },
          "metadata": {},
          "execution_count": 46
        }
      ],
      "source": [
        "# Applying the ranking_products function and sorting it based on corrected ratings\n",
        "ranking_products(recommendations, final_rating)"
      ]
    },
    {
      "cell_type": "markdown",
      "metadata": {
        "id": "DHzmYvs0Tsnv"
      },
      "source": [
        "* Now as we have seen **similarity-based collaborative filtering algorithms**, let us now get into **model-based collaborative filtering algorithms**."
      ]
    },
    {
      "cell_type": "markdown",
      "metadata": {
        "id": "rKgJpSA9vOOL"
      },
      "source": [
        "### Model 4: **Building Model Based Collaborative Filtering Recommendation System - Matrix Factorization**"
      ]
    },
    {
      "cell_type": "markdown",
      "metadata": {
        "id": "YF6ZGyqhCAob"
      },
      "source": [
        "Model-based Collaborative Filtering is a **personalized recommendation system**, the recommendations are based on the past behavior of the user and it is not dependent on any additional information. We use **latent features** to find recommendations for each user."
      ]
    },
    {
      "cell_type": "markdown",
      "metadata": {
        "id": "n4Otha8ovOOL"
      },
      "source": [
        "### **Singular Value Decomposition (SVD)**"
      ]
    },
    {
      "cell_type": "markdown",
      "metadata": {
        "id": "3sGl3QkLvOOL"
      },
      "source": [
        "SVD is used to **compute the latent features** from the **user-item interaction matrix**. But SVD does not work when values are missing in the **user-item interaction matrix**."
      ]
    },
    {
      "cell_type": "markdown",
      "metadata": {
        "id": "uOtkUXmAnVNL"
      },
      "source": [
        "### **Building a baseline matrix factorization recommendation system**"
      ]
    },
    {
      "cell_type": "code",
      "execution_count": null,
      "metadata": {
        "colab": {
          "base_uri": "https://localhost:8080/"
        },
        "id": "07-2PT5Ssjqm",
        "outputId": "fd879710-2985-45f2-be35-2bbe2c2b4829"
      },
      "outputs": [
        {
          "output_type": "stream",
          "name": "stdout",
          "text": [
            "RMSE: 0.9630\n",
            "Precision:  0.77\n",
            "Recall:  0.383\n",
            "F_1 score:  0.512\n"
          ]
        }
      ],
      "source": [
        "# Using SVD matrix factorization\n",
        "svd = SVD(random_state = 1)\n",
        "\n",
        "# Training the algorithm on the trainset\n",
        "svd.fit(trainset)\n",
        "\n",
        "# Let us compute precision@k and recall@k with k = 10\n",
        "precision_recall_at_k(svd)"
      ]
    },
    {
      "cell_type": "markdown",
      "metadata": {
        "id": "BQ6fTuCDnVNL"
      },
      "source": [
        "- The baseline model with the algorithm is giving a nice F-1 score (almost **51%**). It indicates a good performance by the model."
      ]
    },
    {
      "cell_type": "markdown",
      "metadata": {
        "id": "HD2AU1DnnVNM"
      },
      "source": [
        "Let's now predict the rating for a user with **`userId = \"rLtl8ZkDX5vH5nAx9C3q5Q`\"** and **`business_id = \"9yKzy9PApeiPPOUJEtnvkg\"`** as shown below. Here the user has already rated.."
      ]
    },
    {
      "cell_type": "code",
      "execution_count": null,
      "metadata": {
        "colab": {
          "base_uri": "https://localhost:8080/"
        },
        "id": "yWIhfdxXsjqm",
        "outputId": "54f6a23c-9e36-4d4f-9e5e-2970c3474e03"
      },
      "outputs": [
        {
          "output_type": "stream",
          "name": "stdout",
          "text": [
            "user: rLtl8ZkDX5vH5nAx9C3q5Q item: 9yKzy9PApeiPPOUJEtnvkg r_ui = 5.00   est = 4.16   {'was_impossible': False}\n"
          ]
        },
        {
          "output_type": "execute_result",
          "data": {
            "text/plain": [
              "Prediction(uid='rLtl8ZkDX5vH5nAx9C3q5Q', iid='9yKzy9PApeiPPOUJEtnvkg', r_ui=5, est=4.155179595069889, details={'was_impossible': False})"
            ]
          },
          "metadata": {},
          "execution_count": 48
        }
      ],
      "source": [
        "# Making the prediction\n",
        "svd.predict(\"rLtl8ZkDX5vH5nAx9C3q5Q\", \"9yKzy9PApeiPPOUJEtnvkg\", r_ui = 5, verbose = True)"
      ]
    },
    {
      "cell_type": "markdown",
      "metadata": {
        "id": "oIjzqDY5nVNM"
      },
      "source": [
        "As we can see - **the actual rating** for this user-item pair is 5 and the predicted rating is also close to that. It seems like we have under-estimated the rating. We will try to fix this later by **tuning the hyperparameters** of the model using GridSearchCV."
      ]
    },
    {
      "cell_type": "markdown",
      "metadata": {
        "id": "I1aYxVeMnVNM"
      },
      "source": [
        "Below we are predicting rating for the same `userId = rLtl8ZkDX5vH5nAx9C3q5Q` but for a restaurant which this user has not seen before, i.e., `business_id = zp713qNhx8d9KCJJnrw1xA`, as shown below -"
      ]
    },
    {
      "cell_type": "code",
      "execution_count": null,
      "metadata": {
        "colab": {
          "base_uri": "https://localhost:8080/"
        },
        "id": "APm-uMSvcAMf",
        "outputId": "2fff005a-e091-408b-c82c-9d62ec0bf74d"
      },
      "outputs": [
        {
          "output_type": "stream",
          "name": "stdout",
          "text": [
            "user: rLtl8ZkDX5vH5nAx9C3q5Q item: zp713qNhx8d9KCJJnrw1xA r_ui = None   est = 4.09   {'was_impossible': False}\n"
          ]
        },
        {
          "output_type": "execute_result",
          "data": {
            "text/plain": [
              "Prediction(uid='rLtl8ZkDX5vH5nAx9C3q5Q', iid='zp713qNhx8d9KCJJnrw1xA', r_ui=None, est=4.09204353877637, details={'was_impossible': False})"
            ]
          },
          "metadata": {},
          "execution_count": 49
        }
      ],
      "source": [
        "# Making prediction using the svd model\n",
        "svd.predict(\"rLtl8ZkDX5vH5nAx9C3q5Q\", \"zp713qNhx8d9KCJJnrw1xA\", verbose = True)"
      ]
    },
    {
      "cell_type": "markdown",
      "metadata": {
        "id": "NEL6dy3wnVNM"
      },
      "source": [
        "We can see that the **estimated rating** for this **user-item pair** is ~4.10 based on this **matrix factorization based baseline model**."
      ]
    },
    {
      "cell_type": "markdown",
      "metadata": {
        "id": "x13Eb9Owvpcw"
      },
      "source": [
        "### **Improving matrix factorization-based recommendation system by tuning its hyper-parameters.**"
      ]
    },
    {
      "cell_type": "markdown",
      "metadata": {
        "id": "qbd3L1d2nVNM"
      },
      "source": [
        "In SVD, rating is predicted as -"
      ]
    },
    {
      "cell_type": "markdown",
      "metadata": {
        "id": "Wp38lmEqnVNM"
      },
      "source": [
        "$$\\hat{r}_{u i}=\\mu+b_{u}+b_{i}+q_{i}^{T} p_{u}$$"
      ]
    },
    {
      "cell_type": "markdown",
      "metadata": {
        "id": "bHVAYuFznVNN"
      },
      "source": [
        "If user $u$ is unknown, then the bias $b_{u}$ and the factors $p_{u}$ are assumed to be zero. The same applies for item $i$ with $b_{i}$ and $q_{i}$."
      ]
    },
    {
      "cell_type": "markdown",
      "metadata": {
        "id": "jCfY5mr7nVNN"
      },
      "source": [
        "To estimate all the unknown, we minimize the following regularized squared error:"
      ]
    },
    {
      "cell_type": "markdown",
      "metadata": {
        "id": "1WyyjmK7nVNN"
      },
      "source": [
        "$$\\sum_{r_{u i} \\in R_{\\text {train }}}\\left(r_{u i}-\\hat{r}_{u i}\\right)^{2}+\\lambda\\left(b_{i}^{2}+b_{u}^{2}+\\left\\|q_{i}\\right\\|^{2}+\\left\\|p_{u}\\right\\|^{2}\\right)$$"
      ]
    },
    {
      "cell_type": "markdown",
      "metadata": {
        "id": "-GBMNL9qnVNN"
      },
      "source": [
        "The minimization is performed by a very straightforward **stochastic gradient descent**:"
      ]
    },
    {
      "cell_type": "markdown",
      "metadata": {
        "id": "CwJJRsJGnVNN"
      },
      "source": [
        "$$\\begin{aligned} b_{u} & \\leftarrow b_{u}+\\gamma\\left(e_{u i}-\\lambda b_{u}\\right) \\\\ b_{i} & \\leftarrow b_{i}+\\gamma\\left(e_{u i}-\\lambda b_{i}\\right) \\\\ p_{u} & \\leftarrow p_{u}+\\gamma\\left(e_{u i} \\cdot q_{i}-\\lambda p_{u}\\right) \\\\ q_{i} & \\leftarrow q_{i}+\\gamma\\left(e_{u i} \\cdot p_{u}-\\lambda q_{i}\\right) \\end{aligned}$$"
      ]
    },
    {
      "cell_type": "markdown",
      "metadata": {
        "id": "nuRjcsUknVNN"
      },
      "source": [
        "There are many hyperparameters to tune in this algorithm, you can find a full list of hyperparameters [here](https://surprise.readthedocs.io/en/stable/matrix_factorization.html#surprise.prediction_algorithms.matrix_factorization.SVD)"
      ]
    },
    {
      "cell_type": "markdown",
      "metadata": {
        "id": "iQcDPhhcnVNN"
      },
      "source": [
        "Below we will be tuning only three hyperparameters -\n",
        "- **n_epochs**: The number of iterations of the SVD algorithm.\n",
        "- **lr_all**: The learning rate for all parameters.\n",
        "- **reg_all**: The regularization term for all parameters."
      ]
    },
    {
      "cell_type": "code",
      "execution_count": null,
      "metadata": {
        "colab": {
          "base_uri": "https://localhost:8080/"
        },
        "id": "4bM81V_hvtwv",
        "outputId": "bc7231ba-3ee1-43af-fa22-418cbf03a5bc"
      },
      "outputs": [
        {
          "output_type": "stream",
          "name": "stdout",
          "text": [
            "0.9588898300813544\n",
            "{'n_epochs': 20, 'lr_all': 0.01, 'reg_all': 0.2}\n"
          ]
        }
      ],
      "source": [
        "# Set the parameter space to tune\n",
        "param_grid = {'n_epochs': [10, 20, 30], 'lr_all': [0.001, 0.005, 0.01],\n",
        "              'reg_all': [0.2, 0.4, 0.6]}\n",
        "\n",
        "# Performing 3-fold gridsearch cross validation\n",
        "gs = GridSearchCV(SVD, param_grid, measures = ['rmse'], cv = 3, n_jobs = -1)\n",
        "\n",
        "# Fitting the model on the data\n",
        "gs.fit(data)\n",
        "\n",
        "# Print the best RMSE score\n",
        "print(gs.best_score['rmse'])\n",
        "\n",
        "# Print the combination of parameters that gave the best RMSE score\n",
        "print(gs.best_params['rmse'])"
      ]
    },
    {
      "cell_type": "markdown",
      "metadata": {
        "id": "cjIaWSIAnVNN"
      },
      "source": [
        "Once the **grid search** is complete, we can get the **optimal values** for each of those hyperparameters as shown above."
      ]
    },
    {
      "cell_type": "markdown",
      "metadata": {
        "id": "KzY78HsrnVNO"
      },
      "source": [
        "Now we will **build the final model** by using **tuned values** of the hyperparameters which we received by using grid search cross-validation."
      ]
    },
    {
      "cell_type": "code",
      "execution_count": null,
      "metadata": {
        "colab": {
          "base_uri": "https://localhost:8080/"
        },
        "id": "TA_7xe-nnhuu",
        "outputId": "da3e15e5-0040-4190-ee3b-3d6e491ede1f"
      },
      "outputs": [
        {
          "output_type": "stream",
          "name": "stdout",
          "text": [
            "RMSE: 0.9507\n",
            "Precision:  0.79\n",
            "Recall:  0.402\n",
            "F_1 score:  0.533\n"
          ]
        }
      ],
      "source": [
        "# Building the optimized SVD model using optimal hyperparameter search\n",
        "svd_optimized = SVD(n_epochs = 20, lr_all = 0.01, reg_all = 0.2, random_state = 1)\n",
        "\n",
        "# Training the algorithm on the trainset\n",
        "svd_optimized = svd_optimized.fit(trainset)\n",
        "\n",
        "# Let us compute precision@k and recall@k also with k = 10\n",
        "precision_recall_at_k(svd_optimized)"
      ]
    },
    {
      "cell_type": "markdown",
      "metadata": {
        "id": "9HJvPsjITsny"
      },
      "source": [
        "- We can see from above that the **tuned model** is showing a slightly better F_1 score than the baseline model, also the RMSE has gone down. Hence the tuned model is doing better than the earlier model."
      ]
    },
    {
      "cell_type": "markdown",
      "metadata": {
        "id": "md0-dL56nVNO"
      },
      "source": [
        "Let's now predict a rating for a user with `userId = rLtl8ZkDX5vH5nAx9C3q5Q` and `BusinessId = 9yKzy9PApeiPPOUJEtnvkg` with the optimized model as shown below."
      ]
    },
    {
      "cell_type": "code",
      "execution_count": null,
      "metadata": {
        "colab": {
          "base_uri": "https://localhost:8080/"
        },
        "id": "s6C1PAfboM8_",
        "outputId": "cb24b929-d314-40ff-b6b1-732cd8f6f006"
      },
      "outputs": [
        {
          "output_type": "stream",
          "name": "stdout",
          "text": [
            "user: rLtl8ZkDX5vH5nAx9C3q5Q item: 9yKzy9PApeiPPOUJEtnvkg r_ui = 5.00   est = 3.91   {'was_impossible': False}\n"
          ]
        },
        {
          "output_type": "execute_result",
          "data": {
            "text/plain": [
              "Prediction(uid='rLtl8ZkDX5vH5nAx9C3q5Q', iid='9yKzy9PApeiPPOUJEtnvkg', r_ui=5, est=3.9075441937737696, details={'was_impossible': False})"
            ]
          },
          "metadata": {},
          "execution_count": 52
        }
      ],
      "source": [
        "# Using svd_algo_optimized model to recommend for userId \"rLtl8ZkDX5vH5nAx9C3q5Q\" and business_Id 9yKzy9PApeiPPOUJEtnvkg\n",
        "svd_optimized.predict(\"rLtl8ZkDX5vH5nAx9C3q5Q\", \"9yKzy9PApeiPPOUJEtnvkg\", r_ui = 5, verbose = True)"
      ]
    },
    {
      "cell_type": "markdown",
      "metadata": {
        "id": "VdiEtzEznVNO"
      },
      "source": [
        "- The predicted rating is good here for a restaurant whose actual rating is **5**. The optimized model is giving a fairly good prediction."
      ]
    },
    {
      "cell_type": "code",
      "execution_count": null,
      "metadata": {
        "colab": {
          "base_uri": "https://localhost:8080/"
        },
        "id": "k1xjn3kOoQyg",
        "outputId": "d5e5d652-3e8c-4352-a4d4-d3efd3b8e31e"
      },
      "outputs": [
        {
          "output_type": "stream",
          "name": "stdout",
          "text": [
            "user: rLtl8ZkDX5vH5nAx9C3q5Q item: zp713qNhx8d9KCJJnrw1xA r_ui = None   est = 3.96   {'was_impossible': False}\n"
          ]
        },
        {
          "output_type": "execute_result",
          "data": {
            "text/plain": [
              "Prediction(uid='rLtl8ZkDX5vH5nAx9C3q5Q', iid='zp713qNhx8d9KCJJnrw1xA', r_ui=None, est=3.963060797712287, details={'was_impossible': False})"
            ]
          },
          "metadata": {},
          "execution_count": 53
        }
      ],
      "source": [
        "# Using svd_optimized model to recommend for userId \"rLtl8ZkDX5vH5nAx9C3q5Q\" and businessId \"zp713qNhx8d9KCJJnrw1xA\" which the user has not visited\n",
        "svd_optimized.predict(\"rLtl8ZkDX5vH5nAx9C3q5Q\", \"zp713qNhx8d9KCJJnrw1xA\", verbose = True)"
      ]
    },
    {
      "cell_type": "markdown",
      "metadata": {
        "id": "7BVcXmPOTsny"
      },
      "source": [
        "- For an unseen restaurant the rating given by the optimized model seems to be good."
      ]
    },
    {
      "cell_type": "code",
      "execution_count": null,
      "metadata": {
        "id": "1LGeE2EB_n90"
      },
      "outputs": [],
      "source": [
        "# Getting top 5 recommendations for user_id rLtl8ZkDX5vH5nAx9C3q5Q using \"svd_optimized\" algorithm\n",
        "svd_recommendations = get_recommendations(df_final, \"rLtl8ZkDX5vH5nAx9C3q5Q\", 5, svd_optimized)"
      ]
    },
    {
      "cell_type": "code",
      "execution_count": null,
      "metadata": {
        "colab": {
          "base_uri": "https://localhost:8080/",
          "height": 206
        },
        "id": "6ngiGSJU818M",
        "outputId": "6eb5da8d-672d-442c-c719-5ab19f1a421b"
      },
      "outputs": [
        {
          "output_type": "execute_result",
          "data": {
            "text/plain": [
              "              business_id  predicted_ratings\n",
              "0  X3icXUyW9vS4UXY6V_MR4w           4.764319\n",
              "1  GwSdGrvaXi4BdXNSWKn-EA           4.645138\n",
              "2  97Z7j4vH0kfzL10AONi4uA           4.637496\n",
              "3  4SviSw8uRF0ddj_HxUVnuA           4.623874\n",
              "4  XRBTHOXaJK_AJ2wy5mX_1A           4.622570"
            ],
            "text/html": [
              "\n",
              "  <div id=\"df-15b0301f-9e60-4bae-b58a-6750f41ca518\" class=\"colab-df-container\">\n",
              "    <div>\n",
              "<style scoped>\n",
              "    .dataframe tbody tr th:only-of-type {\n",
              "        vertical-align: middle;\n",
              "    }\n",
              "\n",
              "    .dataframe tbody tr th {\n",
              "        vertical-align: top;\n",
              "    }\n",
              "\n",
              "    .dataframe thead th {\n",
              "        text-align: right;\n",
              "    }\n",
              "</style>\n",
              "<table border=\"1\" class=\"dataframe\">\n",
              "  <thead>\n",
              "    <tr style=\"text-align: right;\">\n",
              "      <th></th>\n",
              "      <th>business_id</th>\n",
              "      <th>predicted_ratings</th>\n",
              "    </tr>\n",
              "  </thead>\n",
              "  <tbody>\n",
              "    <tr>\n",
              "      <th>0</th>\n",
              "      <td>X3icXUyW9vS4UXY6V_MR4w</td>\n",
              "      <td>4.764319</td>\n",
              "    </tr>\n",
              "    <tr>\n",
              "      <th>1</th>\n",
              "      <td>GwSdGrvaXi4BdXNSWKn-EA</td>\n",
              "      <td>4.645138</td>\n",
              "    </tr>\n",
              "    <tr>\n",
              "      <th>2</th>\n",
              "      <td>97Z7j4vH0kfzL10AONi4uA</td>\n",
              "      <td>4.637496</td>\n",
              "    </tr>\n",
              "    <tr>\n",
              "      <th>3</th>\n",
              "      <td>4SviSw8uRF0ddj_HxUVnuA</td>\n",
              "      <td>4.623874</td>\n",
              "    </tr>\n",
              "    <tr>\n",
              "      <th>4</th>\n",
              "      <td>XRBTHOXaJK_AJ2wy5mX_1A</td>\n",
              "      <td>4.622570</td>\n",
              "    </tr>\n",
              "  </tbody>\n",
              "</table>\n",
              "</div>\n",
              "    <div class=\"colab-df-buttons\">\n",
              "\n",
              "  <div class=\"colab-df-container\">\n",
              "    <button class=\"colab-df-convert\" onclick=\"convertToInteractive('df-15b0301f-9e60-4bae-b58a-6750f41ca518')\"\n",
              "            title=\"Convert this dataframe to an interactive table.\"\n",
              "            style=\"display:none;\">\n",
              "\n",
              "  <svg xmlns=\"http://www.w3.org/2000/svg\" height=\"24px\" viewBox=\"0 -960 960 960\">\n",
              "    <path d=\"M120-120v-720h720v720H120Zm60-500h600v-160H180v160Zm220 220h160v-160H400v160Zm0 220h160v-160H400v160ZM180-400h160v-160H180v160Zm440 0h160v-160H620v160ZM180-180h160v-160H180v160Zm440 0h160v-160H620v160Z\"/>\n",
              "  </svg>\n",
              "    </button>\n",
              "\n",
              "  <style>\n",
              "    .colab-df-container {\n",
              "      display:flex;\n",
              "      gap: 12px;\n",
              "    }\n",
              "\n",
              "    .colab-df-convert {\n",
              "      background-color: #E8F0FE;\n",
              "      border: none;\n",
              "      border-radius: 50%;\n",
              "      cursor: pointer;\n",
              "      display: none;\n",
              "      fill: #1967D2;\n",
              "      height: 32px;\n",
              "      padding: 0 0 0 0;\n",
              "      width: 32px;\n",
              "    }\n",
              "\n",
              "    .colab-df-convert:hover {\n",
              "      background-color: #E2EBFA;\n",
              "      box-shadow: 0px 1px 2px rgba(60, 64, 67, 0.3), 0px 1px 3px 1px rgba(60, 64, 67, 0.15);\n",
              "      fill: #174EA6;\n",
              "    }\n",
              "\n",
              "    .colab-df-buttons div {\n",
              "      margin-bottom: 4px;\n",
              "    }\n",
              "\n",
              "    [theme=dark] .colab-df-convert {\n",
              "      background-color: #3B4455;\n",
              "      fill: #D2E3FC;\n",
              "    }\n",
              "\n",
              "    [theme=dark] .colab-df-convert:hover {\n",
              "      background-color: #434B5C;\n",
              "      box-shadow: 0px 1px 3px 1px rgba(0, 0, 0, 0.15);\n",
              "      filter: drop-shadow(0px 1px 2px rgba(0, 0, 0, 0.3));\n",
              "      fill: #FFFFFF;\n",
              "    }\n",
              "  </style>\n",
              "\n",
              "    <script>\n",
              "      const buttonEl =\n",
              "        document.querySelector('#df-15b0301f-9e60-4bae-b58a-6750f41ca518 button.colab-df-convert');\n",
              "      buttonEl.style.display =\n",
              "        google.colab.kernel.accessAllowed ? 'block' : 'none';\n",
              "\n",
              "      async function convertToInteractive(key) {\n",
              "        const element = document.querySelector('#df-15b0301f-9e60-4bae-b58a-6750f41ca518');\n",
              "        const dataTable =\n",
              "          await google.colab.kernel.invokeFunction('convertToInteractive',\n",
              "                                                    [key], {});\n",
              "        if (!dataTable) return;\n",
              "\n",
              "        const docLinkHtml = 'Like what you see? Visit the ' +\n",
              "          '<a target=\"_blank\" href=https://colab.research.google.com/notebooks/data_table.ipynb>data table notebook</a>'\n",
              "          + ' to learn more about interactive tables.';\n",
              "        element.innerHTML = '';\n",
              "        dataTable['output_type'] = 'display_data';\n",
              "        await google.colab.output.renderOutput(dataTable, element);\n",
              "        const docLink = document.createElement('div');\n",
              "        docLink.innerHTML = docLinkHtml;\n",
              "        element.appendChild(docLink);\n",
              "      }\n",
              "    </script>\n",
              "  </div>\n",
              "\n",
              "\n",
              "<div id=\"df-70674f3d-d86b-4e32-b072-cb901fc5b836\">\n",
              "  <button class=\"colab-df-quickchart\" onclick=\"quickchart('df-70674f3d-d86b-4e32-b072-cb901fc5b836')\"\n",
              "            title=\"Suggest charts\"\n",
              "            style=\"display:none;\">\n",
              "\n",
              "<svg xmlns=\"http://www.w3.org/2000/svg\" height=\"24px\"viewBox=\"0 0 24 24\"\n",
              "     width=\"24px\">\n",
              "    <g>\n",
              "        <path d=\"M19 3H5c-1.1 0-2 .9-2 2v14c0 1.1.9 2 2 2h14c1.1 0 2-.9 2-2V5c0-1.1-.9-2-2-2zM9 17H7v-7h2v7zm4 0h-2V7h2v10zm4 0h-2v-4h2v4z\"/>\n",
              "    </g>\n",
              "</svg>\n",
              "  </button>\n",
              "\n",
              "<style>\n",
              "  .colab-df-quickchart {\n",
              "      --bg-color: #E8F0FE;\n",
              "      --fill-color: #1967D2;\n",
              "      --hover-bg-color: #E2EBFA;\n",
              "      --hover-fill-color: #174EA6;\n",
              "      --disabled-fill-color: #AAA;\n",
              "      --disabled-bg-color: #DDD;\n",
              "  }\n",
              "\n",
              "  [theme=dark] .colab-df-quickchart {\n",
              "      --bg-color: #3B4455;\n",
              "      --fill-color: #D2E3FC;\n",
              "      --hover-bg-color: #434B5C;\n",
              "      --hover-fill-color: #FFFFFF;\n",
              "      --disabled-bg-color: #3B4455;\n",
              "      --disabled-fill-color: #666;\n",
              "  }\n",
              "\n",
              "  .colab-df-quickchart {\n",
              "    background-color: var(--bg-color);\n",
              "    border: none;\n",
              "    border-radius: 50%;\n",
              "    cursor: pointer;\n",
              "    display: none;\n",
              "    fill: var(--fill-color);\n",
              "    height: 32px;\n",
              "    padding: 0;\n",
              "    width: 32px;\n",
              "  }\n",
              "\n",
              "  .colab-df-quickchart:hover {\n",
              "    background-color: var(--hover-bg-color);\n",
              "    box-shadow: 0 1px 2px rgba(60, 64, 67, 0.3), 0 1px 3px 1px rgba(60, 64, 67, 0.15);\n",
              "    fill: var(--button-hover-fill-color);\n",
              "  }\n",
              "\n",
              "  .colab-df-quickchart-complete:disabled,\n",
              "  .colab-df-quickchart-complete:disabled:hover {\n",
              "    background-color: var(--disabled-bg-color);\n",
              "    fill: var(--disabled-fill-color);\n",
              "    box-shadow: none;\n",
              "  }\n",
              "\n",
              "  .colab-df-spinner {\n",
              "    border: 2px solid var(--fill-color);\n",
              "    border-color: transparent;\n",
              "    border-bottom-color: var(--fill-color);\n",
              "    animation:\n",
              "      spin 1s steps(1) infinite;\n",
              "  }\n",
              "\n",
              "  @keyframes spin {\n",
              "    0% {\n",
              "      border-color: transparent;\n",
              "      border-bottom-color: var(--fill-color);\n",
              "      border-left-color: var(--fill-color);\n",
              "    }\n",
              "    20% {\n",
              "      border-color: transparent;\n",
              "      border-left-color: var(--fill-color);\n",
              "      border-top-color: var(--fill-color);\n",
              "    }\n",
              "    30% {\n",
              "      border-color: transparent;\n",
              "      border-left-color: var(--fill-color);\n",
              "      border-top-color: var(--fill-color);\n",
              "      border-right-color: var(--fill-color);\n",
              "    }\n",
              "    40% {\n",
              "      border-color: transparent;\n",
              "      border-right-color: var(--fill-color);\n",
              "      border-top-color: var(--fill-color);\n",
              "    }\n",
              "    60% {\n",
              "      border-color: transparent;\n",
              "      border-right-color: var(--fill-color);\n",
              "    }\n",
              "    80% {\n",
              "      border-color: transparent;\n",
              "      border-right-color: var(--fill-color);\n",
              "      border-bottom-color: var(--fill-color);\n",
              "    }\n",
              "    90% {\n",
              "      border-color: transparent;\n",
              "      border-bottom-color: var(--fill-color);\n",
              "    }\n",
              "  }\n",
              "</style>\n",
              "\n",
              "  <script>\n",
              "    async function quickchart(key) {\n",
              "      const quickchartButtonEl =\n",
              "        document.querySelector('#' + key + ' button');\n",
              "      quickchartButtonEl.disabled = true;  // To prevent multiple clicks.\n",
              "      quickchartButtonEl.classList.add('colab-df-spinner');\n",
              "      try {\n",
              "        const charts = await google.colab.kernel.invokeFunction(\n",
              "            'suggestCharts', [key], {});\n",
              "      } catch (error) {\n",
              "        console.error('Error during call to suggestCharts:', error);\n",
              "      }\n",
              "      quickchartButtonEl.classList.remove('colab-df-spinner');\n",
              "      quickchartButtonEl.classList.add('colab-df-quickchart-complete');\n",
              "    }\n",
              "    (() => {\n",
              "      let quickchartButtonEl =\n",
              "        document.querySelector('#df-70674f3d-d86b-4e32-b072-cb901fc5b836 button');\n",
              "      quickchartButtonEl.style.display =\n",
              "        google.colab.kernel.accessAllowed ? 'block' : 'none';\n",
              "    })();\n",
              "  </script>\n",
              "</div>\n",
              "\n",
              "    </div>\n",
              "  </div>\n"
            ],
            "application/vnd.google.colaboratory.intrinsic+json": {
              "type": "dataframe",
              "summary": "{\n  \"name\": \"pd\",\n  \"rows\": 5,\n  \"fields\": [\n    {\n      \"column\": \"business_id\",\n      \"properties\": {\n        \"dtype\": \"string\",\n        \"num_unique_values\": 5,\n        \"samples\": [\n          \"GwSdGrvaXi4BdXNSWKn-EA\",\n          \"XRBTHOXaJK_AJ2wy5mX_1A\",\n          \"97Z7j4vH0kfzL10AONi4uA\"\n        ],\n        \"semantic_type\": \"\",\n        \"description\": \"\"\n      }\n    },\n    {\n      \"column\": \"predicted_ratings\",\n      \"properties\": {\n        \"dtype\": \"number\",\n        \"std\": 0.05980628046112532,\n        \"min\": 4.62257018161888,\n        \"max\": 4.764319311232149,\n        \"num_unique_values\": 5,\n        \"samples\": [\n          4.645137788122983,\n          4.62257018161888,\n          4.637496127995955\n        ],\n        \"semantic_type\": \"\",\n        \"description\": \"\"\n      }\n    }\n  ]\n}"
            }
          },
          "metadata": {},
          "execution_count": 55
        }
      ],
      "source": [
        "pd.DataFrame(svd_recommendations, columns = ['business_id', 'predicted_ratings'])"
      ]
    },
    {
      "cell_type": "code",
      "execution_count": null,
      "metadata": {
        "colab": {
          "base_uri": "https://localhost:8080/",
          "height": 206
        },
        "outputId": "85e3c224-9782-49bf-a940-6547c2588f3f",
        "id": "axVo20maSlJk"
      },
      "outputs": [
        {
          "output_type": "execute_result",
          "data": {
            "text/plain": [
              "              business_id  rating_count  predicted_ratings  corrected_ratings\n",
              "1  X3icXUyW9vS4UXY6V_MR4w            79           4.764319           4.651811\n",
              "0  GwSdGrvaXi4BdXNSWKn-EA           153           4.645138           4.564293\n",
              "2  97Z7j4vH0kfzL10AONi4uA            78           4.637496           4.524268\n",
              "3  XRBTHOXaJK_AJ2wy5mX_1A            26           4.622570           4.426454\n",
              "4  4SviSw8uRF0ddj_HxUVnuA            10           4.623874           4.307647"
            ],
            "text/html": [
              "\n",
              "  <div id=\"df-07b16697-7497-418f-a0b3-e51a30ddd398\" class=\"colab-df-container\">\n",
              "    <div>\n",
              "<style scoped>\n",
              "    .dataframe tbody tr th:only-of-type {\n",
              "        vertical-align: middle;\n",
              "    }\n",
              "\n",
              "    .dataframe tbody tr th {\n",
              "        vertical-align: top;\n",
              "    }\n",
              "\n",
              "    .dataframe thead th {\n",
              "        text-align: right;\n",
              "    }\n",
              "</style>\n",
              "<table border=\"1\" class=\"dataframe\">\n",
              "  <thead>\n",
              "    <tr style=\"text-align: right;\">\n",
              "      <th></th>\n",
              "      <th>business_id</th>\n",
              "      <th>rating_count</th>\n",
              "      <th>predicted_ratings</th>\n",
              "      <th>corrected_ratings</th>\n",
              "    </tr>\n",
              "  </thead>\n",
              "  <tbody>\n",
              "    <tr>\n",
              "      <th>1</th>\n",
              "      <td>X3icXUyW9vS4UXY6V_MR4w</td>\n",
              "      <td>79</td>\n",
              "      <td>4.764319</td>\n",
              "      <td>4.651811</td>\n",
              "    </tr>\n",
              "    <tr>\n",
              "      <th>0</th>\n",
              "      <td>GwSdGrvaXi4BdXNSWKn-EA</td>\n",
              "      <td>153</td>\n",
              "      <td>4.645138</td>\n",
              "      <td>4.564293</td>\n",
              "    </tr>\n",
              "    <tr>\n",
              "      <th>2</th>\n",
              "      <td>97Z7j4vH0kfzL10AONi4uA</td>\n",
              "      <td>78</td>\n",
              "      <td>4.637496</td>\n",
              "      <td>4.524268</td>\n",
              "    </tr>\n",
              "    <tr>\n",
              "      <th>3</th>\n",
              "      <td>XRBTHOXaJK_AJ2wy5mX_1A</td>\n",
              "      <td>26</td>\n",
              "      <td>4.622570</td>\n",
              "      <td>4.426454</td>\n",
              "    </tr>\n",
              "    <tr>\n",
              "      <th>4</th>\n",
              "      <td>4SviSw8uRF0ddj_HxUVnuA</td>\n",
              "      <td>10</td>\n",
              "      <td>4.623874</td>\n",
              "      <td>4.307647</td>\n",
              "    </tr>\n",
              "  </tbody>\n",
              "</table>\n",
              "</div>\n",
              "    <div class=\"colab-df-buttons\">\n",
              "\n",
              "  <div class=\"colab-df-container\">\n",
              "    <button class=\"colab-df-convert\" onclick=\"convertToInteractive('df-07b16697-7497-418f-a0b3-e51a30ddd398')\"\n",
              "            title=\"Convert this dataframe to an interactive table.\"\n",
              "            style=\"display:none;\">\n",
              "\n",
              "  <svg xmlns=\"http://www.w3.org/2000/svg\" height=\"24px\" viewBox=\"0 -960 960 960\">\n",
              "    <path d=\"M120-120v-720h720v720H120Zm60-500h600v-160H180v160Zm220 220h160v-160H400v160Zm0 220h160v-160H400v160ZM180-400h160v-160H180v160Zm440 0h160v-160H620v160ZM180-180h160v-160H180v160Zm440 0h160v-160H620v160Z\"/>\n",
              "  </svg>\n",
              "    </button>\n",
              "\n",
              "  <style>\n",
              "    .colab-df-container {\n",
              "      display:flex;\n",
              "      gap: 12px;\n",
              "    }\n",
              "\n",
              "    .colab-df-convert {\n",
              "      background-color: #E8F0FE;\n",
              "      border: none;\n",
              "      border-radius: 50%;\n",
              "      cursor: pointer;\n",
              "      display: none;\n",
              "      fill: #1967D2;\n",
              "      height: 32px;\n",
              "      padding: 0 0 0 0;\n",
              "      width: 32px;\n",
              "    }\n",
              "\n",
              "    .colab-df-convert:hover {\n",
              "      background-color: #E2EBFA;\n",
              "      box-shadow: 0px 1px 2px rgba(60, 64, 67, 0.3), 0px 1px 3px 1px rgba(60, 64, 67, 0.15);\n",
              "      fill: #174EA6;\n",
              "    }\n",
              "\n",
              "    .colab-df-buttons div {\n",
              "      margin-bottom: 4px;\n",
              "    }\n",
              "\n",
              "    [theme=dark] .colab-df-convert {\n",
              "      background-color: #3B4455;\n",
              "      fill: #D2E3FC;\n",
              "    }\n",
              "\n",
              "    [theme=dark] .colab-df-convert:hover {\n",
              "      background-color: #434B5C;\n",
              "      box-shadow: 0px 1px 3px 1px rgba(0, 0, 0, 0.15);\n",
              "      filter: drop-shadow(0px 1px 2px rgba(0, 0, 0, 0.3));\n",
              "      fill: #FFFFFF;\n",
              "    }\n",
              "  </style>\n",
              "\n",
              "    <script>\n",
              "      const buttonEl =\n",
              "        document.querySelector('#df-07b16697-7497-418f-a0b3-e51a30ddd398 button.colab-df-convert');\n",
              "      buttonEl.style.display =\n",
              "        google.colab.kernel.accessAllowed ? 'block' : 'none';\n",
              "\n",
              "      async function convertToInteractive(key) {\n",
              "        const element = document.querySelector('#df-07b16697-7497-418f-a0b3-e51a30ddd398');\n",
              "        const dataTable =\n",
              "          await google.colab.kernel.invokeFunction('convertToInteractive',\n",
              "                                                    [key], {});\n",
              "        if (!dataTable) return;\n",
              "\n",
              "        const docLinkHtml = 'Like what you see? Visit the ' +\n",
              "          '<a target=\"_blank\" href=https://colab.research.google.com/notebooks/data_table.ipynb>data table notebook</a>'\n",
              "          + ' to learn more about interactive tables.';\n",
              "        element.innerHTML = '';\n",
              "        dataTable['output_type'] = 'display_data';\n",
              "        await google.colab.output.renderOutput(dataTable, element);\n",
              "        const docLink = document.createElement('div');\n",
              "        docLink.innerHTML = docLinkHtml;\n",
              "        element.appendChild(docLink);\n",
              "      }\n",
              "    </script>\n",
              "  </div>\n",
              "\n",
              "\n",
              "<div id=\"df-5a74eb64-b174-4187-bdcd-e2944053d91b\">\n",
              "  <button class=\"colab-df-quickchart\" onclick=\"quickchart('df-5a74eb64-b174-4187-bdcd-e2944053d91b')\"\n",
              "            title=\"Suggest charts\"\n",
              "            style=\"display:none;\">\n",
              "\n",
              "<svg xmlns=\"http://www.w3.org/2000/svg\" height=\"24px\"viewBox=\"0 0 24 24\"\n",
              "     width=\"24px\">\n",
              "    <g>\n",
              "        <path d=\"M19 3H5c-1.1 0-2 .9-2 2v14c0 1.1.9 2 2 2h14c1.1 0 2-.9 2-2V5c0-1.1-.9-2-2-2zM9 17H7v-7h2v7zm4 0h-2V7h2v10zm4 0h-2v-4h2v4z\"/>\n",
              "    </g>\n",
              "</svg>\n",
              "  </button>\n",
              "\n",
              "<style>\n",
              "  .colab-df-quickchart {\n",
              "      --bg-color: #E8F0FE;\n",
              "      --fill-color: #1967D2;\n",
              "      --hover-bg-color: #E2EBFA;\n",
              "      --hover-fill-color: #174EA6;\n",
              "      --disabled-fill-color: #AAA;\n",
              "      --disabled-bg-color: #DDD;\n",
              "  }\n",
              "\n",
              "  [theme=dark] .colab-df-quickchart {\n",
              "      --bg-color: #3B4455;\n",
              "      --fill-color: #D2E3FC;\n",
              "      --hover-bg-color: #434B5C;\n",
              "      --hover-fill-color: #FFFFFF;\n",
              "      --disabled-bg-color: #3B4455;\n",
              "      --disabled-fill-color: #666;\n",
              "  }\n",
              "\n",
              "  .colab-df-quickchart {\n",
              "    background-color: var(--bg-color);\n",
              "    border: none;\n",
              "    border-radius: 50%;\n",
              "    cursor: pointer;\n",
              "    display: none;\n",
              "    fill: var(--fill-color);\n",
              "    height: 32px;\n",
              "    padding: 0;\n",
              "    width: 32px;\n",
              "  }\n",
              "\n",
              "  .colab-df-quickchart:hover {\n",
              "    background-color: var(--hover-bg-color);\n",
              "    box-shadow: 0 1px 2px rgba(60, 64, 67, 0.3), 0 1px 3px 1px rgba(60, 64, 67, 0.15);\n",
              "    fill: var(--button-hover-fill-color);\n",
              "  }\n",
              "\n",
              "  .colab-df-quickchart-complete:disabled,\n",
              "  .colab-df-quickchart-complete:disabled:hover {\n",
              "    background-color: var(--disabled-bg-color);\n",
              "    fill: var(--disabled-fill-color);\n",
              "    box-shadow: none;\n",
              "  }\n",
              "\n",
              "  .colab-df-spinner {\n",
              "    border: 2px solid var(--fill-color);\n",
              "    border-color: transparent;\n",
              "    border-bottom-color: var(--fill-color);\n",
              "    animation:\n",
              "      spin 1s steps(1) infinite;\n",
              "  }\n",
              "\n",
              "  @keyframes spin {\n",
              "    0% {\n",
              "      border-color: transparent;\n",
              "      border-bottom-color: var(--fill-color);\n",
              "      border-left-color: var(--fill-color);\n",
              "    }\n",
              "    20% {\n",
              "      border-color: transparent;\n",
              "      border-left-color: var(--fill-color);\n",
              "      border-top-color: var(--fill-color);\n",
              "    }\n",
              "    30% {\n",
              "      border-color: transparent;\n",
              "      border-left-color: var(--fill-color);\n",
              "      border-top-color: var(--fill-color);\n",
              "      border-right-color: var(--fill-color);\n",
              "    }\n",
              "    40% {\n",
              "      border-color: transparent;\n",
              "      border-right-color: var(--fill-color);\n",
              "      border-top-color: var(--fill-color);\n",
              "    }\n",
              "    60% {\n",
              "      border-color: transparent;\n",
              "      border-right-color: var(--fill-color);\n",
              "    }\n",
              "    80% {\n",
              "      border-color: transparent;\n",
              "      border-right-color: var(--fill-color);\n",
              "      border-bottom-color: var(--fill-color);\n",
              "    }\n",
              "    90% {\n",
              "      border-color: transparent;\n",
              "      border-bottom-color: var(--fill-color);\n",
              "    }\n",
              "  }\n",
              "</style>\n",
              "\n",
              "  <script>\n",
              "    async function quickchart(key) {\n",
              "      const quickchartButtonEl =\n",
              "        document.querySelector('#' + key + ' button');\n",
              "      quickchartButtonEl.disabled = true;  // To prevent multiple clicks.\n",
              "      quickchartButtonEl.classList.add('colab-df-spinner');\n",
              "      try {\n",
              "        const charts = await google.colab.kernel.invokeFunction(\n",
              "            'suggestCharts', [key], {});\n",
              "      } catch (error) {\n",
              "        console.error('Error during call to suggestCharts:', error);\n",
              "      }\n",
              "      quickchartButtonEl.classList.remove('colab-df-spinner');\n",
              "      quickchartButtonEl.classList.add('colab-df-quickchart-complete');\n",
              "    }\n",
              "    (() => {\n",
              "      let quickchartButtonEl =\n",
              "        document.querySelector('#df-5a74eb64-b174-4187-bdcd-e2944053d91b button');\n",
              "      quickchartButtonEl.style.display =\n",
              "        google.colab.kernel.accessAllowed ? 'block' : 'none';\n",
              "    })();\n",
              "  </script>\n",
              "</div>\n",
              "\n",
              "    </div>\n",
              "  </div>\n"
            ],
            "application/vnd.google.colaboratory.intrinsic+json": {
              "type": "dataframe",
              "summary": "{\n  \"name\": \"ranking_products(svd_recommendations, final_rating)\",\n  \"rows\": 5,\n  \"fields\": [\n    {\n      \"column\": \"business_id\",\n      \"properties\": {\n        \"dtype\": \"string\",\n        \"num_unique_values\": 5,\n        \"samples\": [\n          \"GwSdGrvaXi4BdXNSWKn-EA\",\n          \"4SviSw8uRF0ddj_HxUVnuA\",\n          \"97Z7j4vH0kfzL10AONi4uA\"\n        ],\n        \"semantic_type\": \"\",\n        \"description\": \"\"\n      }\n    },\n    {\n      \"column\": \"rating_count\",\n      \"properties\": {\n        \"dtype\": \"number\",\n        \"std\": 56,\n        \"min\": 10,\n        \"max\": 153,\n        \"num_unique_values\": 5,\n        \"samples\": [\n          153,\n          10,\n          78\n        ],\n        \"semantic_type\": \"\",\n        \"description\": \"\"\n      }\n    },\n    {\n      \"column\": \"predicted_ratings\",\n      \"properties\": {\n        \"dtype\": \"number\",\n        \"std\": 0.05980628046112532,\n        \"min\": 4.62257018161888,\n        \"max\": 4.764319311232149,\n        \"num_unique_values\": 5,\n        \"samples\": [\n          4.645137788122983,\n          4.623874343352504,\n          4.637496127995955\n        ],\n        \"semantic_type\": \"\",\n        \"description\": \"\"\n      }\n    },\n    {\n      \"column\": \"corrected_ratings\",\n      \"properties\": {\n        \"dtype\": \"number\",\n        \"std\": 0.13233238344449913,\n        \"min\": 4.307646577335666,\n        \"max\": 4.651810521139547,\n        \"num_unique_values\": 5,\n        \"samples\": [\n          4.564292579777539,\n          4.307646577335666,\n          4.5242684245814955\n        ],\n        \"semantic_type\": \"\",\n        \"description\": \"\"\n      }\n    }\n  ]\n}"
            }
          },
          "metadata": {},
          "execution_count": 56
        }
      ],
      "source": [
        "# Ranking products based on above recommendations\n",
        "ranking_products(svd_recommendations, final_rating)"
      ]
    },
    {
      "cell_type": "markdown",
      "metadata": {
        "id": "55ztGt8hBahz"
      },
      "source": [
        "## Model 5: **Cluster-Based Recommendation System**"
      ]
    },
    {
      "cell_type": "markdown",
      "metadata": {
        "id": "bmIe2DQ5Bahz"
      },
      "source": [
        "In **clustering-based recommendation systems**, we explore the **similarities and differences** in people's tastes in restaurants based on how they rate different restaurants. We cluster similar users together and recommend restaurants to a user based on ratings from other users in the same cluster."
      ]
    },
    {
      "cell_type": "markdown",
      "metadata": {
        "id": "exPydKAmBahz"
      },
      "source": [
        "- **Co-clustering** is a set of techniques in **Cluster Analysis**. Given some **matrix A, we want to cluster rows of A and columns of A simultaneously**, this is a common task for user-item matrices.\n",
        "\n",
        "- As it clusters both the rows and columns simultaneously, it is also called **bi-clustering**. To understand the working of the algorithm let A be m x n matrix, goal is to generate co-clusters: a subset of rows that exhibit similar behavior across a subset of columns, or vice versa.\n",
        "\n",
        "- Co-clustering is defined as two map functions:\n",
        "rows -> row cluster indexes\n",
        "columns -> column cluster indexes\n",
        "These map functions are learned simultaneously. It is **different from other clustering techniques** where we cluster **first the rows and then the columns**."
      ]
    },
    {
      "cell_type": "code",
      "execution_count": null,
      "metadata": {
        "id": "c5whwArxN_Ig",
        "colab": {
          "base_uri": "https://localhost:8080/"
        },
        "outputId": "542baa97-966e-42e1-e7df-154b2a9dc844"
      },
      "outputs": [
        {
          "output_type": "stream",
          "name": "stdout",
          "text": [
            "RMSE: 1.0378\n",
            "Precision:  0.765\n",
            "Recall:  0.403\n",
            "F_1 score:  0.528\n"
          ]
        }
      ],
      "source": [
        "# Using Co-Clustering algorithm\n",
        "clust_baseline = CoClustering(random_state = 1)\n",
        "\n",
        "# Training the algorithm on the train set\n",
        "clust_baseline.fit(trainset)\n",
        "\n",
        "# Let us compute precision@k and recall@k with k = 10\n",
        "precision_recall_at_k(clust_baseline)"
      ]
    },
    {
      "cell_type": "markdown",
      "metadata": {
        "id": "20f67577"
      },
      "source": [
        "\n",
        "\n",
        "* We have calculated **RMSE** to check **how far the overall predicted ratings** are from the **actual ratings**.\n",
        "\n",
        "* Here **F_1 score** of the **baseline model is almost 0.528**. It indicates that **recommended restaurants were relevant and relevant restaurants were recommended for more than half the recommendations**. We will try to improve this later by using **GridSearchCV by tuning different hyperparameters** of this algorithm."
      ]
    },
    {
      "cell_type": "markdown",
      "metadata": {
        "id": "_pA--VrOPlX9"
      },
      "source": [
        "Let's now **predict a rating for a user with `userId = rLtl8ZkDX5vH5nAx9C3q5Q` and `business_Id = 9yKzy9PApeiPPOUJEtnvkg`** as shown below. Here the user has already interacted or visited the restaurant with businessId \"9yKzy9PApeiPPOUJEtnvkg\"."
      ]
    },
    {
      "cell_type": "code",
      "execution_count": null,
      "metadata": {
        "colab": {
          "base_uri": "https://localhost:8080/"
        },
        "id": "11dbdc0f",
        "outputId": "8cab706c-48f5-471b-eafc-cf377a7ed2ce"
      },
      "outputs": [
        {
          "output_type": "stream",
          "name": "stdout",
          "text": [
            "user: rLtl8ZkDX5vH5nAx9C3q5Q item: 9yKzy9PApeiPPOUJEtnvkg r_ui = 5.00   est = 3.97   {'was_impossible': False}\n"
          ]
        },
        {
          "output_type": "execute_result",
          "data": {
            "text/plain": [
              "Prediction(uid='rLtl8ZkDX5vH5nAx9C3q5Q', iid='9yKzy9PApeiPPOUJEtnvkg', r_ui=5, est=3.966289107885623, details={'was_impossible': False})"
            ]
          },
          "metadata": {},
          "execution_count": 58
        }
      ],
      "source": [
        "# Making prediction for user_id 4 and business_id 9483\n",
        "clust_baseline.predict(\"rLtl8ZkDX5vH5nAx9C3q5Q\", \"9yKzy9PApeiPPOUJEtnvkg\", r_ui = 5, verbose = True)"
      ]
    },
    {
      "cell_type": "markdown",
      "metadata": {
        "id": "90276146"
      },
      "source": [
        "- As we can see - the **actual rating** for this **user-item pair is 5** and the **predicted rating is 3.97 by this Co-clustering based baseline model**. It seems like the model has under-estimated the rating. We will try to fix this later by tuning the hyperparameters of the model using GridSearchCV."
      ]
    },
    {
      "cell_type": "markdown",
      "metadata": {
        "id": "ZMXGawCgPlX-"
      },
      "source": [
        "Below we are **predicting rating for the same `userId = rLtl8ZkDX5vH5nAx9C3q5Q` but for a restaurant which this user has not visited yet, i.e., `business_id = zp713qNhx8d9KCJJnrw1xA`**"
      ]
    },
    {
      "cell_type": "code",
      "execution_count": null,
      "metadata": {
        "colab": {
          "base_uri": "https://localhost:8080/"
        },
        "id": "dab1aaed",
        "outputId": "fd7d2816-b7f5-4859-9081-9805a4fd8070"
      },
      "outputs": [
        {
          "output_type": "stream",
          "name": "stdout",
          "text": [
            "user: rLtl8ZkDX5vH5nAx9C3q5Q item: zp713qNhx8d9KCJJnrw1xA r_ui = None   est = 3.70   {'was_impossible': False}\n"
          ]
        },
        {
          "output_type": "execute_result",
          "data": {
            "text/plain": [
              "Prediction(uid='rLtl8ZkDX5vH5nAx9C3q5Q', iid='zp713qNhx8d9KCJJnrw1xA', r_ui=None, est=3.7039820276856474, details={'was_impossible': False})"
            ]
          },
          "metadata": {},
          "execution_count": 59
        }
      ],
      "source": [
        "# Making prediction for userid 4 and business_id 9980\n",
        "clust_baseline.predict(\"rLtl8ZkDX5vH5nAx9C3q5Q\", \"zp713qNhx8d9KCJJnrw1xA\", verbose = True)"
      ]
    },
    {
      "cell_type": "markdown",
      "metadata": {
        "id": "8d23fe95"
      },
      "source": [
        "- We can see that **estimated rating** for this user-item pair is 3.70 based on this Co-clustering based baseline model."
      ]
    },
    {
      "cell_type": "markdown",
      "metadata": {
        "id": "c2fd66f5"
      },
      "source": [
        "### **Improving clustering based recommendation system by tuning its hyper-parameters**"
      ]
    },
    {
      "cell_type": "markdown",
      "metadata": {
        "id": "5bc7c680"
      },
      "source": [
        "Below we will be tuning hyper-parameters for the `CoClustering` algorithms. Let's try to understand different hyperparameters of this algorithm."
      ]
    },
    {
      "cell_type": "markdown",
      "metadata": {
        "id": "31d97b16"
      },
      "source": [
        "- **n_cltr_u** (int) – Number of **user clusters**. The default value is 3.\n",
        "- **n_cltr_i** (int) – Number of **item clusters**. The default value is 3.\n",
        "- **n_epochs** (int) – Number of **iteration of the optimization loop**. The default value is 20.\n",
        "- **random_state** (int, RandomState instance from NumPy, or None) – Determines the RNG that will be used for initialization. If int, random_state will be used as a seed for a new RNG. This is useful to get the same initialization over multiple calls to fit(). If RandomState instance, this same instance is used as RNG. If None, the current RNG from numpy is used. The default value is None.\n",
        "- **verbose** (bool) – If True, the current epoch will be printed. The default value is False."
      ]
    },
    {
      "cell_type": "code",
      "execution_count": null,
      "metadata": {
        "colab": {
          "base_uri": "https://localhost:8080/"
        },
        "id": "efe7d8e6",
        "outputId": "9a3bebf2-76f5-403e-9688-5420c43df873"
      },
      "outputs": [
        {
          "output_type": "stream",
          "name": "stdout",
          "text": [
            "1.0403759830655261\n",
            "{'n_cltr_u': 3, 'n_cltr_i': 3, 'n_epochs': 30}\n"
          ]
        }
      ],
      "source": [
        "# Set the parameter space to tune\n",
        "param_grid = {'n_cltr_u': [3, 4, 5, 6], 'n_cltr_i': [3, 4, 5, 6], 'n_epochs': [30, 40, 50]}\n",
        "\n",
        "# Performing 3-fold gridsearch cross validation\n",
        "gs = GridSearchCV(CoClustering, param_grid, measures = ['rmse'], cv = 3, n_jobs = -1)\n",
        "\n",
        "# Fitting data\n",
        "gs.fit(data)\n",
        "\n",
        "# Print the best RMSE score\n",
        "print(gs.best_score['rmse'])\n",
        "\n",
        "# Print the combination of parameters that gave the best RMSE score\n",
        "print(gs.best_params['rmse'])"
      ]
    },
    {
      "cell_type": "markdown",
      "metadata": {
        "id": "568aeef9"
      },
      "source": [
        "Once the grid search is **complete**, we can get the **optimal values** for each of those hyper-parameters as shown above."
      ]
    },
    {
      "cell_type": "markdown",
      "metadata": {
        "id": "06d378d1"
      },
      "source": [
        "Now we will build **final model** by using tuned values of the hyperparameters which we received by using grid search cross-validation."
      ]
    },
    {
      "cell_type": "code",
      "execution_count": null,
      "metadata": {
        "colab": {
          "base_uri": "https://localhost:8080/"
        },
        "id": "5a7a8a30",
        "outputId": "3fe61eb8-fdbe-4062-926a-8c4351c1b7dd"
      },
      "outputs": [
        {
          "output_type": "stream",
          "name": "stdout",
          "text": [
            "RMSE: 1.0373\n",
            "Precision:  0.764\n",
            "Recall:  0.404\n",
            "F_1 score:  0.529\n"
          ]
        }
      ],
      "source": [
        "# Using tuned Coclustering algorithm\n",
        "clust_tuned = CoClustering(n_cltr_u = 3,n_cltr_i = 3, n_epochs = 40, random_state = 1)\n",
        "\n",
        "# Training the algorithm on the train set\n",
        "clust_tuned.fit(trainset)\n",
        "\n",
        "# Let us compute precision@k and recall@k with k = 10\n",
        "precision_recall_at_k(clust_tuned)"
      ]
    },
    {
      "cell_type": "markdown",
      "metadata": {
        "id": "9ec38e2a"
      },
      "source": [
        "- We can see that the **F_1 score** for **tuned co-clustering model** on testset is **comparable with F_1 score** for baseline Co-clustering model. The model performance has not improved by much."
      ]
    },
    {
      "cell_type": "markdown",
      "metadata": {
        "id": "3xPAikzQQGU1"
      },
      "source": [
        "Let's now **predict a rating for a user with `userId = rLtl8ZkDX5vH5nAx9C3q5Q` and `business_Id = 9yKzy9PApeiPPOUJEtnvkg`** as shown below. Here the user has already interacted or visited the restaurant with businessId \"9yKzy9PApeiPPOUJEtnvkg\"."
      ]
    },
    {
      "cell_type": "code",
      "execution_count": null,
      "metadata": {
        "colab": {
          "base_uri": "https://localhost:8080/"
        },
        "outputId": "3533a219-f533-4b9a-8c9c-c6820d3b3ad5",
        "id": "kCHX6wLGQGU1"
      },
      "outputs": [
        {
          "output_type": "stream",
          "name": "stdout",
          "text": [
            "user: rLtl8ZkDX5vH5nAx9C3q5Q item: 9yKzy9PApeiPPOUJEtnvkg r_ui = 5.00   est = 3.96   {'was_impossible': False}\n"
          ]
        },
        {
          "output_type": "execute_result",
          "data": {
            "text/plain": [
              "Prediction(uid='rLtl8ZkDX5vH5nAx9C3q5Q', iid='9yKzy9PApeiPPOUJEtnvkg', r_ui=5, est=3.9644335253991674, details={'was_impossible': False})"
            ]
          },
          "metadata": {},
          "execution_count": 62
        }
      ],
      "source": [
        "# Making prediction for user_id 4 and business_id 9483\n",
        "clust_tuned.predict(\"rLtl8ZkDX5vH5nAx9C3q5Q\", \"9yKzy9PApeiPPOUJEtnvkg\", r_ui = 5, verbose = True)"
      ]
    },
    {
      "cell_type": "markdown",
      "metadata": {
        "id": "k0ehGJRPQGU1"
      },
      "source": [
        "- As we can see - the **actual rating** for this **user-item pair is 5** and the **predicted rating is 3.96 by this Co-clustering based baseline model**. It seems like the model has under-estimated the rating. We will try to fix this later by tuning the hyperparameters of the model using GridSearchCV."
      ]
    },
    {
      "cell_type": "markdown",
      "metadata": {
        "id": "UctONCmWQGU1"
      },
      "source": [
        "Below we are **predicting rating for the same `userId = rLtl8ZkDX5vH5nAx9C3q5Q` but for a restaurant which this user has not visited yet, i.e., `business_id = zp713qNhx8d9KCJJnrw1xA`**"
      ]
    },
    {
      "cell_type": "code",
      "execution_count": null,
      "metadata": {
        "colab": {
          "base_uri": "https://localhost:8080/"
        },
        "outputId": "40086d96-1fe4-4707-dcd0-5580016b31e4",
        "id": "vG9RY4aNQGU1"
      },
      "outputs": [
        {
          "output_type": "stream",
          "name": "stdout",
          "text": [
            "user: rLtl8ZkDX5vH5nAx9C3q5Q item: zp713qNhx8d9KCJJnrw1xA r_ui = None   est = 3.73   {'was_impossible': False}\n"
          ]
        },
        {
          "output_type": "execute_result",
          "data": {
            "text/plain": [
              "Prediction(uid='rLtl8ZkDX5vH5nAx9C3q5Q', iid='zp713qNhx8d9KCJJnrw1xA', r_ui=None, est=3.730191262361615, details={'was_impossible': False})"
            ]
          },
          "metadata": {},
          "execution_count": 63
        }
      ],
      "source": [
        "# Making prediction for userid 4 and business_id 9980\n",
        "clust_tuned.predict(\"rLtl8ZkDX5vH5nAx9C3q5Q\", \"zp713qNhx8d9KCJJnrw1xA\", verbose = True)"
      ]
    },
    {
      "cell_type": "code",
      "execution_count": null,
      "metadata": {
        "id": "e0f36e15"
      },
      "outputs": [],
      "source": [
        "# Getting top 5 recommendations for user_id 4 using \"Co-clustering based optimized\" algorithm\n",
        "clustering_recommendations = get_recommendations(df_final, \"rLtl8ZkDX5vH5nAx9C3q5Q\", 5, clust_tuned)"
      ]
    },
    {
      "cell_type": "code",
      "execution_count": null,
      "metadata": {
        "colab": {
          "base_uri": "https://localhost:8080/"
        },
        "id": "c186f13b",
        "outputId": "b592b433-cffc-4fb0-828b-9217857fca2b",
        "scrolled": true
      },
      "outputs": [
        {
          "output_type": "execute_result",
          "data": {
            "text/plain": [
              "              business_id  rating_count  predicted_ratings  corrected_ratings\n",
              "0  --5jkZ3-nUPZxUvtcbr8Uw            11                  5           4.698489\n",
              "1  -Mf4I8Jr_Vly37Z3Mgf0zQ            10                  5           4.683772\n",
              "2  -7XuLxfYwZ9x72mEKXdv0A             5                  5           4.552786\n",
              "3  -JYWpdJfMkqCTA_7fyz6Cw             4                  5           4.500000\n",
              "4  -CZ78c-H3tTxpP-uQ09CWw             3                  5           4.422650"
            ],
            "text/html": [
              "\n",
              "  <div id=\"df-3bff858a-e733-4737-a239-ab51594ef0ed\" class=\"colab-df-container\">\n",
              "    <div>\n",
              "<style scoped>\n",
              "    .dataframe tbody tr th:only-of-type {\n",
              "        vertical-align: middle;\n",
              "    }\n",
              "\n",
              "    .dataframe tbody tr th {\n",
              "        vertical-align: top;\n",
              "    }\n",
              "\n",
              "    .dataframe thead th {\n",
              "        text-align: right;\n",
              "    }\n",
              "</style>\n",
              "<table border=\"1\" class=\"dataframe\">\n",
              "  <thead>\n",
              "    <tr style=\"text-align: right;\">\n",
              "      <th></th>\n",
              "      <th>business_id</th>\n",
              "      <th>rating_count</th>\n",
              "      <th>predicted_ratings</th>\n",
              "      <th>corrected_ratings</th>\n",
              "    </tr>\n",
              "  </thead>\n",
              "  <tbody>\n",
              "    <tr>\n",
              "      <th>0</th>\n",
              "      <td>--5jkZ3-nUPZxUvtcbr8Uw</td>\n",
              "      <td>11</td>\n",
              "      <td>5</td>\n",
              "      <td>4.698489</td>\n",
              "    </tr>\n",
              "    <tr>\n",
              "      <th>1</th>\n",
              "      <td>-Mf4I8Jr_Vly37Z3Mgf0zQ</td>\n",
              "      <td>10</td>\n",
              "      <td>5</td>\n",
              "      <td>4.683772</td>\n",
              "    </tr>\n",
              "    <tr>\n",
              "      <th>2</th>\n",
              "      <td>-7XuLxfYwZ9x72mEKXdv0A</td>\n",
              "      <td>5</td>\n",
              "      <td>5</td>\n",
              "      <td>4.552786</td>\n",
              "    </tr>\n",
              "    <tr>\n",
              "      <th>3</th>\n",
              "      <td>-JYWpdJfMkqCTA_7fyz6Cw</td>\n",
              "      <td>4</td>\n",
              "      <td>5</td>\n",
              "      <td>4.500000</td>\n",
              "    </tr>\n",
              "    <tr>\n",
              "      <th>4</th>\n",
              "      <td>-CZ78c-H3tTxpP-uQ09CWw</td>\n",
              "      <td>3</td>\n",
              "      <td>5</td>\n",
              "      <td>4.422650</td>\n",
              "    </tr>\n",
              "  </tbody>\n",
              "</table>\n",
              "</div>\n",
              "    <div class=\"colab-df-buttons\">\n",
              "\n",
              "  <div class=\"colab-df-container\">\n",
              "    <button class=\"colab-df-convert\" onclick=\"convertToInteractive('df-3bff858a-e733-4737-a239-ab51594ef0ed')\"\n",
              "            title=\"Convert this dataframe to an interactive table.\"\n",
              "            style=\"display:none;\">\n",
              "\n",
              "  <svg xmlns=\"http://www.w3.org/2000/svg\" height=\"24px\" viewBox=\"0 -960 960 960\">\n",
              "    <path d=\"M120-120v-720h720v720H120Zm60-500h600v-160H180v160Zm220 220h160v-160H400v160Zm0 220h160v-160H400v160ZM180-400h160v-160H180v160Zm440 0h160v-160H620v160ZM180-180h160v-160H180v160Zm440 0h160v-160H620v160Z\"/>\n",
              "  </svg>\n",
              "    </button>\n",
              "\n",
              "  <style>\n",
              "    .colab-df-container {\n",
              "      display:flex;\n",
              "      gap: 12px;\n",
              "    }\n",
              "\n",
              "    .colab-df-convert {\n",
              "      background-color: #E8F0FE;\n",
              "      border: none;\n",
              "      border-radius: 50%;\n",
              "      cursor: pointer;\n",
              "      display: none;\n",
              "      fill: #1967D2;\n",
              "      height: 32px;\n",
              "      padding: 0 0 0 0;\n",
              "      width: 32px;\n",
              "    }\n",
              "\n",
              "    .colab-df-convert:hover {\n",
              "      background-color: #E2EBFA;\n",
              "      box-shadow: 0px 1px 2px rgba(60, 64, 67, 0.3), 0px 1px 3px 1px rgba(60, 64, 67, 0.15);\n",
              "      fill: #174EA6;\n",
              "    }\n",
              "\n",
              "    .colab-df-buttons div {\n",
              "      margin-bottom: 4px;\n",
              "    }\n",
              "\n",
              "    [theme=dark] .colab-df-convert {\n",
              "      background-color: #3B4455;\n",
              "      fill: #D2E3FC;\n",
              "    }\n",
              "\n",
              "    [theme=dark] .colab-df-convert:hover {\n",
              "      background-color: #434B5C;\n",
              "      box-shadow: 0px 1px 3px 1px rgba(0, 0, 0, 0.15);\n",
              "      filter: drop-shadow(0px 1px 2px rgba(0, 0, 0, 0.3));\n",
              "      fill: #FFFFFF;\n",
              "    }\n",
              "  </style>\n",
              "\n",
              "    <script>\n",
              "      const buttonEl =\n",
              "        document.querySelector('#df-3bff858a-e733-4737-a239-ab51594ef0ed button.colab-df-convert');\n",
              "      buttonEl.style.display =\n",
              "        google.colab.kernel.accessAllowed ? 'block' : 'none';\n",
              "\n",
              "      async function convertToInteractive(key) {\n",
              "        const element = document.querySelector('#df-3bff858a-e733-4737-a239-ab51594ef0ed');\n",
              "        const dataTable =\n",
              "          await google.colab.kernel.invokeFunction('convertToInteractive',\n",
              "                                                    [key], {});\n",
              "        if (!dataTable) return;\n",
              "\n",
              "        const docLinkHtml = 'Like what you see? Visit the ' +\n",
              "          '<a target=\"_blank\" href=https://colab.research.google.com/notebooks/data_table.ipynb>data table notebook</a>'\n",
              "          + ' to learn more about interactive tables.';\n",
              "        element.innerHTML = '';\n",
              "        dataTable['output_type'] = 'display_data';\n",
              "        await google.colab.output.renderOutput(dataTable, element);\n",
              "        const docLink = document.createElement('div');\n",
              "        docLink.innerHTML = docLinkHtml;\n",
              "        element.appendChild(docLink);\n",
              "      }\n",
              "    </script>\n",
              "  </div>\n",
              "\n",
              "\n",
              "<div id=\"df-5c88f4da-1126-4c8d-99a1-c24d89ba862c\">\n",
              "  <button class=\"colab-df-quickchart\" onclick=\"quickchart('df-5c88f4da-1126-4c8d-99a1-c24d89ba862c')\"\n",
              "            title=\"Suggest charts\"\n",
              "            style=\"display:none;\">\n",
              "\n",
              "<svg xmlns=\"http://www.w3.org/2000/svg\" height=\"24px\"viewBox=\"0 0 24 24\"\n",
              "     width=\"24px\">\n",
              "    <g>\n",
              "        <path d=\"M19 3H5c-1.1 0-2 .9-2 2v14c0 1.1.9 2 2 2h14c1.1 0 2-.9 2-2V5c0-1.1-.9-2-2-2zM9 17H7v-7h2v7zm4 0h-2V7h2v10zm4 0h-2v-4h2v4z\"/>\n",
              "    </g>\n",
              "</svg>\n",
              "  </button>\n",
              "\n",
              "<style>\n",
              "  .colab-df-quickchart {\n",
              "      --bg-color: #E8F0FE;\n",
              "      --fill-color: #1967D2;\n",
              "      --hover-bg-color: #E2EBFA;\n",
              "      --hover-fill-color: #174EA6;\n",
              "      --disabled-fill-color: #AAA;\n",
              "      --disabled-bg-color: #DDD;\n",
              "  }\n",
              "\n",
              "  [theme=dark] .colab-df-quickchart {\n",
              "      --bg-color: #3B4455;\n",
              "      --fill-color: #D2E3FC;\n",
              "      --hover-bg-color: #434B5C;\n",
              "      --hover-fill-color: #FFFFFF;\n",
              "      --disabled-bg-color: #3B4455;\n",
              "      --disabled-fill-color: #666;\n",
              "  }\n",
              "\n",
              "  .colab-df-quickchart {\n",
              "    background-color: var(--bg-color);\n",
              "    border: none;\n",
              "    border-radius: 50%;\n",
              "    cursor: pointer;\n",
              "    display: none;\n",
              "    fill: var(--fill-color);\n",
              "    height: 32px;\n",
              "    padding: 0;\n",
              "    width: 32px;\n",
              "  }\n",
              "\n",
              "  .colab-df-quickchart:hover {\n",
              "    background-color: var(--hover-bg-color);\n",
              "    box-shadow: 0 1px 2px rgba(60, 64, 67, 0.3), 0 1px 3px 1px rgba(60, 64, 67, 0.15);\n",
              "    fill: var(--button-hover-fill-color);\n",
              "  }\n",
              "\n",
              "  .colab-df-quickchart-complete:disabled,\n",
              "  .colab-df-quickchart-complete:disabled:hover {\n",
              "    background-color: var(--disabled-bg-color);\n",
              "    fill: var(--disabled-fill-color);\n",
              "    box-shadow: none;\n",
              "  }\n",
              "\n",
              "  .colab-df-spinner {\n",
              "    border: 2px solid var(--fill-color);\n",
              "    border-color: transparent;\n",
              "    border-bottom-color: var(--fill-color);\n",
              "    animation:\n",
              "      spin 1s steps(1) infinite;\n",
              "  }\n",
              "\n",
              "  @keyframes spin {\n",
              "    0% {\n",
              "      border-color: transparent;\n",
              "      border-bottom-color: var(--fill-color);\n",
              "      border-left-color: var(--fill-color);\n",
              "    }\n",
              "    20% {\n",
              "      border-color: transparent;\n",
              "      border-left-color: var(--fill-color);\n",
              "      border-top-color: var(--fill-color);\n",
              "    }\n",
              "    30% {\n",
              "      border-color: transparent;\n",
              "      border-left-color: var(--fill-color);\n",
              "      border-top-color: var(--fill-color);\n",
              "      border-right-color: var(--fill-color);\n",
              "    }\n",
              "    40% {\n",
              "      border-color: transparent;\n",
              "      border-right-color: var(--fill-color);\n",
              "      border-top-color: var(--fill-color);\n",
              "    }\n",
              "    60% {\n",
              "      border-color: transparent;\n",
              "      border-right-color: var(--fill-color);\n",
              "    }\n",
              "    80% {\n",
              "      border-color: transparent;\n",
              "      border-right-color: var(--fill-color);\n",
              "      border-bottom-color: var(--fill-color);\n",
              "    }\n",
              "    90% {\n",
              "      border-color: transparent;\n",
              "      border-bottom-color: var(--fill-color);\n",
              "    }\n",
              "  }\n",
              "</style>\n",
              "\n",
              "  <script>\n",
              "    async function quickchart(key) {\n",
              "      const quickchartButtonEl =\n",
              "        document.querySelector('#' + key + ' button');\n",
              "      quickchartButtonEl.disabled = true;  // To prevent multiple clicks.\n",
              "      quickchartButtonEl.classList.add('colab-df-spinner');\n",
              "      try {\n",
              "        const charts = await google.colab.kernel.invokeFunction(\n",
              "            'suggestCharts', [key], {});\n",
              "      } catch (error) {\n",
              "        console.error('Error during call to suggestCharts:', error);\n",
              "      }\n",
              "      quickchartButtonEl.classList.remove('colab-df-spinner');\n",
              "      quickchartButtonEl.classList.add('colab-df-quickchart-complete');\n",
              "    }\n",
              "    (() => {\n",
              "      let quickchartButtonEl =\n",
              "        document.querySelector('#df-5c88f4da-1126-4c8d-99a1-c24d89ba862c button');\n",
              "      quickchartButtonEl.style.display =\n",
              "        google.colab.kernel.accessAllowed ? 'block' : 'none';\n",
              "    })();\n",
              "  </script>\n",
              "</div>\n",
              "\n",
              "    </div>\n",
              "  </div>\n"
            ],
            "application/vnd.google.colaboratory.intrinsic+json": {
              "type": "dataframe",
              "summary": "{\n  \"name\": \"ranking_products(clustering_recommendations, final_rating)\",\n  \"rows\": 5,\n  \"fields\": [\n    {\n      \"column\": \"business_id\",\n      \"properties\": {\n        \"dtype\": \"string\",\n        \"num_unique_values\": 5,\n        \"samples\": [\n          \"-Mf4I8Jr_Vly37Z3Mgf0zQ\",\n          \"-CZ78c-H3tTxpP-uQ09CWw\",\n          \"-7XuLxfYwZ9x72mEKXdv0A\"\n        ],\n        \"semantic_type\": \"\",\n        \"description\": \"\"\n      }\n    },\n    {\n      \"column\": \"rating_count\",\n      \"properties\": {\n        \"dtype\": \"number\",\n        \"std\": 3,\n        \"min\": 3,\n        \"max\": 11,\n        \"num_unique_values\": 5,\n        \"samples\": [\n          10,\n          3,\n          5\n        ],\n        \"semantic_type\": \"\",\n        \"description\": \"\"\n      }\n    },\n    {\n      \"column\": \"predicted_ratings\",\n      \"properties\": {\n        \"dtype\": \"number\",\n        \"std\": 0,\n        \"min\": 5,\n        \"max\": 5,\n        \"num_unique_values\": 1,\n        \"samples\": [\n          5\n        ],\n        \"semantic_type\": \"\",\n        \"description\": \"\"\n      }\n    },\n    {\n      \"column\": \"corrected_ratings\",\n      \"properties\": {\n        \"dtype\": \"number\",\n        \"std\": 0.11869079225042053,\n        \"min\": 4.422649730810374,\n        \"max\": 4.698488655422237,\n        \"num_unique_values\": 5,\n        \"samples\": [\n          4.683772233983162\n        ],\n        \"semantic_type\": \"\",\n        \"description\": \"\"\n      }\n    }\n  ]\n}"
            }
          },
          "metadata": {},
          "execution_count": 65
        }
      ],
      "source": [
        "# Ranking restaurants based on above recommendations\n",
        "ranking_products(clustering_recommendations, final_rating)"
      ]
    },
    {
      "cell_type": "markdown",
      "metadata": {
        "id": "nnwPwgjB8DwS"
      },
      "source": [
        "### **Conclusion**"
      ]
    },
    {
      "cell_type": "markdown",
      "metadata": {
        "id": "WJ4L2PwQvOOM"
      },
      "source": [
        "In this case study, we built recommendation systems using five different algorithms. They are as follows:\n",
        "- Rank-based using averages\n",
        "- User-user-similarity-based collaborative filtering\n",
        "- Item-item-similarity-based collaborative filtering\n",
        "- model-based (matrix factorization) collaborative filtering\n",
        "- Clustering based recommendation systems  \n",
        "\n",
        "- We have seen how they are different from each other and what kind of data is needed to build each of these recommendation systems. We can further combine all the recommendation techniques we have seen.\n",
        "\n",
        "- To demonstrate **\"user-user-similarity-based collaborative filtering\",\"item-item-similarity-based collaborative filtering\", and \"model-based (matrix factorization) collaborative filtering\"**, **surprise** library has been introduced. For these algorithms **grid search cross-validation is applied to find the best working model**, and using that the **corresponding predictions are done**.\n",
        "\n",
        "- **For performance evaluation** of these models **precision@k and recall@k** are introduced in this case study. Using these two metrics **F_1 score** is calculated for each working model."
      ]
    }
  ],
  "metadata": {
    "colab": {
      "provenance": []
    },
    "kernelspec": {
      "display_name": "Python 3 (ipykernel)",
      "language": "python",
      "name": "python3"
    },
    "language_info": {
      "codemirror_mode": {
        "name": "ipython",
        "version": 3
      },
      "file_extension": ".py",
      "mimetype": "text/x-python",
      "name": "python",
      "nbconvert_exporter": "python",
      "pygments_lexer": "ipython3",
      "version": "3.9.7"
    }
  },
  "nbformat": 4,
  "nbformat_minor": 0
}